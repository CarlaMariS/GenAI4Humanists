{
 "cells": [
  {
   "cell_type": "markdown",
   "metadata": {
    "application/vnd.databricks.v1+cell": {
     "cellMetadata": {
      "byteLimit": 2048000,
      "rowLimit": 10000
     },
     "inputWidgets": {},
     "nuid": "30a0635d-0c62-49ec-a325-88ce54ba9852",
     "showTitle": false,
     "title": ""
    },
    "id": "b0L5n3kwNdj9"
   },
   "source": [
    "### Intro to LlamaIndex  \n",
    "Sources: [1](https://lmy.medium.com/comparing-langchain-and-llamaindex-with-4-tasks-2970140edf33), [2](https://docs.llamaindex.ai/en/stable/), [3](https://github.com/run-llama/llama_index), [4](https://nanonets.com/blog/llamaindex/)  \n",
    "\n",
    "#### Retrieval Augmented Generation (RAG)\n",
    "LLMs are trained on enormous bodies of data but they aren’t trained on your data. Retrieval-Augmented Generation (RAG) solves this problem by adding your data to the data LLMs already have access to. You will see references to RAG frequently in this documentation.  \n",
    "In RAG, your data is loaded and prepared for queries or “indexed”. User queries act on the index, which filters your data down to the most relevant context. This context and your query then go to the LLM along with a prompt, and the LLM provides a response.  \n",
    "Even if what you’re building is a chatbot or an agent, you’ll want to know RAG techniques for getting data into your application.  \n",
    "\n",
    "#### Stages within RAG\n",
    "There are five key stages within RAG, which in turn will be a part of any larger application you build. These are:\n",
    "+ Loading: this refers to getting your data from where it lives – whether it’s text files, PDFs, another website, a database, or an API – into your pipeline. LlamaHub provides hundreds of connectors to choose from.\n",
    "+ Indexing: this means creating a data structure that allows for querying the data. For LLMs this nearly always means creating vector embeddings, numerical representations of the meaning of your data, as well as numerous other metadata strategies to make it easy to accurately find contextually relevant data.\n",
    "+ Storing: once your data is indexed you will almost always want to store your index, as well as other metadata, to avoid having to re-index it.\n",
    "+ Querying: for any given indexing strategy there are many ways you can utilize LLMs and LlamaIndex data structures to query, including sub-queries, multi-step queries and hybrid strategies.\n",
    "+ Evaluation: a critical step in any pipeline is checking how effective it is relative to other strategies, or when you make changes. Evaluation provides objective measures of how accurate, faithful and fast your responses to queries are.\n",
    "\n",
    "#### Important concepts within each step\n",
    "There are also some terms you’ll encounter that refer to steps within each of these stages.  \n",
    "+ Loading stage\n",
    "**Nodes** and **Documents**: A Document is a container around any data source - for instance, a PDF, an API output, or retrieve data from a database.  \n",
    "A Node is the atomic unit of data in LlamaIndex and represents a “chunk” of a source Document. Nodes have metadata that relate them to the document they are in and to other nodes.  \n",
    "**Connectors**: A data connector (often called a Reader) ingests data from different data sources and data formats into Documents and Nodes.  \n",
    "\n",
    "+ Indexing Stage  \n",
    "**Indexes**: Once you’ve ingested your data, LlamaIndex will help you index the data into a structure that’s easy to retrieve. This usually involves generating vector embeddings which are stored in a specialized database called a vector store. Indexes can also store a variety of metadata about your data.  \n",
    "**Embeddings** LLMs generate numerical representations of data called embeddings. When filtering your data for relevance, LlamaIndex will convert queries into embeddings, and your vector store will find data that is numerically similar to the embedding of your query.  \n",
    "\n",
    "+ Querying Stage\n",
    "**Retrievers**: A retriever defines how to efficiently retrieve relevant context from an index when given a query. Your retrieval strategy is key to the relevancy of the data retrieved and the efficiency with which it’s done.  \n",
    "**Routers**: A router determines which retriever will be used to retrieve relevant context from the knowledge base. More specifically, the RouterRetriever class, is responsible for selecting one or multiple candidate retrievers to execute a query. They use a selector to choose the best option based on each candidate’s metadata and the query.  \n",
    "Node Postprocessors: A node postprocessor takes in a set of retrieved nodes and applies transformations, filtering, or re-ranking logic to them.  \n",
    "Response Synthesizers: A response synthesizer generates a response from an LLM, using a user query and a given set of retrieved text chunks.  \n",
    "\n",
    "#### Putting it all together\n",
    "There are endless use cases for data-backed LLM applications but they can be roughly grouped into three categories:\n",
    "\n",
    "+ Query Engines: A query engine is an end-to-end pipeline that allows you to ask questions over your data. It takes in a natural language query, and returns a response, along with reference context retrieved and passed to the LLM.\n",
    "+ Chat Engines: A chat engine is an end-to-end pipeline for having a conversation with your data (multiple back-and-forth instead of a single question-and-answer).\n",
    "+ Agents: An agent is an automated decision-maker powered by an LLM that interacts with the world via a set of tools. Agents can take an arbitrary number of steps to complete a given task, dynamically deciding on the best course of action rather than following pre-determined steps. This gives it additional flexibility to tackle more complex tasks.  "
   ]
  },
  {
   "cell_type": "markdown",
   "metadata": {
    "application/vnd.databricks.v1+cell": {
     "cellMetadata": {
      "byteLimit": 2048000,
      "rowLimit": 10000
     },
     "inputWidgets": {},
     "nuid": "7fabe163-b043-407c-bd24-780e277a0e98",
     "showTitle": false,
     "title": ""
    },
    "id": "HyWM-ThgNdj_"
   },
   "source": [
    "#### Installing Packages"
   ]
  },
  {
   "cell_type": "code",
   "execution_count": 1,
   "metadata": {
    "application/vnd.databricks.v1+cell": {
     "cellMetadata": {
      "byteLimit": 2048000,
      "rowLimit": 10000
     },
     "inputWidgets": {},
     "nuid": "2c66c693-d00b-4efc-a585-eb95ad7d93eb",
     "showTitle": false,
     "title": "ro"
    },
    "colab": {
     "base_uri": "https://localhost:8080/"
    },
    "executionInfo": {
     "elapsed": 58959,
     "status": "ok",
     "timestamp": 1714120484723,
     "user": {
      "displayName": "Renato Rocha Souza",
      "userId": "08757946413431057160"
     },
     "user_tz": -120
    },
    "id": "1hOqc6qhNdkA",
    "outputId": "85c7a624-7116-4b6b-8d07-0d02fc01a6a0"
   },
   "outputs": [
    {
     "name": "stdout",
     "output_type": "stream",
     "text": [
      "Collecting llama-index-experimental\n",
      "  Downloading llama_index_experimental-0.1.3-py3-none-any.whl (11 kB)\n",
      "Requirement already satisfied: llama-index-core<0.11.0,>=0.10.11.post1 in /home/renato/Documents/env_default/lib/python3.10/site-packages (from llama-index-experimental) (0.10.36)\n",
      "Requirement already satisfied: networkx>=3.0 in /home/renato/Documents/env_default/lib/python3.10/site-packages (from llama-index-core<0.11.0,>=0.10.11.post1->llama-index-experimental) (3.0)\n",
      "Requirement already satisfied: dirtyjson<2.0.0,>=1.0.8 in /home/renato/Documents/env_default/lib/python3.10/site-packages (from llama-index-core<0.11.0,>=0.10.11.post1->llama-index-experimental) (1.0.8)\n",
      "Requirement already satisfied: requests>=2.31.0 in /home/renato/Documents/env_default/lib/python3.10/site-packages (from llama-index-core<0.11.0,>=0.10.11.post1->llama-index-experimental) (2.31.0)\n",
      "Requirement already satisfied: llamaindex-py-client<0.2.0,>=0.1.18 in /home/renato/Documents/env_default/lib/python3.10/site-packages (from llama-index-core<0.11.0,>=0.10.11.post1->llama-index-experimental) (0.1.19)\n",
      "Requirement already satisfied: typing-extensions>=4.5.0 in /home/renato/Documents/env_default/lib/python3.10/site-packages (from llama-index-core<0.11.0,>=0.10.11.post1->llama-index-experimental) (4.11.0)\n",
      "Requirement already satisfied: nltk<4.0.0,>=3.8.1 in /home/renato/Documents/env_default/lib/python3.10/site-packages (from llama-index-core<0.11.0,>=0.10.11.post1->llama-index-experimental) (3.8.1)\n",
      "Requirement already satisfied: typing-inspect>=0.8.0 in /home/renato/Documents/env_default/lib/python3.10/site-packages (from llama-index-core<0.11.0,>=0.10.11.post1->llama-index-experimental) (0.9.0)\n",
      "Requirement already satisfied: numpy in /home/renato/Documents/env_default/lib/python3.10/site-packages (from llama-index-core<0.11.0,>=0.10.11.post1->llama-index-experimental) (1.23.5)\n",
      "Requirement already satisfied: pandas in /home/renato/Documents/env_default/lib/python3.10/site-packages (from llama-index-core<0.11.0,>=0.10.11.post1->llama-index-experimental) (1.5.2)\n",
      "Requirement already satisfied: PyYAML>=6.0.1 in /home/renato/Documents/env_default/lib/python3.10/site-packages (from llama-index-core<0.11.0,>=0.10.11.post1->llama-index-experimental) (6.0.1)\n",
      "Requirement already satisfied: SQLAlchemy[asyncio]>=1.4.49 in /home/renato/Documents/env_default/lib/python3.10/site-packages (from llama-index-core<0.11.0,>=0.10.11.post1->llama-index-experimental) (2.0.30)\n",
      "Requirement already satisfied: wrapt in /home/renato/Documents/env_default/lib/python3.10/site-packages (from llama-index-core<0.11.0,>=0.10.11.post1->llama-index-experimental) (1.14.1)\n",
      "Requirement already satisfied: aiohttp<4.0.0,>=3.8.6 in /home/renato/Documents/env_default/lib/python3.10/site-packages (from llama-index-core<0.11.0,>=0.10.11.post1->llama-index-experimental) (3.9.5)\n",
      "Requirement already satisfied: tenacity<9.0.0,>=8.2.0 in /home/renato/Documents/env_default/lib/python3.10/site-packages (from llama-index-core<0.11.0,>=0.10.11.post1->llama-index-experimental) (8.3.0)\n",
      "Requirement already satisfied: tiktoken>=0.3.3 in /home/renato/Documents/env_default/lib/python3.10/site-packages (from llama-index-core<0.11.0,>=0.10.11.post1->llama-index-experimental) (0.6.0)\n",
      "Requirement already satisfied: deprecated>=1.2.9.3 in /home/renato/Documents/env_default/lib/python3.10/site-packages (from llama-index-core<0.11.0,>=0.10.11.post1->llama-index-experimental) (1.2.13)\n",
      "Requirement already satisfied: nest-asyncio<2.0.0,>=1.5.8 in /home/renato/Documents/env_default/lib/python3.10/site-packages (from llama-index-core<0.11.0,>=0.10.11.post1->llama-index-experimental) (1.6.0)\n",
      "Requirement already satisfied: tqdm<5.0.0,>=4.66.1 in /home/renato/Documents/env_default/lib/python3.10/site-packages (from llama-index-core<0.11.0,>=0.10.11.post1->llama-index-experimental) (4.66.4)\n",
      "Requirement already satisfied: fsspec>=2023.5.0 in /home/renato/Documents/env_default/lib/python3.10/site-packages (from llama-index-core<0.11.0,>=0.10.11.post1->llama-index-experimental) (2023.12.2)\n",
      "Requirement already satisfied: httpx in /home/renato/Documents/env_default/lib/python3.10/site-packages (from llama-index-core<0.11.0,>=0.10.11.post1->llama-index-experimental) (0.27.0)\n",
      "Requirement already satisfied: dataclasses-json in /home/renato/Documents/env_default/lib/python3.10/site-packages (from llama-index-core<0.11.0,>=0.10.11.post1->llama-index-experimental) (0.6.5)\n",
      "Requirement already satisfied: pillow>=9.0.0 in /home/renato/Documents/env_default/lib/python3.10/site-packages (from llama-index-core<0.11.0,>=0.10.11.post1->llama-index-experimental) (9.2.0)\n",
      "Requirement already satisfied: openai>=1.1.0 in /home/renato/Documents/env_default/lib/python3.10/site-packages (from llama-index-core<0.11.0,>=0.10.11.post1->llama-index-experimental) (1.27.0)\n",
      "Requirement already satisfied: async-timeout<5.0,>=4.0 in /home/renato/Documents/env_default/lib/python3.10/site-packages (from aiohttp<4.0.0,>=3.8.6->llama-index-core<0.11.0,>=0.10.11.post1->llama-index-experimental) (4.0.2)\n",
      "Requirement already satisfied: yarl<2.0,>=1.0 in /home/renato/Documents/env_default/lib/python3.10/site-packages (from aiohttp<4.0.0,>=3.8.6->llama-index-core<0.11.0,>=0.10.11.post1->llama-index-experimental) (1.9.4)\n",
      "Requirement already satisfied: multidict<7.0,>=4.5 in /home/renato/Documents/env_default/lib/python3.10/site-packages (from aiohttp<4.0.0,>=3.8.6->llama-index-core<0.11.0,>=0.10.11.post1->llama-index-experimental) (6.0.5)\n",
      "Requirement already satisfied: frozenlist>=1.1.1 in /home/renato/Documents/env_default/lib/python3.10/site-packages (from aiohttp<4.0.0,>=3.8.6->llama-index-core<0.11.0,>=0.10.11.post1->llama-index-experimental) (1.4.1)\n",
      "Requirement already satisfied: aiosignal>=1.1.2 in /home/renato/Documents/env_default/lib/python3.10/site-packages (from aiohttp<4.0.0,>=3.8.6->llama-index-core<0.11.0,>=0.10.11.post1->llama-index-experimental) (1.3.1)\n",
      "Requirement already satisfied: attrs>=17.3.0 in /home/renato/Documents/env_default/lib/python3.10/site-packages (from aiohttp<4.0.0,>=3.8.6->llama-index-core<0.11.0,>=0.10.11.post1->llama-index-experimental) (22.1.0)\n",
      "Requirement already satisfied: pydantic>=1.10 in /home/renato/Documents/env_default/lib/python3.10/site-packages (from llamaindex-py-client<0.2.0,>=0.1.18->llama-index-core<0.11.0,>=0.10.11.post1->llama-index-experimental) (1.10.12)\n",
      "Requirement already satisfied: httpcore==1.* in /home/renato/Documents/env_default/lib/python3.10/site-packages (from httpx->llama-index-core<0.11.0,>=0.10.11.post1->llama-index-experimental) (1.0.5)\n",
      "Requirement already satisfied: idna in /home/renato/Documents/env_default/lib/python3.10/site-packages (from httpx->llama-index-core<0.11.0,>=0.10.11.post1->llama-index-experimental) (3.3)\n",
      "Requirement already satisfied: sniffio in /home/renato/Documents/env_default/lib/python3.10/site-packages (from httpx->llama-index-core<0.11.0,>=0.10.11.post1->llama-index-experimental) (1.3.0)\n",
      "Requirement already satisfied: anyio in /home/renato/Documents/env_default/lib/python3.10/site-packages (from httpx->llama-index-core<0.11.0,>=0.10.11.post1->llama-index-experimental) (3.6.1)\n",
      "Requirement already satisfied: certifi in /home/renato/Documents/env_default/lib/python3.10/site-packages (from httpx->llama-index-core<0.11.0,>=0.10.11.post1->llama-index-experimental) (2022.6.15)\n",
      "Requirement already satisfied: h11<0.15,>=0.13 in /home/renato/Documents/env_default/lib/python3.10/site-packages (from httpcore==1.*->httpx->llama-index-core<0.11.0,>=0.10.11.post1->llama-index-experimental) (0.14.0)\n",
      "Requirement already satisfied: joblib in /home/renato/Documents/env_default/lib/python3.10/site-packages (from nltk<4.0.0,>=3.8.1->llama-index-core<0.11.0,>=0.10.11.post1->llama-index-experimental) (1.2.0)\n",
      "Requirement already satisfied: click in /home/renato/Documents/env_default/lib/python3.10/site-packages (from nltk<4.0.0,>=3.8.1->llama-index-core<0.11.0,>=0.10.11.post1->llama-index-experimental) (8.1.3)\n",
      "Requirement already satisfied: regex>=2021.8.3 in /home/renato/Documents/env_default/lib/python3.10/site-packages (from nltk<4.0.0,>=3.8.1->llama-index-core<0.11.0,>=0.10.11.post1->llama-index-experimental) (2022.8.17)\n",
      "Requirement already satisfied: distro<2,>=1.7.0 in /home/renato/Documents/env_default/lib/python3.10/site-packages (from openai>=1.1.0->llama-index-core<0.11.0,>=0.10.11.post1->llama-index-experimental) (1.8.0)\n",
      "Requirement already satisfied: charset-normalizer<4,>=2 in /home/renato/Documents/env_default/lib/python3.10/site-packages (from requests>=2.31.0->llama-index-core<0.11.0,>=0.10.11.post1->llama-index-experimental) (2.1.1)\n",
      "Requirement already satisfied: urllib3<3,>=1.21.1 in /home/renato/Documents/env_default/lib/python3.10/site-packages (from requests>=2.31.0->llama-index-core<0.11.0,>=0.10.11.post1->llama-index-experimental) (1.26.12)\n",
      "Requirement already satisfied: greenlet!=0.4.17 in /home/renato/Documents/env_default/lib/python3.10/site-packages (from SQLAlchemy[asyncio]>=1.4.49->llama-index-core<0.11.0,>=0.10.11.post1->llama-index-experimental) (3.0.3)\n",
      "Requirement already satisfied: mypy-extensions>=0.3.0 in /home/renato/Documents/env_default/lib/python3.10/site-packages (from typing-inspect>=0.8.0->llama-index-core<0.11.0,>=0.10.11.post1->llama-index-experimental) (1.0.0)\n",
      "Requirement already satisfied: marshmallow<4.0.0,>=3.18.0 in /home/renato/Documents/env_default/lib/python3.10/site-packages (from dataclasses-json->llama-index-core<0.11.0,>=0.10.11.post1->llama-index-experimental) (3.21.2)\n",
      "Requirement already satisfied: python-dateutil>=2.8.1 in /home/renato/Documents/env_default/lib/python3.10/site-packages (from pandas->llama-index-core<0.11.0,>=0.10.11.post1->llama-index-experimental) (2.8.2)\n",
      "Requirement already satisfied: pytz>=2020.1 in /home/renato/Documents/env_default/lib/python3.10/site-packages (from pandas->llama-index-core<0.11.0,>=0.10.11.post1->llama-index-experimental) (2022.2.1)\n",
      "Requirement already satisfied: packaging>=17.0 in /home/renato/Documents/env_default/lib/python3.10/site-packages (from marshmallow<4.0.0,>=3.18.0->dataclasses-json->llama-index-core<0.11.0,>=0.10.11.post1->llama-index-experimental) (23.2)\n",
      "Requirement already satisfied: six>=1.5 in /home/renato/Documents/env_default/lib/python3.10/site-packages (from python-dateutil>=2.8.1->pandas->llama-index-core<0.11.0,>=0.10.11.post1->llama-index-experimental) (1.12.0)\n",
      "Installing collected packages: llama-index-experimental\n",
      "Successfully installed llama-index-experimental-0.1.3\n"
     ]
    }
   ],
   "source": [
    "!pip install -q openai\n",
    "!pip install -q llama-index\n",
    "!pip install llama-index-experimental\n",
    "!pip install -q pypdf\n",
    "!pip install -q docx2txt"
   ]
  },
  {
   "cell_type": "markdown",
   "metadata": {
    "application/vnd.databricks.v1+cell": {
     "cellMetadata": {
      "byteLimit": 2048000,
      "rowLimit": 10000
     },
     "inputWidgets": {},
     "nuid": "a49d493c-7c36-4a40-8a4d-53c5648b8768",
     "showTitle": false,
     "title": ""
    },
    "id": "SG6gzO4zNdkB"
   },
   "source": [
    "#### Importing Packages"
   ]
  },
  {
   "cell_type": "code",
   "execution_count": 1,
   "metadata": {
    "application/vnd.databricks.v1+cell": {
     "cellMetadata": {
      "byteLimit": 2048000,
      "rowLimit": 10000
     },
     "inputWidgets": {},
     "nuid": "fef0c9a7-a01e-48a6-9e69-b3d9a4fc4dc1",
     "showTitle": false,
     "title": ""
    },
    "executionInfo": {
     "elapsed": 4306,
     "status": "ok",
     "timestamp": 1714120598656,
     "user": {
      "displayName": "Renato Rocha Souza",
      "userId": "08757946413431057160"
     },
     "user_tz": -120
    },
    "id": "2T8UKZJNNdkC"
   },
   "outputs": [],
   "source": [
    "import os\n",
    "#os.environ[\"OPENAI_API_KEY\"] = \"<the key>\"\n",
    "\n",
    "import sys\n",
    "import shutil\n",
    "import glob\n",
    "import logging\n",
    "from pathlib import Path\n",
    "\n",
    "import warnings\n",
    "warnings.filterwarnings('ignore')\n",
    "\n",
    "import pandas as pd\n",
    "import openai\n",
    "\n",
    "## Llamaindex readers\n",
    "from llama_index.core import SimpleDirectoryReader\n",
    "\n",
    "## LlamaIndex Index Types\n",
    "from llama_index.core import ListIndex\n",
    "from llama_index.core import VectorStoreIndex\n",
    "from llama_index.core import TreeIndex\n",
    "from llama_index.core import KeywordTableIndex\n",
    "from llama_index.core import SimpleKeywordTableIndex\n",
    "from llama_index.core import DocumentSummaryIndex\n",
    "from llama_index.core import KnowledgeGraphIndex\n",
    "from llama_index.experimental.query_engine import PandasQueryEngine\n",
    "\n",
    "\n",
    "## LlamaIndex Context Managers\n",
    "from llama_index.core import StorageContext\n",
    "from llama_index.core import load_index_from_storage\n",
    "from llama_index.core.response_synthesizers import get_response_synthesizer\n",
    "from llama_index.core.response_synthesizers import ResponseMode\n",
    "from llama_index.core.schema import Node\n",
    "\n",
    "\n",
    "## LlamaIndex Callbacks\n",
    "from llama_index.core.callbacks import CallbackManager\n",
    "from llama_index.core.callbacks import LlamaDebugHandler"
   ]
  },
  {
   "cell_type": "code",
   "execution_count": 2,
   "metadata": {
    "executionInfo": {
     "elapsed": 266,
     "status": "ok",
     "timestamp": 1714120600612,
     "user": {
      "displayName": "Renato Rocha Souza",
      "userId": "08757946413431057160"
     },
     "user_tz": -120
    },
    "id": "UlTWP4TITXbv"
   },
   "outputs": [],
   "source": [
    "import logging\n",
    "import sys\n",
    "\n",
    "#logging.basicConfig(stream=sys.stdout, level=logging.DEBUG)\n",
    "#logging.getLogger().addHandler(logging.StreamHandler(stream=sys.stdout))"
   ]
  },
  {
   "cell_type": "markdown",
   "metadata": {
    "application/vnd.databricks.v1+cell": {
     "cellMetadata": {
      "byteLimit": 2048000,
      "rowLimit": 10000
     },
     "inputWidgets": {},
     "nuid": "dc0c6ccb-fe7d-4603-8a87-afce29d981b4",
     "showTitle": false,
     "title": ""
    },
    "id": "CU1jQHWJNdkC"
   },
   "source": [
    "#### Defining Model and Endpoints"
   ]
  },
  {
   "cell_type": "code",
   "execution_count": 3,
   "metadata": {
    "application/vnd.databricks.v1+cell": {
     "cellMetadata": {
      "byteLimit": 2048000,
      "rowLimit": 10000
     },
     "inputWidgets": {},
     "nuid": "fa023fe2-37e1-48b6-a3f8-0da93fdec0c4",
     "showTitle": false,
     "title": ""
    },
    "colab": {
     "base_uri": "https://localhost:8080/"
    },
    "executionInfo": {
     "elapsed": 269,
     "status": "ok",
     "timestamp": 1714120608415,
     "user": {
      "displayName": "Renato Rocha Souza",
      "userId": "08757946413431057160"
     },
     "user_tz": -120
    },
    "id": "gYe5MhsvNdkD",
    "outputId": "1caa15a2-a8f8-4128-b058-9f712a513e82"
   },
   "outputs": [
    {
     "name": "stdout",
     "output_type": "stream",
     "text": [
      "Current dir: /home/renato/Documents/Repos/GenAI4Humanists/Notebooks\n",
      "Files in ./data/\n",
      "pdf1.pdf\n"
     ]
    }
   ],
   "source": [
    "DOCS_DIR = \"./data/\"\n",
    "PERSIST_DIR = \"./index/\"\n",
    "\n",
    "print(f\"Current dir: {os.getcwd()}\")\n",
    "\n",
    "if not os.path.exists(DOCS_DIR):\n",
    "  os.mkdir(DOCS_DIR)\n",
    "docs = os.listdir(DOCS_DIR)\n",
    "docs = [d for d in docs]\n",
    "docs.sort()\n",
    "print(f\"Files in {DOCS_DIR}\")\n",
    "for doc in docs:\n",
    "    print(doc)\n"
   ]
  },
  {
   "cell_type": "code",
   "execution_count": 4,
   "metadata": {
    "colab": {
     "base_uri": "https://localhost:8080/"
    },
    "executionInfo": {
     "elapsed": 759,
     "status": "ok",
     "timestamp": 1714120653010,
     "user": {
      "displayName": "Renato Rocha Souza",
      "userId": "08757946413431057160"
     },
     "user_tz": -120
    },
    "id": "w6kSIxuyZlWd",
    "outputId": "3505eade-a3e2-400c-d3bb-093bee211afc"
   },
   "outputs": [
    {
     "name": "stdout",
     "output_type": "stream",
     "text": [
      "Downloading file:  1\n",
      "File  1  downloaded\n",
      "All PDF files downloaded\n"
     ]
    }
   ],
   "source": [
    "import requests\n",
    "from bs4 import BeautifulSoup\n",
    "url = \"https://www.geeksforgeeks.org/how-to-extract-pdf-tables-in-python/\"\n",
    "response = requests.get(url)\n",
    "soup = BeautifulSoup(response.text, 'html.parser')\n",
    "links = soup.find_all('a')\n",
    "i = 0\n",
    "for link in links:\n",
    "    if ('.pdf' in link.get('href', [])):\n",
    "        i += 1\n",
    "        print(\"Downloading file: \", i)\n",
    "        response = requests.get(link.get('href'))\n",
    "        pdf = open(DOCS_DIR+str(i)+\".pdf\", 'wb')\n",
    "        pdf.write(response.content)\n",
    "        pdf.close()\n",
    "        print(\"File \", i, \" downloaded\")\n",
    "print(\"All PDF files downloaded\")"
   ]
  },
  {
   "cell_type": "markdown",
   "metadata": {
    "application/vnd.databricks.v1+cell": {
     "cellMetadata": {
      "byteLimit": 2048000,
      "rowLimit": 10000
     },
     "inputWidgets": {},
     "nuid": "949ec290-b02c-4e50-8f6e-46a8baa43e03",
     "showTitle": false,
     "title": ""
    },
    "id": "YqClSqbqNdkE"
   },
   "source": [
    "### Customizing a RAG Pipeline:\n",
    "\n",
    "![](https://docs.llamaindex.ai/en/stable/_static/getting_started/basic_rag.png)"
   ]
  },
  {
   "cell_type": "markdown",
   "metadata": {
    "application/vnd.databricks.v1+cell": {
     "cellMetadata": {
      "byteLimit": 2048000,
      "rowLimit": 10000
     },
     "inputWidgets": {},
     "nuid": "65febcd0-fae7-4268-983b-7d4ff55b07f7",
     "showTitle": false,
     "title": ""
    },
    "id": "6rq-v3HGNdkE"
   },
   "source": [
    "\n",
    "### Creating the Index    \n",
    "\n",
    "LlamaIndex is known for offering [different types of indexes](https://docs.llamaindex.ai/en/stable/module_guides/indexing/indexing.html); each one is more suited to a different purpose.\n",
    "***\n",
    "There are important aspects to regard, namely: indexation cost, and indexation time (speed).  \n",
    "+ Indexing Cost: The expense of indexing is a crucial factor to consider. This is particularly significant when dealing with massive datasets.  \n",
    "+ Indexing Speed: The second important issue is the time of document indexing, i.e. preparing the entire solution for operation. Indexation time varies but it is a one-off and also depends on the OpenAI server.  \n",
    "Usually, the pdf with 40 pages will take approximately 5 seconds. Imagine a huge dataset with more than 100k pages, it could take to several days. We can leverage the async method to reduce the indexing time.  \n",
    "\n",
    "![](https://miro.medium.com/v2/resize:fit:1100/format:webp/1*cyRHH_0z39JmFGeLYBWFEA.png)\n",
    "\n",
    "Sources: [1](https://betterprogramming.pub/llamaindex-how-to-use-index-correctly-6f928b8944c6), [2](https://docs.llamaindex.ai/en/stable/module_guides/indexing/indexing.html), [3](https://mikulskibartosz.name/llama-index-which-index-should-you-use)"
   ]
  },
  {
   "cell_type": "markdown",
   "metadata": {
    "application/vnd.databricks.v1+cell": {
     "cellMetadata": {
      "byteLimit": 2048000,
      "rowLimit": 10000
     },
     "inputWidgets": {},
     "nuid": "dbc6c9de-cb5f-4d3d-8074-c6a79501f711",
     "showTitle": false,
     "title": ""
    },
    "id": "rAOc_CgiNdkF"
   },
   "source": [
    "#### [Storage Context](https://docs.llamaindex.ai/en/stable/api_reference/storage.html)  \n",
    "LlamaIndex offers core abstractions around storage of Nodes, indices, and vectors. A key abstraction is the StorageContext - this contains the underlying BaseDocumentStore (for nodes), BaseIndexStore (for indices), and VectorStore (for vectors).\n",
    "StorageContext defines the storage backend for where the documents, embeddings, and indexes are stored.   \n",
    "```\n",
    "storage_context = StorageContext.from_defaults(persist_dir=\"<path/to/index>\")\n",
    "```\n",
    "You can learn more about [storage](https://docs.llamaindex.ai/en/stable/module_guides/storing/storing.html) and how to [customize](https://docs.llamaindex.ai/en/stable/module_guides/storing/customization.html) it.  "
   ]
  },
  {
   "cell_type": "markdown",
   "metadata": {
    "application/vnd.databricks.v1+cell": {
     "cellMetadata": {
      "byteLimit": 2048000,
      "rowLimit": 10000
     },
     "inputWidgets": {},
     "nuid": "e28f8b14-d314-46c2-b36e-ca37bc1219cc",
     "showTitle": false,
     "title": ""
    },
    "id": "yvJ-7OXwNdkF"
   },
   "source": [
    "#### Deleting existing Indexes  \n",
    "\n",
    "(Only if you want to recreate all indexes)"
   ]
  },
  {
   "cell_type": "code",
   "execution_count": 5,
   "metadata": {
    "application/vnd.databricks.v1+cell": {
     "cellMetadata": {
      "byteLimit": 2048000,
      "rowLimit": 10000
     },
     "inputWidgets": {},
     "nuid": "31eb3c92-f79b-4202-865d-20edc7e1c07d",
     "showTitle": false,
     "title": ""
    },
    "colab": {
     "base_uri": "https://localhost:8080/"
    },
    "executionInfo": {
     "elapsed": 279,
     "status": "ok",
     "timestamp": 1714120979397,
     "user": {
      "displayName": "Renato Rocha Souza",
      "userId": "08757946413431057160"
     },
     "user_tz": -120
    },
    "id": "f9nBFYoDNdkF",
    "outputId": "119f78d1-0351-45f9-8f02-d283c103c07d"
   },
   "outputs": [
    {
     "name": "stdout",
     "output_type": "stream",
     "text": [
      "Re-Creating Directory ./index/\n"
     ]
    }
   ],
   "source": [
    "if not os.path.exists(PERSIST_DIR):\n",
    "    print(f\"Creating Directory {PERSIST_DIR}\")\n",
    "    os.mkdir(PERSIST_DIR)\n",
    "else:\n",
    "    print(f\"Re-Creating Directory {PERSIST_DIR}\")\n",
    "    shutil.rmtree(PERSIST_DIR)\n",
    "    os.mkdir(PERSIST_DIR)"
   ]
  },
  {
   "cell_type": "markdown",
   "metadata": {
    "application/vnd.databricks.v1+cell": {
     "cellMetadata": {
      "byteLimit": 2048000,
      "rowLimit": 10000
     },
     "inputWidgets": {},
     "nuid": "de984093-b255-47fc-99a3-9bf856e9a1fa",
     "showTitle": false,
     "title": ""
    },
    "id": "zqpwAqnONdkF"
   },
   "source": [
    "#### Generic Function to create indexes"
   ]
  },
  {
   "cell_type": "code",
   "execution_count": 6,
   "metadata": {
    "application/vnd.databricks.v1+cell": {
     "cellMetadata": {
      "byteLimit": 2048000,
      "rowLimit": 10000
     },
     "inputWidgets": {},
     "nuid": "0184692b-e68b-4585-aa64-bec14876b25a",
     "showTitle": false,
     "title": ""
    },
    "executionInfo": {
     "elapsed": 325,
     "status": "ok",
     "timestamp": 1714121039510,
     "user": {
      "displayName": "Renato Rocha Souza",
      "userId": "08757946413431057160"
     },
     "user_tz": -120
    },
    "id": "V4sZqQFINdkG"
   },
   "outputs": [],
   "source": [
    "def create_retrieve_index(index_path, docs_path, index_type):\n",
    "    if not os.path.exists(index_path):\n",
    "        print(f\"Creating Directory {index_path}\")\n",
    "        os.mkdir(index_path)\n",
    "    if os.listdir(index_path) == []:\n",
    "        print(\"Loading Documents...\")\n",
    "        documents = SimpleDirectoryReader(docs_path).load_data()\n",
    "        print(\"Creating Index...\")\n",
    "        index = index_type.from_documents(documents,\n",
    "                                          show_progress=True,\n",
    "                                          )\n",
    "        print(\"Persisting Index...\")\n",
    "        index.storage_context.persist(persist_dir=index_path)\n",
    "        print(\"Done!\")\n",
    "    else:\n",
    "        print(\"Reading from Index...\")\n",
    "        index = load_index_from_storage(storage_context=StorageContext.from_defaults(persist_dir=index_path))\n",
    "        print(\"Done!\")\n",
    "    return index"
   ]
  },
  {
   "cell_type": "markdown",
   "metadata": {
    "application/vnd.databricks.v1+cell": {
     "cellMetadata": {
      "byteLimit": 2048000,
      "rowLimit": 10000
     },
     "inputWidgets": {},
     "nuid": "b9d034e8-2d70-4886-9077-aa0c04c13f30",
     "showTitle": false,
     "title": ""
    },
    "id": "vPPkFKuGNdkG"
   },
   "source": [
    "#### Some remarks:\n",
    "+ We will load documens from a directory, but you can check all integrations (readers) [here](https://llamahub.ai/?tab=loaders)  \n",
    "+ We could also transform documents in nodes and create the index directly from [nodes](https://docs.llamaindex.ai/en/stable/api_reference/service_context/node_parser.html)  \n"
   ]
  },
  {
   "cell_type": "markdown",
   "metadata": {
    "application/vnd.databricks.v1+cell": {
     "cellMetadata": {
      "byteLimit": 2048000,
      "rowLimit": 10000
     },
     "inputWidgets": {},
     "nuid": "b083ee2c-9f21-4dd0-a089-b438610007a2",
     "showTitle": false,
     "title": ""
    },
    "id": "ub7B6SlYNdkG"
   },
   "source": [
    "#### A) Creating (or loading) List Index  \n",
    "~ 1 min   \n",
    "\n",
    "The list index is a simple data structure where nodes are stored in a sequence.  \n",
    "The document texts are chunked up, converted to nodes, and stored in a list during index construction.\n",
    "The GPTListIndex index is perfect when you don’t have many documents. Instead of trying to find the relevant data, the index concatenates all chunks and sends them all to the LLM. If the resulting text is too long, the index splits the text and asks LLM to refine the answer.  \n",
    "GPTListIndex may be a good choice when we have a few questions to answer using a handful of documents. It may give us the best answer because AI will get all the available data, but it is also quite expensive. We pay per token, so sending all the documents to the LLM may not be the best idea.  \n",
    "\n",
    "![](https://miro.medium.com/v2/resize:fit:720/format:webp/0*rBBHy019pbV9kyxh.png)\n",
    "![](https://miro.medium.com/v2/resize:fit:720/format:webp/0*8ANcn6OBBVzIHAd0.png)\n",
    "![](https://miro.medium.com/v2/resize:fit:720/format:webp/0*NQAUXYHPq0wh8zhw.png)"
   ]
  },
  {
   "cell_type": "code",
   "execution_count": 7,
   "metadata": {
    "application/vnd.databricks.v1+cell": {
     "cellMetadata": {
      "byteLimit": 2048000,
      "rowLimit": 10000
     },
     "inputWidgets": {},
     "nuid": "a412ae8e-430d-4f26-9311-8fc7e9f53926",
     "showTitle": false,
     "title": ""
    },
    "colab": {
     "base_uri": "https://localhost:8080/",
     "height": 138,
     "referenced_widgets": [
      "5a2c0e20e5ec4ecc828981f7f4a6095a",
      "bd4737ff1f3e405cb9f57813ca3d7eca",
      "f914b515911d4552aa8a653f836579a1",
      "85c6531ae7d5414c85cda9e314693733",
      "6f22aed76b264ac7b4c5e2abc3aad013",
      "3b2b7ca283964dbeb5a863cc0271cc73",
      "4bf5b9b1c2fc4a58b659b47c62a49493",
      "31ca2ffae54645029830c6a494bb7b50",
      "4fbf999d27724699b86b6c3d917b729c",
      "5a3d8e83d0c8426ea812a46f72b405e1",
      "fb22aaeb86bb40b18830f8737da26dc6"
     ]
    },
    "executionInfo": {
     "elapsed": 1386,
     "status": "ok",
     "timestamp": 1714121053102,
     "user": {
      "displayName": "Renato Rocha Souza",
      "userId": "08757946413431057160"
     },
     "user_tz": -120
    },
    "id": "Gp8RlVXaNdkG",
    "outputId": "78a60d85-5f33-45e1-fad7-bf4f7698bcc4"
   },
   "outputs": [
    {
     "name": "stdout",
     "output_type": "stream",
     "text": [
      "Creating Directory ./index/ListIndex\n",
      "Loading Documents...\n",
      "Creating Index...\n"
     ]
    },
    {
     "data": {
      "application/vnd.jupyter.widget-view+json": {
       "model_id": "3cf55ae0595f488aacad58cdffab3ef3",
       "version_major": 2,
       "version_minor": 0
      },
      "text/plain": [
       "Parsing nodes:   0%|          | 0/18 [00:00<?, ?it/s]"
      ]
     },
     "metadata": {},
     "output_type": "display_data"
    },
    {
     "name": "stdout",
     "output_type": "stream",
     "text": [
      "Persisting Index...\n",
      "Done!\n"
     ]
    }
   ],
   "source": [
    "LISTINDEXDIR = PERSIST_DIR + 'ListIndex'\n",
    "listindex = create_retrieve_index(LISTINDEXDIR, DOCS_DIR, ListIndex)"
   ]
  },
  {
   "cell_type": "markdown",
   "metadata": {
    "application/vnd.databricks.v1+cell": {
     "cellMetadata": {
      "byteLimit": 2048000,
      "rowLimit": 10000
     },
     "inputWidgets": {},
     "nuid": "6d4d11e0-7b44-4f5e-bffa-05458dba0d54",
     "showTitle": false,
     "title": ""
    },
    "id": "huTiFKsVNdkG"
   },
   "source": [
    "#### B) Creating (or loading) Vector Store Index  \n",
    "~ 3 min (Local) / 7 min (OpenAI)  \n",
    "\n",
    "It is most common and simple to use, allows answering a query over a large corpus of data  \n",
    "By default, LlamaIndex uses a simple in-memory vector store, but you can use [another solution](https://docs.llamaindex.ai/en/stable/module_guides/storing/vector_stores.html)   \n",
    "VectorStoreIndex creates numerical vectors from the text using word embeddings and retrieves relevant documents based on the similarity of the vectors.  \n",
    "When we index the documents, the library chunks them into a number of nodes and calls the embeddings endpoint of OpenAI API by default.  Unlike list index, vector-store based indices generate embeddings during index construction  \n",
    "The number of API calls during indexing depends on the amount of data. GPTVectorStoreIndex can use the embeddings API or a Local Model.\n",
    "When we ask a question, it will create a vector from the question, retrieve relevant data, and pass the text to the LLM. The LLM will generate the answer using our question and the retrieved documents. Using GPTVectorStoreIndex, we can implement the most popular method of passing private data to LLMs which is to create vectors using word embeddings and find relevant documents based on the similarity between the documents and the question.  It has an obvious advantage. It is cheap to index and retrieve the data. We can also reuse the index to answer multiple questions without sending the documents to LLM many times. The disadvantage is that the quality of the answers depends on the quality of the embeddings. If the embeddings are not good enough, the LLM will not be able to generate a good responses.  \n",
    "\n",
    "![](https://miro.medium.com/v2/resize:fit:720/format:webp/0*IbHJovGnj38dDHsB.png)\n",
    "![](https://miro.medium.com/v2/resize:fit:720/format:webp/0*-9QtrMEBYrAFWDMH.png)"
   ]
  },
  {
   "cell_type": "code",
   "execution_count": 8,
   "metadata": {
    "application/vnd.databricks.v1+cell": {
     "cellMetadata": {
      "byteLimit": 2048000,
      "rowLimit": 10000
     },
     "inputWidgets": {},
     "nuid": "d72f4459-7096-48e8-8bdf-caf1b857ddc4",
     "showTitle": false,
     "title": ""
    },
    "colab": {
     "base_uri": "https://localhost:8080/",
     "height": 170,
     "referenced_widgets": [
      "2737a2b3554c4f1b86b910623744f7e6",
      "71041ba2ed144362a48f20b9bdbdcd45",
      "63cd597623ef4a61a9cb5afbf6f6b951",
      "6a46a844a28f46b7b98d61e4a86d58ec",
      "8fbc4f2ad5214d17840a844ed00aa8af",
      "9a6e8914164040fd9a13dfb051818cf9",
      "9afcdcc87b6c444aac2d92f4df92c35c",
      "c409f0d13499402fba892d129120b36e",
      "9adac731c35f48108c2a177576c9f22a",
      "ee7155ca310b4ede98bc94b072e233e8",
      "4e8d707773844df69ae0ae13a4877ede",
      "dd9e5349b7004892857df5a2a65115ce",
      "8fa82ed551174d6bb86e5bc99e07a474",
      "2db6d82d89d74485b13c86c6f8179346",
      "ef73c3b8e52d47e981ffd05659eaaa4b",
      "4d17a78630e34c2f89acf24dd9d3df86",
      "0a7e3572589e4865bc505e5c8f6311ef",
      "6dd87a5d12314693b598cdf0f57a6dca",
      "cb6e4b7ce2c140bdabd9bd14586ec6e1",
      "05a05a0a80d0434c8b6fdcd23cc22526",
      "94ce158c9a09485f8d285a25cd81c105",
      "e562ce382f904803b3b8c3cee87d868c"
     ]
    },
    "executionInfo": {
     "elapsed": 1807,
     "status": "ok",
     "timestamp": 1714121101845,
     "user": {
      "displayName": "Renato Rocha Souza",
      "userId": "08757946413431057160"
     },
     "user_tz": -120
    },
    "id": "Y7r2vmnvNdkH",
    "outputId": "817c4d1d-dc22-4702-f81b-18ed0b430746"
   },
   "outputs": [
    {
     "name": "stdout",
     "output_type": "stream",
     "text": [
      "Creating Directory ./index/VectorStoreIndex\n",
      "Loading Documents...\n",
      "Creating Index...\n"
     ]
    },
    {
     "data": {
      "application/vnd.jupyter.widget-view+json": {
       "model_id": "95bb106fc1c94b57940564adb0b2ed26",
       "version_major": 2,
       "version_minor": 0
      },
      "text/plain": [
       "Parsing nodes:   0%|          | 0/18 [00:00<?, ?it/s]"
      ]
     },
     "metadata": {},
     "output_type": "display_data"
    },
    {
     "data": {
      "application/vnd.jupyter.widget-view+json": {
       "model_id": "5de89b2df7634fca9a9a28b9a1d0dc46",
       "version_major": 2,
       "version_minor": 0
      },
      "text/plain": [
       "Generating embeddings:   0%|          | 0/18 [00:00<?, ?it/s]"
      ]
     },
     "metadata": {},
     "output_type": "display_data"
    },
    {
     "name": "stdout",
     "output_type": "stream",
     "text": [
      "Persisting Index...\n",
      "Done!\n"
     ]
    }
   ],
   "source": [
    "VECTORINDEXDIR = PERSIST_DIR + 'VectorStoreIndex'\n",
    "vectorstoreindex = create_retrieve_index(VECTORINDEXDIR, DOCS_DIR, VectorStoreIndex)"
   ]
  },
  {
   "cell_type": "markdown",
   "metadata": {
    "application/vnd.databricks.v1+cell": {
     "cellMetadata": {
      "byteLimit": 2048000,
      "rowLimit": 10000
     },
     "inputWidgets": {},
     "nuid": "20a7fded-0df1-42ee-b1dc-da78a9c721d2",
     "showTitle": false,
     "title": ""
    },
    "id": "kr3vf50JNdkH"
   },
   "source": [
    "#### C) Creating (or loading) Tree Index  \n",
    "~ 3 min  \n",
    "It is useful for summarizing a collection of documents  \n",
    "The tree index is a tree-structured index, where each node is a summary of the children's nodes.  \n",
    "During index construction, the tree is constructed in a bottoms-up fashion until we end up with a set of root nodes.  \n",
    "The tree index builds a hierarchical tree from a set of Nodes (which become leaf nodes in this tree).  \n",
    "Unlike vector index, LlamaIndex won’t call LLM to generate embedding but will generate it during query time.   \n",
    "Embeddings are lazily generated and then cached (if retriever_mode=\"embedding\" is specified during query(...)), and not during index construction.  \n",
    "\n",
    "![](https://miro.medium.com/v2/resize:fit:720/format:webp/0*906uyjc0HBDfiyzw.png)  \n",
    "![](https://miro.medium.com/v2/resize:fit:1100/format:webp/0*CpUvD5VejES-JdRq.png)"
   ]
  },
  {
   "cell_type": "code",
   "execution_count": 9,
   "metadata": {
    "application/vnd.databricks.v1+cell": {
     "cellMetadata": {
      "byteLimit": 2048000,
      "rowLimit": 10000
     },
     "inputWidgets": {},
     "nuid": "3eabfd1f-79e3-4e2f-89ba-e61f938227d1",
     "showTitle": false,
     "title": ""
    },
    "colab": {
     "base_uri": "https://localhost:8080/",
     "height": 138,
     "referenced_widgets": [
      "e691e868aca245319aaa3840f5069036",
      "298faff347d74a1789a1d8363dd97fb7",
      "92c503df6883482fb96845b3e2e87377",
      "1e7e2825c64c4bf2a806d225ec262157",
      "2598c688b83042ab972fddd379026898",
      "6c80e814cfd14744b9c05820ae52043e",
      "2a765c396bbd4601b8a056c1edef9ab1",
      "34be21093b6545a7979734207d0fa8b2",
      "edc249291cf749a2a78d7b3595b8c7df",
      "470754f4533940b5bfd9cddf5375ec6d",
      "51b9af019e7a4114af56704020adb073"
     ]
    },
    "executionInfo": {
     "elapsed": 1110,
     "status": "ok",
     "timestamp": 1714121194691,
     "user": {
      "displayName": "Renato Rocha Souza",
      "userId": "08757946413431057160"
     },
     "user_tz": -120
    },
    "id": "RA9cxi3BNdkH",
    "outputId": "c5eb5ffa-c3aa-44a2-8305-5c6a087bb347"
   },
   "outputs": [
    {
     "name": "stdout",
     "output_type": "stream",
     "text": [
      "Creating Directory ./index/TreeIndex\n",
      "Loading Documents...\n",
      "Creating Index...\n"
     ]
    },
    {
     "data": {
      "application/vnd.jupyter.widget-view+json": {
       "model_id": "e0f10a66e2cc4aaca025abbbcceb7278",
       "version_major": 2,
       "version_minor": 0
      },
      "text/plain": [
       "Parsing nodes:   0%|          | 0/18 [00:00<?, ?it/s]"
      ]
     },
     "metadata": {},
     "output_type": "display_data"
    },
    {
     "data": {
      "application/vnd.jupyter.widget-view+json": {
       "model_id": "3d276feaf5f94abe85932dacfe9b7aa3",
       "version_major": 2,
       "version_minor": 0
      },
      "text/plain": [
       "Generating summaries:   0%|          | 0/2 [00:00<?, ?it/s]"
      ]
     },
     "metadata": {},
     "output_type": "display_data"
    },
    {
     "name": "stdout",
     "output_type": "stream",
     "text": [
      "Persisting Index...\n",
      "Done!\n"
     ]
    }
   ],
   "source": [
    "TREEINDEXDIR = PERSIST_DIR + 'TreeIndex'\n",
    "treeindex = create_retrieve_index(TREEINDEXDIR, DOCS_DIR, TreeIndex)"
   ]
  },
  {
   "cell_type": "markdown",
   "metadata": {
    "application/vnd.databricks.v1+cell": {
     "cellMetadata": {
      "byteLimit": 2048000,
      "rowLimit": 10000
     },
     "inputWidgets": {},
     "nuid": "00bf881c-bac4-4c9d-bb75-9e58e655b158",
     "showTitle": false,
     "title": ""
    },
    "id": "s_gFSpbONdkI"
   },
   "source": [
    "#### D) Creating (or loading) Keyword Table Indexes (embeddings)  \n",
    "~ 14 min (Local) / 12 min (OpenAI)  \n",
    "\n",
    "It is useful for routing queries to the disparate data source  \n",
    "The keyword table index extracts keywords from each Node and builds a mapping from each keyword to the corresponding Nodes of that keyword.  \n",
    "During query time, we extract relevant keywords from the query and match those with pre-extracted Node keywords to fetch the corresponding Nodes. The extracted Nodes are passed to the Response Synthesis module. GPTKeywordTableIndex use LLM to extract keywords from each document, meaning it do require LLM calls during build time. However, if you use GPTSimpleKeywordTableIndex which uses a regex keyword extractor to extract keywords from each document, it won’t call LLM during build time  \n",
    "The bulk of the work happens at the indexing time. Every node is sent to the LLM to generate keywords, and sending every document to an LLM increases the cost of indexing. Not only because we pay for the tokens but also because calls to the Completion API of OpenAI take longer than their Embeddings API.\n",
    "\n",
    "![](https://miro.medium.com/v2/resize:fit:720/format:webp/0*DUR4yHaMam-vln3t.png)\n",
    "![](https://miro.medium.com/v2/resize:fit:720/format:webp/0*ERSNFpKoKfbIICkz.png)"
   ]
  },
  {
   "cell_type": "code",
   "execution_count": 10,
   "metadata": {
    "application/vnd.databricks.v1+cell": {
     "cellMetadata": {
      "byteLimit": 2048000,
      "rowLimit": 10000
     },
     "inputWidgets": {},
     "nuid": "ff4a410e-c54b-4a73-ac68-518d5b0185a6",
     "showTitle": false,
     "title": ""
    },
    "colab": {
     "base_uri": "https://localhost:8080/",
     "height": 170,
     "referenced_widgets": [
      "883d2847cfb94453bcb382a1b6c1d7e0",
      "63b6072f458c498ab2db221695f0f8e5",
      "5f7789d733414845b3b678f8e3175c59",
      "d25d5f219cc6412a9e71908900501ef4",
      "b76c900efa3c47389858f39d9a7d1230",
      "3f938d6311a44a7b939514c46ef0ca85",
      "40a4e5738af24c01aeeab8668f0cf1b8",
      "d93acb49fded441fbac51495cd416f99",
      "3bf561c40d3240f2a02e44028b0e2101",
      "187e8a1e1d654d5e994ca76f50a1b73f",
      "ce769541957a47569a614a58cb868e13",
      "acbceca814974d2b9b5f95bd472db8ec",
      "62c0df7f46e14233925185ef496e9d8b",
      "5eb459b7d6cc48d5b3eac0617d4de3e8",
      "f69e2305867b4cbda91b12057844bc58",
      "c70a47a6faa3499ea8941a6cb29e35d8",
      "91706bf038c745c5bcff7ee8752929ed",
      "585592b25c6043f3b938c230a09e7e03",
      "b9c9f45d73d04adebabd043b9e2fcf3c",
      "4a8cc59153fa4780b6dbf597886027b7",
      "f12b436b434647de9efff19d5c443525",
      "95e9cef0aabc47a7bbd12325e66ca9b2"
     ]
    },
    "executionInfo": {
     "elapsed": 13581,
     "status": "ok",
     "timestamp": 1714121224160,
     "user": {
      "displayName": "Renato Rocha Souza",
      "userId": "08757946413431057160"
     },
     "user_tz": -120
    },
    "id": "KlD6RNkPNdkI",
    "outputId": "7d7f6e65-a1a6-4269-df1b-705116f63dc4"
   },
   "outputs": [
    {
     "name": "stdout",
     "output_type": "stream",
     "text": [
      "Creating Directory ./index/KeywordIndex\n",
      "Loading Documents...\n",
      "Creating Index...\n"
     ]
    },
    {
     "data": {
      "application/vnd.jupyter.widget-view+json": {
       "model_id": "4b0ae50e70ab4d5295c4fd7849b0e0f7",
       "version_major": 2,
       "version_minor": 0
      },
      "text/plain": [
       "Parsing nodes:   0%|          | 0/18 [00:00<?, ?it/s]"
      ]
     },
     "metadata": {},
     "output_type": "display_data"
    },
    {
     "data": {
      "application/vnd.jupyter.widget-view+json": {
       "model_id": "786cc6699b70459592adaa2a61e5b4c4",
       "version_major": 2,
       "version_minor": 0
      },
      "text/plain": [
       "Extracting keywords from nodes:   0%|          | 0/18 [00:00<?, ?it/s]"
      ]
     },
     "metadata": {},
     "output_type": "display_data"
    },
    {
     "name": "stdout",
     "output_type": "stream",
     "text": [
      "Persisting Index...\n",
      "Done!\n"
     ]
    }
   ],
   "source": [
    "KEYWORDINDEXDIR = PERSIST_DIR + 'KeywordIndex'\n",
    "keywordindex = create_retrieve_index(KEYWORDINDEXDIR, DOCS_DIR, KeywordTableIndex)"
   ]
  },
  {
   "cell_type": "code",
   "execution_count": 11,
   "metadata": {
    "application/vnd.databricks.v1+cell": {
     "cellMetadata": {
      "byteLimit": 2048000,
      "rowLimit": 10000
     },
     "inputWidgets": {},
     "nuid": "63b37d3f-f699-4e7f-ac7f-127c85f4375e",
     "showTitle": false,
     "title": ""
    },
    "colab": {
     "base_uri": "https://localhost:8080/"
    },
    "executionInfo": {
     "elapsed": 265,
     "status": "ok",
     "timestamp": 1714121244360,
     "user": {
      "displayName": "Renato Rocha Souza",
      "userId": "08757946413431057160"
     },
     "user_tz": -120
    },
    "id": "uUeFxRzGNdkI",
    "outputId": "52567bb8-3688-4e2a-daaf-08145d9b59e0"
   },
   "outputs": [
    {
     "data": {
      "text/plain": [
       "KeywordTable(index_id='a40869ee-39b5-4183-b88d-d905bc33d46d', summary=None, table={'content': {'151c016e-a4b2-4d9c-92ad-2b0a81701673', 'e7e99342-6f56-4cd1-818c-daeb02afed5e', 'b0df894f-dc22-4168-9bb6-2eb8baab2dba', '148529ab-84bc-4c58-b55b-bf2907d262ef', 'a40ad889-ab8f-43cb-bce9-1608dc957db9', '9dd062fa-b6f8-4f30-8ab0-1d759f45ca96'}, 'table': {'151c016e-a4b2-4d9c-92ad-2b0a81701673', 'e7e99342-6f56-4cd1-818c-daeb02afed5e'}, 'energy': {'9dd062fa-b6f8-4f30-8ab0-1d759f45ca96', 'b0df894f-dc22-4168-9bb6-2eb8baab2dba', '151c016e-a4b2-4d9c-92ad-2b0a81701673'}, 'food': {'151c016e-a4b2-4d9c-92ad-2b0a81701673', 'e7e99342-6f56-4cd1-818c-daeb02afed5e'}, 'cereals': {'151c016e-a4b2-4d9c-92ad-2b0a81701673', 'e7e99342-6f56-4cd1-818c-daeb02afed5e'}, 'portion': {'151c016e-a4b2-4d9c-92ad-2b0a81701673', 'e7e99342-6f56-4cd1-818c-daeb02afed5e', '2a25fd07-0c5e-4620-a175-494ae5186072', 'b0df894f-dc22-4168-9bb6-2eb8baab2dba', '705c6d70-5fbc-41cb-a928-709ab6e58b1f', 'aab502e5-f9a6-4f05-a72a-2d2e90991c74', '9dd062fa-b6f8-4f30-8ab0-1d759f45ca96', '405cdb26-d156-40e0-929e-b90dae4dceed'}, 'groups': {'151c016e-a4b2-4d9c-92ad-2b0a81701673', 'e7e99342-6f56-4cd1-818c-daeb02afed5e'}, 'list': {'151c016e-a4b2-4d9c-92ad-2b0a81701673', 'e7e99342-6f56-4cd1-818c-daeb02afed5e'}, 'breads': {'151c016e-a4b2-4d9c-92ad-2b0a81701673', 'e7e99342-6f56-4cd1-818c-daeb02afed5e'}, 'calories': {'a40ad889-ab8f-43cb-bce9-1608dc957db9', '151c016e-a4b2-4d9c-92ad-2b0a81701673', '148529ab-84bc-4c58-b55b-bf2907d262ef', 'e7e99342-6f56-4cd1-818c-daeb02afed5e'}, 'cod': {'b0df894f-dc22-4168-9bb6-2eb8baab2dba', '9dd062fa-b6f8-4f30-8ab0-1d759f45ca96', '405cdb26-d156-40e0-929e-b90dae4dceed'}, 'potatoes': {'705c6d70-5fbc-41cb-a928-709ab6e58b1f', '405cdb26-d156-40e0-929e-b90dae4dceed'}, 'oats': {'405cdb26-d156-40e0-929e-b90dae4dceed'}, 'chicken': {'405cdb26-d156-40e0-929e-b90dae4dceed'}, 'beef': {'405cdb26-d156-40e0-929e-b90dae4dceed'}, 'burgers': {'405cdb26-d156-40e0-929e-b90dae4dceed'}, 'cockles': {'405cdb26-d156-40e0-929e-b90dae4dceed'}, 'egg': {'405cdb26-d156-40e0-929e-b90dae4dceed'}, 'fish': {'705c6d70-5fbc-41cb-a928-709ab6e58b1f', '4637e1c6-496b-4e21-a36a-b362a1386b0b', '405cdb26-d156-40e0-929e-b90dae4dceed', 'aee2a92d-e910-48cc-8f02-b51bae9e89f4'}, 'sizes': {'705c6d70-5fbc-41cb-a928-709ab6e58b1f', 'aab502e5-f9a6-4f05-a72a-2d2e90991c74', '405cdb26-d156-40e0-929e-b90dae4dceed', '2a25fd07-0c5e-4620-a175-494ae5186072'}, 'bacon': {'405cdb26-d156-40e0-929e-b90dae4dceed'}, 'ryvita': {'705c6d70-5fbc-41cb-a928-709ab6e58b1f', '405cdb26-d156-40e0-929e-b90dae4dceed'}, 'egg-fried': {'405cdb26-d156-40e0-929e-b90dae4dceed'}, 'meats': {'705c6d70-5fbc-41cb-a928-709ab6e58b1f', '405cdb26-d156-40e0-929e-b90dae4dceed'}, 'seed & oats': {'405cdb26-d156-40e0-929e-b90dae4dceed'}, 'anchovies': {'405cdb26-d156-40e0-929e-b90dae4dceed'}, 'boiled': {'405cdb26-d156-40e0-929e-b90dae4dceed'}, 'grain': {'405cdb26-d156-40e0-929e-b90dae4dceed'}, 'spaghetti': {'705c6d70-5fbc-41cb-a928-709ab6e58b1f', '405cdb26-d156-40e0-929e-b90dae4dceed'}, 'rice': {'705c6d70-5fbc-41cb-a928-709ab6e58b1f', '405cdb26-d156-40e0-929e-b90dae4dceed'}, 'portion sizes': {'705c6d70-5fbc-41cb-a928-709ab6e58b1f', 'aab502e5-f9a6-4f05-a72a-2d2e90991c74', '405cdb26-d156-40e0-929e-b90dae4dceed', '2a25fd07-0c5e-4620-a175-494ae5186072'}, 'multi': {'405cdb26-d156-40e0-929e-b90dae4dceed'}, 'fried': {'405cdb26-d156-40e0-929e-b90dae4dceed'}, 'crab': {'405cdb26-d156-40e0-929e-b90dae4dceed'}, 'duck': {'405cdb26-d156-40e0-929e-b90dae4dceed'}, 'brown': {'705c6d70-5fbc-41cb-a928-709ab6e58b1f', '405cdb26-d156-40e0-929e-b90dae4dceed'}, 'seed': {'405cdb26-d156-40e0-929e-b90dae4dceed'}, 'multi grain': {'405cdb26-d156-40e0-929e-b90dae4dceed'}, 'cakes': {'705c6d70-5fbc-41cb-a928-709ab6e58b1f', '405cdb26-d156-40e0-929e-b90dae4dceed'}, 'kipper': {'4637e1c6-496b-4e21-a36a-b362a1386b0b', 'aee2a92d-e910-48cc-8f02-b51bae9e89f4'}, 'fingers': {'4637e1c6-496b-4e21-a36a-b362a1386b0b', 'aee2a92d-e910-48cc-8f02-b51bae9e89f4'}, 'halibut': {'4637e1c6-496b-4e21-a36a-b362a1386b0b', 'aee2a92d-e910-48cc-8f02-b51bae9e89f4'}, 'fish cake': {'4637e1c6-496b-4e21-a36a-b362a1386b0b', 'aee2a92d-e910-48cc-8f02-b51bae9e89f4'}, 'gammon': {'4637e1c6-496b-4e21-a36a-b362a1386b0b', 'aee2a92d-e910-48cc-8f02-b51bae9e89f4'}, 'fish fingers': {'4637e1c6-496b-4e21-a36a-b362a1386b0b', 'aee2a92d-e910-48cc-8f02-b51bae9e89f4'}, 'herring': {'4637e1c6-496b-4e21-a36a-b362a1386b0b', 'aee2a92d-e910-48cc-8f02-b51bae9e89f4'}, 'haddock': {'4637e1c6-496b-4e21-a36a-b362a1386b0b', 'aee2a92d-e910-48cc-8f02-b51bae9e89f4'}, 'kidney': {'4637e1c6-496b-4e21-a36a-b362a1386b0b', 'aee2a92d-e910-48cc-8f02-b51bae9e89f4'}, 'liver': {'b0df894f-dc22-4168-9bb6-2eb8baab2dba', '4637e1c6-496b-4e21-a36a-b362a1386b0b', '9dd062fa-b6f8-4f30-8ab0-1d759f45ca96', 'aee2a92d-e910-48cc-8f02-b51bae9e89f4'}, 'cake': {'4637e1c6-496b-4e21-a36a-b362a1386b0b', 'aee2a92d-e910-48cc-8f02-b51bae9e89f4'}, 'ham': {'4637e1c6-496b-4e21-a36a-b362a1386b0b', 'aee2a92d-e910-48cc-8f02-b51bae9e89f4'}, 'vegetables': {'3c266c65-d44e-48ad-bc47-171e872800e2', 'f3b1c4e1-0868-4b67-b314-9a90c968f60d'}, 'cabbage': {'3c266c65-d44e-48ad-bc47-171e872800e2', 'f3b1c4e1-0868-4b67-b314-9a90c968f60d'}, 'turkey': {'3c266c65-d44e-48ad-bc47-171e872800e2', 'f3b1c4e1-0868-4b67-b314-9a90c968f60d'}, 'fruits': {'3c266c65-d44e-48ad-bc47-171e872800e2', 'f3b1c4e1-0868-4b67-b314-9a90c968f60d'}, 'blackberries': {'a40ad889-ab8f-43cb-bce9-1608dc957db9', '3c266c65-d44e-48ad-bc47-171e872800e2', '148529ab-84bc-4c58-b55b-bf2907d262ef', 'f3b1c4e1-0868-4b67-b314-9a90c968f60d'}, 'trout': {'3c266c65-d44e-48ad-bc47-171e872800e2', 'f3b1c4e1-0868-4b67-b314-9a90c968f60d'}, 'broccoli': {'3c266c65-d44e-48ad-bc47-171e872800e2', 'f3b1c4e1-0868-4b67-b314-9a90c968f60d'}, 'cauliflower': {'3c266c65-d44e-48ad-bc47-171e872800e2', 'f3b1c4e1-0868-4b67-b314-9a90c968f60d'}, 'beans': {'3c266c65-d44e-48ad-bc47-171e872800e2', 'f3b1c4e1-0868-4b67-b314-9a90c968f60d'}, 'grapes': {'3c266c65-d44e-48ad-bc47-171e872800e2', 'f3b1c4e1-0868-4b67-b314-9a90c968f60d'}, 'cherry': {'a40ad889-ab8f-43cb-bce9-1608dc957db9', '3c266c65-d44e-48ad-bc47-171e872800e2', '148529ab-84bc-4c58-b55b-bf2907d262ef', 'f3b1c4e1-0868-4b67-b314-9a90c968f60d'}, 'cucumber': {'3c266c65-d44e-48ad-bc47-171e872800e2', 'f3b1c4e1-0868-4b67-b314-9a90c968f60d'}, 'tuna': {'3c266c65-d44e-48ad-bc47-171e872800e2', 'f3b1c4e1-0868-4b67-b314-9a90c968f60d'}, 'dates': {'3c266c65-d44e-48ad-bc47-171e872800e2', 'f3b1c4e1-0868-4b67-b314-9a90c968f60d'}, 'kiwi': {'3c266c65-d44e-48ad-bc47-171e872800e2', 'f3b1c4e1-0868-4b67-b314-9a90c968f60d'}, 'taramasalata': {'3c266c65-d44e-48ad-bc47-171e872800e2', 'f3b1c4e1-0868-4b67-b314-9a90c968f60d'}, 'apple': {'a40ad889-ab8f-43cb-bce9-1608dc957db9', '3c266c65-d44e-48ad-bc47-171e872800e2', '148529ab-84bc-4c58-b55b-bf2907d262ef', 'f3b1c4e1-0868-4b67-b314-9a90c968f60d'}, 'banana': {'a40ad889-ab8f-43cb-bce9-1608dc957db9', '3c266c65-d44e-48ad-bc47-171e872800e2', '148529ab-84bc-4c58-b55b-bf2907d262ef', 'f3b1c4e1-0868-4b67-b314-9a90c968f60d'}, 'carrot': {'3c266c65-d44e-48ad-bc47-171e872800e2', 'f3b1c4e1-0868-4b67-b314-9a90c968f60d'}, 'veal': {'3c266c65-d44e-48ad-bc47-171e872800e2', 'f3b1c4e1-0868-4b67-b314-9a90c968f60d'}, 'courgette': {'3c266c65-d44e-48ad-bc47-171e872800e2', 'f3b1c4e1-0868-4b67-b314-9a90c968f60d'}, 'leek': {'3c266c65-d44e-48ad-bc47-171e872800e2', 'f3b1c4e1-0868-4b67-b314-9a90c968f60d'}, 'blackcurrant': {'3c266c65-d44e-48ad-bc47-171e872800e2', 'f3b1c4e1-0868-4b67-b314-9a90c968f60d'}, 'celery': {'3c266c65-d44e-48ad-bc47-171e872800e2', 'f3b1c4e1-0868-4b67-b314-9a90c968f60d'}, 'grapefruit': {'3c266c65-d44e-48ad-bc47-171e872800e2', 'f3b1c4e1-0868-4b67-b314-9a90c968f60d'}, 'mushrooms': {'525f2525-4346-4963-ac73-28552887df59', '9553c605-fecf-46ee-9f7f-8d26193a2d26'}, 'lentils': {'525f2525-4346-4963-ac73-28552887df59', '9553c605-fecf-46ee-9f7f-8d26193a2d26'}, 'pear': {'525f2525-4346-4963-ac73-28552887df59', 'cd4ed542-a9fd-4366-be0d-83f9e50578da', '9553c605-fecf-46ee-9f7f-8d26193a2d26', '320232b1-30a6-487d-85f7-1d76869dee1e'}, 'lettuce': {'525f2525-4346-4963-ac73-28552887df59', '9553c605-fecf-46ee-9f7f-8d26193a2d26'}, 'melon': {'525f2525-4346-4963-ac73-28552887df59', '9553c605-fecf-46ee-9f7f-8d26193a2d26'}, 'olives': {'525f2525-4346-4963-ac73-28552887df59', '9553c605-fecf-46ee-9f7f-8d26193a2d26'}, 'peas': {'525f2525-4346-4963-ac73-28552887df59', '9553c605-fecf-46ee-9f7f-8d26193a2d26'}, 'peach': {'525f2525-4346-4963-ac73-28552887df59', 'cd4ed542-a9fd-4366-be0d-83f9e50578da', '9553c605-fecf-46ee-9f7f-8d26193a2d26', '320232b1-30a6-487d-85f7-1d76869dee1e'}, 'orange': {'525f2525-4346-4963-ac73-28552887df59', 'cd4ed542-a9fd-4366-be0d-83f9e50578da', '9553c605-fecf-46ee-9f7f-8d26193a2d26', '320232b1-30a6-487d-85f7-1d76869dee1e'}, 'onion': {'525f2525-4346-4963-ac73-28552887df59', '9553c605-fecf-46ee-9f7f-8d26193a2d26'}, 'cottage cheese': {'aab502e5-f9a6-4f05-a72a-2d2e90991c74', '2a25fd07-0c5e-4620-a175-494ae5186072'}, 'soya milk': {'aab502e5-f9a6-4f05-a72a-2d2e90991c74'}, 'mousse': {'aab502e5-f9a6-4f05-a72a-2d2e90991c74', '2a25fd07-0c5e-4620-a175-494ae5186072'}, 'cheese': {'aab502e5-f9a6-4f05-a72a-2d2e90991c74', '2a25fd07-0c5e-4620-a175-494ae5186072'}, 'eggs': {'aab502e5-f9a6-4f05-a72a-2d2e90991c74', '2a25fd07-0c5e-4620-a175-494ae5186072'}, 'ice cream': {'aab502e5-f9a6-4f05-a72a-2d2e90991c74', '2a25fd07-0c5e-4620-a175-494ae5186072'}, 'cottage': {'aab502e5-f9a6-4f05-a72a-2d2e90991c74', '2a25fd07-0c5e-4620-a175-494ae5186072'}, 'ice': {'aab502e5-f9a6-4f05-a72a-2d2e90991c74', '2a25fd07-0c5e-4620-a175-494ae5186072'}, 'cream': {'aab502e5-f9a6-4f05-a72a-2d2e90991c74', '2a25fd07-0c5e-4620-a175-494ae5186072'}, 'dairy': {'aab502e5-f9a6-4f05-a72a-2d2e90991c74', '2a25fd07-0c5e-4620-a175-494ae5186072'}, 'trifle': {'aab502e5-f9a6-4f05-a72a-2d2e90991c74', '2a25fd07-0c5e-4620-a175-494ae5186072'}, 'fromage frais': {'aab502e5-f9a6-4f05-a72a-2d2e90991c74', '2a25fd07-0c5e-4620-a175-494ae5186072'}, 'omelette': {'aab502e5-f9a6-4f05-a72a-2d2e90991c74', '2a25fd07-0c5e-4620-a175-494ae5186072'}, 'cream cheese': {'aab502e5-f9a6-4f05-a72a-2d2e90991c74', '2a25fd07-0c5e-4620-a175-494ae5186072'}, 'custard': {'aab502e5-f9a6-4f05-a72a-2d2e90991c74', '2a25fd07-0c5e-4620-a175-494ae5186072'}, 'soya': {'aab502e5-f9a6-4f05-a72a-2d2e90991c74', '2a25fd07-0c5e-4620-a175-494ae5186072'}, 'fromage': {'aab502e5-f9a6-4f05-a72a-2d2e90991c74', '2a25fd07-0c5e-4620-a175-494ae5186072'}, 'yogurt': {'aab502e5-f9a6-4f05-a72a-2d2e90991c74', '2a25fd07-0c5e-4620-a175-494ae5186072'}, 'produce': {'aab502e5-f9a6-4f05-a72a-2d2e90991c74', '2a25fd07-0c5e-4620-a175-494ae5186072'}, 'milk': {'aab502e5-f9a6-4f05-a72a-2d2e90991c74', '2a25fd07-0c5e-4620-a175-494ae5186072'}, 'dairy produce': {'aab502e5-f9a6-4f05-a72a-2d2e90991c74', '2a25fd07-0c5e-4620-a175-494ae5186072'}, 'frais': {'aab502e5-f9a6-4f05-a72a-2d2e90991c74', '2a25fd07-0c5e-4620-a175-494ae5186072'}, 'chewing gum': {'b0df894f-dc22-4168-9bb6-2eb8baab2dba', '9dd062fa-b6f8-4f30-8ab0-1d759f45ca96'}, 'pure fat': {'b0df894f-dc22-4168-9bb6-2eb8baab2dba', '9dd062fa-b6f8-4f30-8ab0-1d759f45ca96'}, 'portion size': {'b0df894f-dc22-4168-9bb6-2eb8baab2dba', '9dd062fa-b6f8-4f30-8ab0-1d759f45ca96'}, 'size': {'b0df894f-dc22-4168-9bb6-2eb8baab2dba', '9dd062fa-b6f8-4f30-8ab0-1d759f45ca96'}, 'fats': {'b0df894f-dc22-4168-9bb6-2eb8baab2dba', '9dd062fa-b6f8-4f30-8ab0-1d759f45ca96'}, 'gum': {'b0df894f-dc22-4168-9bb6-2eb8baab2dba', '9dd062fa-b6f8-4f30-8ab0-1d759f45ca96'}, 'pure': {'b0df894f-dc22-4168-9bb6-2eb8baab2dba', '9dd062fa-b6f8-4f30-8ab0-1d759f45ca96'}, 'fat': {'b0df894f-dc22-4168-9bb6-2eb8baab2dba', '9dd062fa-b6f8-4f30-8ab0-1d759f45ca96'}, 'sugars': {'b0df894f-dc22-4168-9bb6-2eb8baab2dba', '9dd062fa-b6f8-4f30-8ab0-1d759f45ca96'}, 'bombay mix': {'b0df894f-dc22-4168-9bb6-2eb8baab2dba', '9dd062fa-b6f8-4f30-8ab0-1d759f45ca96'}, 'chewing': {'b0df894f-dc22-4168-9bb6-2eb8baab2dba', '9dd062fa-b6f8-4f30-8ab0-1d759f45ca96'}, 'energy content': {'b0df894f-dc22-4168-9bb6-2eb8baab2dba', '9dd062fa-b6f8-4f30-8ab0-1d759f45ca96'}, 'bombay': {'b0df894f-dc22-4168-9bb6-2eb8baab2dba', '9dd062fa-b6f8-4f30-8ab0-1d759f45ca96'}, 'mix': {'b0df894f-dc22-4168-9bb6-2eb8baab2dba', '9dd062fa-b6f8-4f30-8ab0-1d759f45ca96'}, 'chocolate': {'b0df894f-dc22-4168-9bb6-2eb8baab2dba', '9dd062fa-b6f8-4f30-8ab0-1d759f45ca96'}, 'butter': {'b0df894f-dc22-4168-9bb6-2eb8baab2dba', '9dd062fa-b6f8-4f30-8ab0-1d759f45ca96'}, 'cod liver oil': {'b0df894f-dc22-4168-9bb6-2eb8baab2dba', '9dd062fa-b6f8-4f30-8ab0-1d759f45ca96'}, 'oil': {'b0df894f-dc22-4168-9bb6-2eb8baab2dba', '9dd062fa-b6f8-4f30-8ab0-1d759f45ca96'}, 'blueberries': {'a40ad889-ab8f-43cb-bce9-1608dc957db9', '148529ab-84bc-4c58-b55b-bf2907d262ef'}, 'water content': {'a40ad889-ab8f-43cb-bce9-1608dc957db9', '148529ab-84bc-4c58-b55b-bf2907d262ef'}, 'fruit': {'a40ad889-ab8f-43cb-bce9-1608dc957db9', 'cd4ed542-a9fd-4366-be0d-83f9e50578da', '148529ab-84bc-4c58-b55b-bf2907d262ef', '320232b1-30a6-487d-85f7-1d76869dee1e'}, 'water': {'a40ad889-ab8f-43cb-bce9-1608dc957db9', '148529ab-84bc-4c58-b55b-bf2907d262ef'}, 'carbs': {'a40ad889-ab8f-43cb-bce9-1608dc957db9', '148529ab-84bc-4c58-b55b-bf2907d262ef'}, 'avocado': {'a40ad889-ab8f-43cb-bce9-1608dc957db9', '148529ab-84bc-4c58-b55b-bf2907d262ef'}, 'prunes': {'cd4ed542-a9fd-4366-be0d-83f9e50578da', '320232b1-30a6-487d-85f7-1d76869dee1e'}, 'papaya': {'cd4ed542-a9fd-4366-be0d-83f9e50578da', '320232b1-30a6-487d-85f7-1d76869dee1e'}, 'pineapple': {'cd4ed542-a9fd-4366-be0d-83f9e50578da', '320232b1-30a6-487d-85f7-1d76869dee1e'}, 'passion': {'cd4ed542-a9fd-4366-be0d-83f9e50578da', '320232b1-30a6-487d-85f7-1d76869dee1e'}, 'raisins': {'cd4ed542-a9fd-4366-be0d-83f9e50578da', '320232b1-30a6-487d-85f7-1d76869dee1e'}, 'paw': {'cd4ed542-a9fd-4366-be0d-83f9e50578da', '320232b1-30a6-487d-85f7-1d76869dee1e'}, 'passion fruit': {'cd4ed542-a9fd-4366-be0d-83f9e50578da', '320232b1-30a6-487d-85f7-1d76869dee1e'}, 'plum': {'cd4ed542-a9fd-4366-be0d-83f9e50578da', '320232b1-30a6-487d-85f7-1d76869dee1e'}, 'paw paw': {'cd4ed542-a9fd-4366-be0d-83f9e50578da', '320232b1-30a6-487d-85f7-1d76869dee1e'}, 'bagel': {'e7e99342-6f56-4cd1-818c-daeb02afed5e'}, 'low calorie': {'705c6d70-5fbc-41cb-a928-709ab6e58b1f'}, 'low': {'705c6d70-5fbc-41cb-a928-709ab6e58b1f'}, 'calorie': {'705c6d70-5fbc-41cb-a928-709ab6e58b1f'}, 'rice cakes': {'705c6d70-5fbc-41cb-a928-709ab6e58b1f'}, 'product': {'2a25fd07-0c5e-4620-a175-494ae5186072'}, 'cheddar': {'2a25fd07-0c5e-4620-a175-494ae5186072'}})"
      ]
     },
     "execution_count": 11,
     "metadata": {},
     "output_type": "execute_result"
    }
   ],
   "source": [
    "keywordindex.index_struct"
   ]
  },
  {
   "cell_type": "markdown",
   "metadata": {
    "application/vnd.databricks.v1+cell": {
     "cellMetadata": {
      "byteLimit": 2048000,
      "rowLimit": 10000
     },
     "inputWidgets": {},
     "nuid": "057342e7-b777-43f3-a078-49040d906e27",
     "showTitle": false,
     "title": ""
    },
    "id": "Rc8MtXMnNdkJ"
   },
   "source": [
    "#### D2) Creating (or loading) Simple Keyword Table Indexes (regex)  \n",
    "~ 1 min  "
   ]
  },
  {
   "cell_type": "code",
   "execution_count": 12,
   "metadata": {
    "application/vnd.databricks.v1+cell": {
     "cellMetadata": {
      "byteLimit": 2048000,
      "rowLimit": 10000
     },
     "inputWidgets": {},
     "nuid": "e2f35c49-887a-42c5-962a-57c8a81de349",
     "showTitle": false,
     "title": ""
    },
    "colab": {
     "base_uri": "https://localhost:8080/",
     "height": 170,
     "referenced_widgets": [
      "aaca5df3360c4cd2b2b8af6383b85160",
      "29db7c13edb84fe18c76a6c3ffcf54f6",
      "5cd1e36b4f764e8e89d5944f0368fdec",
      "1ab952700b614347985f836a4f88ec10",
      "82417c017d4049c2bab16f4ace02de7f",
      "ba559bf9aa9949f2b11827ec685ea7b6",
      "55a2abb70f424a18836edde5684d4629",
      "244cc16ad8f64de6bf2bfe034de82b44",
      "83e5091fa5604787ab011a30752da40f",
      "64d9874d5f2a4f5a9e43f8c299760289",
      "6d9b1ace3f8d48cabc0b66bf3630547d",
      "6ad9593efbcd49c99490d7bbbc9fb424",
      "ca5c5c1d7627480c9785650685a64314",
      "e89ce1e2eb924228894a9caf8aed5eb1",
      "49fb4e9352fd4f9aa47a436ea0e9ee00",
      "2340220022724036899cd385eee591cb",
      "70f32c743358401a851d027874b67fb4",
      "edd546afa00040c98de4b684eb41eaf5",
      "e17d08ecdb31415195bedf81a384b6d4",
      "48a3efcf37784c12baef6b52569333a8",
      "073bc2031e37489c871013a47ba15e6a",
      "5831db4be22449af9de30450e60a5a97"
     ]
    },
    "executionInfo": {
     "elapsed": 1496,
     "status": "ok",
     "timestamp": 1714121281271,
     "user": {
      "displayName": "Renato Rocha Souza",
      "userId": "08757946413431057160"
     },
     "user_tz": -120
    },
    "id": "fBREwBUZNdkJ",
    "outputId": "93313a19-5b62-4288-9d6a-ff69f218037b"
   },
   "outputs": [
    {
     "name": "stdout",
     "output_type": "stream",
     "text": [
      "Creating Directory ./index/SimpleKeywordIndex\n",
      "Loading Documents...\n",
      "Creating Index...\n"
     ]
    },
    {
     "data": {
      "application/vnd.jupyter.widget-view+json": {
       "model_id": "7b2f03c0d7314868bfd0549b3708da6e",
       "version_major": 2,
       "version_minor": 0
      },
      "text/plain": [
       "Parsing nodes:   0%|          | 0/18 [00:00<?, ?it/s]"
      ]
     },
     "metadata": {},
     "output_type": "display_data"
    },
    {
     "data": {
      "application/vnd.jupyter.widget-view+json": {
       "model_id": "12562f6c4d7d4406b1bf227d62caa32f",
       "version_major": 2,
       "version_minor": 0
      },
      "text/plain": [
       "Extracting keywords from nodes:   0%|          | 0/18 [00:00<?, ?it/s]"
      ]
     },
     "metadata": {},
     "output_type": "display_data"
    },
    {
     "name": "stdout",
     "output_type": "stream",
     "text": [
      "Persisting Index...\n",
      "Done!\n"
     ]
    }
   ],
   "source": [
    "SIMPLEKEYWORDINDEXDIR = PERSIST_DIR + 'SimpleKeywordIndex'\n",
    "simplekeywordindex = create_retrieve_index(SIMPLEKEYWORDINDEXDIR, DOCS_DIR, SimpleKeywordTableIndex)"
   ]
  },
  {
   "cell_type": "code",
   "execution_count": 13,
   "metadata": {
    "application/vnd.databricks.v1+cell": {
     "cellMetadata": {
      "byteLimit": 2048000,
      "rowLimit": 10000
     },
     "inputWidgets": {},
     "nuid": "3e32d175-b174-49c4-87a5-78df7de22418",
     "showTitle": false,
     "title": ""
    },
    "colab": {
     "base_uri": "https://localhost:8080/"
    },
    "executionInfo": {
     "elapsed": 257,
     "status": "ok",
     "timestamp": 1714121286597,
     "user": {
      "displayName": "Renato Rocha Souza",
      "userId": "08757946413431057160"
     },
     "user_tz": -120
    },
    "id": "qy1PeN1sNdkJ",
    "outputId": "262de386-01de-44a7-ae6f-a4e02a00e7df"
   },
   "outputs": [
    {
     "data": {
      "text/plain": [
       "KeywordTable(index_id='c1433be5-a1fd-4833-91d4-4b53f999cdf9', summary=None, table={'boiled': {'92941ae1-dba3-4afb-a30d-ec3e88d9da67', 'f023f8f9-3de1-4bb1-b763-fcd56397f68c', '79a6ff62-9cfb-4016-9558-4504d23eefd6', '4e50580c-a35f-4ed0-96c4-b0ada242375e', '0bb178ea-e9e7-44bc-8d1a-39383ab96f0d', 'aba6091b-600a-4d65-a716-8e6afd1fd024'}, 'low': {'92941ae1-dba3-4afb-a30d-ec3e88d9da67', 'f023f8f9-3de1-4bb1-b763-fcd56397f68c', '79a6ff62-9cfb-4016-9558-4504d23eefd6', '9ffc738f-fc99-4b80-b1e2-097fbc13d03b', '4e50580c-a35f-4ed0-96c4-b0ada242375e', '7d50972f-b8ef-423a-8b2a-d603d4ac6210', 'd4b89e53-dc22-41fd-a559-86360dcbd262', '11d62880-18a6-44f4-a6f1-7040d456689c', '0bb178ea-e9e7-44bc-8d1a-39383ab96f0d', 'aba6091b-600a-4d65-a716-8e6afd1fd024', '6a865df4-bd17-4794-b13d-9922666b7553', '44839dbb-3803-4098-84d5-9521956c7b89'}, 'high': {'d4134d1b-8408-41a7-acad-cf86ea085168', '9ffc738f-fc99-4b80-b1e2-097fbc13d03b', '7d50972f-b8ef-423a-8b2a-d603d4ac6210', 'd4b89e53-dc22-41fd-a559-86360dcbd262', '495793b7-69f6-4c51-80ac-27f72c924a65', '11d62880-18a6-44f4-a6f1-7040d456689c', '0bb178ea-e9e7-44bc-8d1a-39383ab96f0d', 'aba6091b-600a-4d65-a716-8e6afd1fd024', '6a865df4-bd17-4794-b13d-9922666b7553', '44839dbb-3803-4098-84d5-9521956c7b89'}, 'calorie': {'92941ae1-dba3-4afb-a30d-ec3e88d9da67', 'f023f8f9-3de1-4bb1-b763-fcd56397f68c', '79a6ff62-9cfb-4016-9558-4504d23eefd6', '4e50580c-a35f-4ed0-96c4-b0ada242375e', '7d50972f-b8ef-423a-8b2a-d603d4ac6210', 'd4b89e53-dc22-41fd-a559-86360dcbd262', '0bb178ea-e9e7-44bc-8d1a-39383ab96f0d', 'aba6091b-600a-4d65-a716-8e6afd1fd024', '6a865df4-bd17-4794-b13d-9922666b7553', '9ffc738f-fc99-4b80-b1e2-097fbc13d03b'}, '1': {'a01225d9-df88-4124-9b43-eb2e7a1f53b1', '2c99c50a-0cf3-4041-a802-a16422e71519', 'd4134d1b-8408-41a7-acad-cf86ea085168', '495793b7-69f6-4c51-80ac-27f72c924a65', '0bb178ea-e9e7-44bc-8d1a-39383ab96f0d', 'cff3d444-1184-4755-99e3-79ea7dcd5f74', 'd0b805c9-9986-4a56-b693-e5cfdd4450c2'}, 'cals': {'92941ae1-dba3-4afb-a30d-ec3e88d9da67', 'f023f8f9-3de1-4bb1-b763-fcd56397f68c', 'a01225d9-df88-4124-9b43-eb2e7a1f53b1', '79a6ff62-9cfb-4016-9558-4504d23eefd6', 'd4134d1b-8408-41a7-acad-cf86ea085168', '9ffc738f-fc99-4b80-b1e2-097fbc13d03b', '2c99c50a-0cf3-4041-a802-a16422e71519', '4e50580c-a35f-4ed0-96c4-b0ada242375e', '7d50972f-b8ef-423a-8b2a-d603d4ac6210', 'd4b89e53-dc22-41fd-a559-86360dcbd262', '495793b7-69f6-4c51-80ac-27f72c924a65', '11d62880-18a6-44f4-a6f1-7040d456689c', '0bb178ea-e9e7-44bc-8d1a-39383ab96f0d', 'aba6091b-600a-4d65-a716-8e6afd1fd024', '6a865df4-bd17-4794-b13d-9922666b7553', '44839dbb-3803-4098-84d5-9521956c7b89', 'cff3d444-1184-4755-99e3-79ea7dcd5f74', 'd0b805c9-9986-4a56-b693-e5cfdd4450c2'}, 'food': {'aba6091b-600a-4d65-a716-8e6afd1fd024', '0bb178ea-e9e7-44bc-8d1a-39383ab96f0d'}, 'med': {'7d50972f-b8ef-423a-8b2a-d603d4ac6210', 'd4b89e53-dc22-41fd-a559-86360dcbd262', '11d62880-18a6-44f4-a6f1-7040d456689c', '0bb178ea-e9e7-44bc-8d1a-39383ab96f0d', 'aba6091b-600a-4d65-a716-8e6afd1fd024', '6a865df4-bd17-4794-b13d-9922666b7553', '44839dbb-3803-4098-84d5-9521956c7b89'}, 'per': {'aba6091b-600a-4d65-a716-8e6afd1fd024', '495793b7-69f6-4c51-80ac-27f72c924a65', 'd4134d1b-8408-41a7-acad-cf86ea085168', '0bb178ea-e9e7-44bc-8d1a-39383ab96f0d'}, 'medium': {'f023f8f9-3de1-4bb1-b763-fcd56397f68c', 'd4134d1b-8408-41a7-acad-cf86ea085168', '9ffc738f-fc99-4b80-b1e2-097fbc13d03b', '4e50580c-a35f-4ed0-96c4-b0ada242375e', '7d50972f-b8ef-423a-8b2a-d603d4ac6210', 'd4b89e53-dc22-41fd-a559-86360dcbd262', '495793b7-69f6-4c51-80ac-27f72c924a65', '11d62880-18a6-44f4-a6f1-7040d456689c', '0bb178ea-e9e7-44bc-8d1a-39383ab96f0d', 'aba6091b-600a-4d65-a716-8e6afd1fd024', '6a865df4-bd17-4794-b13d-9922666b7553', '44839dbb-3803-4098-84d5-9521956c7b89'}, 'rice': {'9ffc738f-fc99-4b80-b1e2-097fbc13d03b', '7d50972f-b8ef-423a-8b2a-d603d4ac6210'}, '300': {'44839dbb-3803-4098-84d5-9521956c7b89', '9ffc738f-fc99-4b80-b1e2-097fbc13d03b', '11d62880-18a6-44f4-a6f1-7040d456689c'}, 'portion': {'92941ae1-dba3-4afb-a30d-ec3e88d9da67', '79a6ff62-9cfb-4016-9558-4504d23eefd6', 'd4134d1b-8408-41a7-acad-cf86ea085168', '7d50972f-b8ef-423a-8b2a-d603d4ac6210', '9ffc738f-fc99-4b80-b1e2-097fbc13d03b'}, '300g': {'9ffc738f-fc99-4b80-b1e2-097fbc13d03b', '7d50972f-b8ef-423a-8b2a-d603d4ac6210'}, '200': {'44839dbb-3803-4098-84d5-9521956c7b89', '9ffc738f-fc99-4b80-b1e2-097fbc13d03b', '7d50972f-b8ef-423a-8b2a-d603d4ac6210', '11d62880-18a6-44f4-a6f1-7040d456689c'}, '220': {'44839dbb-3803-4098-84d5-9521956c7b89', '11d62880-18a6-44f4-a6f1-7040d456689c'}, '320': {'44839dbb-3803-4098-84d5-9521956c7b89', '11d62880-18a6-44f4-a6f1-7040d456689c'}, '180': {'44839dbb-3803-4098-84d5-9521956c7b89', '11d62880-18a6-44f4-a6f1-7040d456689c'}, 'size': {'92941ae1-dba3-4afb-a30d-ec3e88d9da67', '495793b7-69f6-4c51-80ac-27f72c924a65', '79a6ff62-9cfb-4016-9558-4504d23eefd6', 'd4134d1b-8408-41a7-acad-cf86ea085168'}, '100': {'92941ae1-dba3-4afb-a30d-ec3e88d9da67', '495793b7-69f6-4c51-80ac-27f72c924a65', '79a6ff62-9cfb-4016-9558-4504d23eefd6', 'd4134d1b-8408-41a7-acad-cf86ea085168'}, '30': {'92941ae1-dba3-4afb-a30d-ec3e88d9da67', 'f023f8f9-3de1-4bb1-b763-fcd56397f68c', '79a6ff62-9cfb-4016-9558-4504d23eefd6', '4e50580c-a35f-4ed0-96c4-b0ada242375e'}, '20': {'92941ae1-dba3-4afb-a30d-ec3e88d9da67', '79a6ff62-9cfb-4016-9558-4504d23eefd6'}, 'calories': {'92941ae1-dba3-4afb-a30d-ec3e88d9da67', 'f023f8f9-3de1-4bb1-b763-fcd56397f68c', 'a01225d9-df88-4124-9b43-eb2e7a1f53b1', '79a6ff62-9cfb-4016-9558-4504d23eefd6', '2c99c50a-0cf3-4041-a802-a16422e71519', '4e50580c-a35f-4ed0-96c4-b0ada242375e', 'cff3d444-1184-4755-99e3-79ea7dcd5f74', 'd0b805c9-9986-4a56-b693-e5cfdd4450c2'}, '70': {'f023f8f9-3de1-4bb1-b763-fcd56397f68c', '4e50580c-a35f-4ed0-96c4-b0ada242375e'}, 'onion': {'f023f8f9-3de1-4bb1-b763-fcd56397f68c', '4e50580c-a35f-4ed0-96c4-b0ada242375e'}, 'cal': {'f023f8f9-3de1-4bb1-b763-fcd56397f68c', '4e50580c-a35f-4ed0-96c4-b0ada242375e'}, 'cheese': {'6a865df4-bd17-4794-b13d-9922666b7553', 'd4b89e53-dc22-41fd-a559-86360dcbd262'}, '90': {'6a865df4-bd17-4794-b13d-9922666b7553'}, 'cream': {'6a865df4-bd17-4794-b13d-9922666b7553', 'd4b89e53-dc22-41fd-a559-86360dcbd262'}, 'milk': {'6a865df4-bd17-4794-b13d-9922666b7553', 'd4b89e53-dc22-41fd-a559-86360dcbd262'}, '400': {'495793b7-69f6-4c51-80ac-27f72c924a65', 'd4134d1b-8408-41a7-acad-cf86ea085168'}, '500': {'495793b7-69f6-4c51-80ac-27f72c924a65', 'd4134d1b-8408-41a7-acad-cf86ea085168'}, '6': {'a01225d9-df88-4124-9b43-eb2e7a1f53b1', 'cff3d444-1184-4755-99e3-79ea7dcd5f74', 'd0b805c9-9986-4a56-b693-e5cfdd4450c2', '2c99c50a-0cf3-4041-a802-a16422e71519'}, '2': {'a01225d9-df88-4124-9b43-eb2e7a1f53b1', 'cff3d444-1184-4755-99e3-79ea7dcd5f74', 'd0b805c9-9986-4a56-b693-e5cfdd4450c2', '2c99c50a-0cf3-4041-a802-a16422e71519'}, '5': {'a01225d9-df88-4124-9b43-eb2e7a1f53b1', 'cff3d444-1184-4755-99e3-79ea7dcd5f74', 'd0b805c9-9986-4a56-b693-e5cfdd4450c2', '2c99c50a-0cf3-4041-a802-a16422e71519'}, '0': {'a01225d9-df88-4124-9b43-eb2e7a1f53b1', 'cff3d444-1184-4755-99e3-79ea7dcd5f74', 'd0b805c9-9986-4a56-b693-e5cfdd4450c2', '2c99c50a-0cf3-4041-a802-a16422e71519'}, '9': {'a01225d9-df88-4124-9b43-eb2e7a1f53b1', '2c99c50a-0cf3-4041-a802-a16422e71519'}, '4': {'a01225d9-df88-4124-9b43-eb2e7a1f53b1', '2c99c50a-0cf3-4041-a802-a16422e71519'}, '85': {'a01225d9-df88-4124-9b43-eb2e7a1f53b1', '2c99c50a-0cf3-4041-a802-a16422e71519'}, 'average': {'cff3d444-1184-4755-99e3-79ea7dcd5f74', 'd0b805c9-9986-4a56-b693-e5cfdd4450c2'}, 'fruit': {'cff3d444-1184-4755-99e3-79ea7dcd5f74', 'd0b805c9-9986-4a56-b693-e5cfdd4450c2'}, '8': {'cff3d444-1184-4755-99e3-79ea7dcd5f74', 'd0b805c9-9986-4a56-b693-e5cfdd4450c2'}, 'content': {'aba6091b-600a-4d65-a716-8e6afd1fd024'}, 'half': {'d4b89e53-dc22-41fd-a559-86360dcbd262'}, '900': {'495793b7-69f6-4c51-80ac-27f72c924a65'}})"
      ]
     },
     "execution_count": 13,
     "metadata": {},
     "output_type": "execute_result"
    }
   ],
   "source": [
    "simplekeywordindex.index_struct"
   ]
  },
  {
   "cell_type": "markdown",
   "metadata": {
    "application/vnd.databricks.v1+cell": {
     "cellMetadata": {
      "byteLimit": 2048000,
      "rowLimit": 10000
     },
     "inputWidgets": {},
     "nuid": "2b8161b9-e090-486d-8ee5-207043f31488",
     "showTitle": false,
     "title": ""
    },
    "id": "bH1Oio-kNdkJ"
   },
   "source": [
    "#### E) Creating (or loading) Document Summary Index  \n",
    "~ 19 min (Local) / 17 min (OpenAI)  \n",
    "\n",
    "This index can extract and index an unstructured text summary for each document, which enhances retrieval performance beyond existing approaches. It contains more information than a single text chunk and carries more semantic meaning than keyword tags. It also allows for flexible retrieval, including both LLM and embedding-based approaches. During build-time, this index ingests document and use LLM to extract a summary from each document. During query time, it retrieves relevant documents to query based on summaries using the following approaches:  \n",
    "+ LLM-based Retrieval: get collections of document summaries and request LLM to identify the relevant documents + relevance score  \n",
    "+ Embedding-based Retrieval: utilize summary embedding similarity to retrieve relevant documents, and impose a top-k limit to the number of retrieved results.  \n",
    "\n",
    "\n",
    "![](https://miro.medium.com/v2/resize:fit:720/format:webp/0*Sr1_53f_HAXwbsQ5.png)"
   ]
  },
  {
   "cell_type": "code",
   "execution_count": 14,
   "metadata": {
    "application/vnd.databricks.v1+cell": {
     "cellMetadata": {
      "byteLimit": 2048000,
      "rowLimit": 10000
     },
     "inputWidgets": {},
     "nuid": "19e176d7-2898-4720-8b96-b5ad693bec7a",
     "showTitle": false,
     "title": ""
    },
    "colab": {
     "base_uri": "https://localhost:8080/",
     "height": 361,
     "referenced_widgets": [
      "a6964ef350a14ff481d2d6b501839d2d",
      "06e20ed2bb6b47f0aee321f723fc292a",
      "0af7beb368c34735abf7334e4ad9e9c9",
      "53b0e8fe6d674e49be682fb6207fddf9",
      "909569508da94d4a89aecbd2e2cd6dc8",
      "923c164d57574b0b80de6f5f30eb9a1b",
      "ba6c243cd8c744978dfb2a0aff255962",
      "12ad5a8d05b84fb2ae472573e1cd624f",
      "9622de93dc4f49c2b5cd740477df2acd",
      "e2acbe24b6224a3c99cb795aa973dc8c",
      "e9c146b6d9fc41d6a7e0c21f83f5f8bb",
      "cd0a31bf12594f629c73127c26f3bc12",
      "2fd0f785a1b64679a297c046fcec87bc",
      "156a5c690c3d4771b43c0ea7351d6ecd",
      "7ba24ca25c49494f8f6d2f5edee193b3",
      "710fdb6588bd422bb09e049c18feab9b",
      "5f07e2737051433ea609a1728c642ab7",
      "d9d4a97ac6e3455b9d8cd3bd25b21f07",
      "1daafe0968be4419b225d67758bf3603",
      "4179840c35f24de68a9951fc2ec2b673",
      "a00b4f5ce93241319e9008fa35deb60e",
      "d246b7f624b64ad3b810807f5f1fc653",
      "9631babd57084e8ba65aac5ea748648c",
      "d0d6f08dae0040ba85e9c07abd16d536",
      "0589ba525d5747c191983227ea53aa7e",
      "fb015cf9c37a4076b1190242dad8a75b",
      "9aff76f202b24d02ace4694552cb837f",
      "814febcbb02a4946aed9de2a8ccbdb3d",
      "d1b427db09d94d04b0f6994542c8cf47",
      "1f6311151e5d4f11b0221c01f67e1089",
      "260acf1a5cca4a5baf42b51c2154a344",
      "b8bd8abe720140668da49bbaef539fc1",
      "3cc13dc1acb84da880abea2c1f3c0742"
     ]
    },
    "executionInfo": {
     "elapsed": 25393,
     "status": "ok",
     "timestamp": 1714121330766,
     "user": {
      "displayName": "Renato Rocha Souza",
      "userId": "08757946413431057160"
     },
     "user_tz": -120
    },
    "id": "meihAnZeNdkK",
    "outputId": "804338ec-403e-4bda-c6b8-4b8ada4a4e0c"
   },
   "outputs": [
    {
     "name": "stdout",
     "output_type": "stream",
     "text": [
      "Creating Directory ./index/DSummaryIndex\n",
      "Loading Documents...\n",
      "Creating Index...\n"
     ]
    },
    {
     "data": {
      "application/vnd.jupyter.widget-view+json": {
       "model_id": "e7fc2e60808d4eb7a6e5b9164ecd4846",
       "version_major": 2,
       "version_minor": 0
      },
      "text/plain": [
       "Parsing nodes:   0%|          | 0/18 [00:00<?, ?it/s]"
      ]
     },
     "metadata": {},
     "output_type": "display_data"
    },
    {
     "data": {
      "application/vnd.jupyter.widget-view+json": {
       "model_id": "35a3087b8b8a48ffa39a4e9d4595667c",
       "version_major": 2,
       "version_minor": 0
      },
      "text/plain": [
       "Summarizing documents:   0%|          | 0/18 [00:00<?, ?it/s]"
      ]
     },
     "metadata": {},
     "output_type": "display_data"
    },
    {
     "name": "stdout",
     "output_type": "stream",
     "text": [
      "current doc id: 3e3a5963-befd-4edc-b7ee-1e6e3f8c006f\n",
      "current doc id: 541e49c8-62a7-4707-854e-39de89ce97d7\n",
      "current doc id: 5eddd53a-8259-4b75-866e-1a0e4345e2ed\n",
      "current doc id: 4c223108-6303-42ad-a323-21b801832e66\n",
      "current doc id: 080e007f-e0fe-4a66-8d88-95bd34eab581\n",
      "current doc id: 12c64cee-989f-44d8-8673-14a06b99fd2b\n",
      "current doc id: 8b6643bb-f80b-4334-ade4-34fd8c69c1b8\n",
      "current doc id: 2988b4c5-a23b-4469-9452-23e62405ec8e\n",
      "current doc id: 9fc13375-38c6-438a-983c-fc9ff5cc068d\n",
      "current doc id: a45bcb04-1984-4308-b109-a3b1465a9b9f\n",
      "current doc id: e2a6a341-1984-4550-b1a1-713f4bff68cd\n",
      "current doc id: 5a6c38b4-dcf0-48e1-a39e-0fc3f1b7c09a\n",
      "current doc id: 1659d5b3-ff99-4561-9a8d-a57f3cadc086\n",
      "current doc id: 0240b223-09bd-4b16-93e0-0ea39d9a394a\n",
      "current doc id: a153fc37-332d-4448-a54a-f28b88da6581\n",
      "current doc id: 37a04386-221c-4147-bc67-01a7b877e565\n",
      "current doc id: 663836c8-6e81-48a9-a884-0fa6b1f66e71\n",
      "current doc id: a2ffdc4f-e00f-4a85-a714-7a758ffaaa6d\n"
     ]
    },
    {
     "data": {
      "application/vnd.jupyter.widget-view+json": {
       "model_id": "579ade462dc645bf807ab9d76b67b49e",
       "version_major": 2,
       "version_minor": 0
      },
      "text/plain": [
       "Generating embeddings:   0%|          | 0/18 [00:00<?, ?it/s]"
      ]
     },
     "metadata": {},
     "output_type": "display_data"
    },
    {
     "name": "stdout",
     "output_type": "stream",
     "text": [
      "Persisting Index...\n",
      "Done!\n"
     ]
    }
   ],
   "source": [
    "DSUMMARYINDEXDIR = PERSIST_DIR + 'DSummaryIndex'\n",
    "dsummaryindex = create_retrieve_index(DSUMMARYINDEXDIR, DOCS_DIR, DocumentSummaryIndex)"
   ]
  },
  {
   "cell_type": "markdown",
   "metadata": {
    "application/vnd.databricks.v1+cell": {
     "cellMetadata": {
      "byteLimit": 2048000,
      "rowLimit": 10000
     },
     "inputWidgets": {},
     "nuid": "9f0966cf-61e2-4549-ba5b-150e650518c0",
     "showTitle": false,
     "title": ""
    },
    "id": "Tp2E-7waNdkK"
   },
   "source": [
    "#### F) Creating (or loading) Knowledge Graph Index  \n",
    "~ 21 min  (Local) / 17 min (OpenAI)\n",
    "\n",
    "It builds a knowledge graph with keywords and relations between nodes, consuming a lot of resources.  \n",
    "The default behavior of GPTKnowledgeGraphIndex is based on keywords, but we can use embeddings by specifying the retriever_mode parameter (KGRetrieverMode.EMBEDDING)  \n",
    "It builds the index by extracting knowledge triples in the form (subject, predicate, object) over a set of docs. During the query time, it can either query using just the knowledge graph as context or leverage the underlying text from each entity as context. By leveraging the underlying text, we can ask more complicated queries with respect to the contents of the document.  \n",
    "With LlamaIndex, you have the ability to create composite indices by building indices on top of existing ones. This feature empowers you to efficiently index your complete document hierarchy and provide tailored knowledge to GPT.\n",
    "By leveraging composability, you can define indices at multiple levels, such as lower-level indices for individual documents and higher-level indices for groups of documents.  \n",
    "\n",
    "![](https://miro.medium.com/v2/resize:fit:720/format:webp/1*rEg1wqA7V7HXUWy4LP6zXQ.png)"
   ]
  },
  {
   "cell_type": "code",
   "execution_count": 15,
   "metadata": {
    "application/vnd.databricks.v1+cell": {
     "cellMetadata": {
      "byteLimit": 2048000,
      "rowLimit": 10000
     },
     "inputWidgets": {},
     "nuid": "35c8064e-b16c-478b-97bd-a47064e224ef",
     "showTitle": false,
     "title": ""
    },
    "colab": {
     "base_uri": "https://localhost:8080/",
     "height": 170,
     "referenced_widgets": [
      "78f8c0ffedcd4b119783854ba906f7de",
      "cc31816f55704cfa8a930b1e32a79f17",
      "6edcf020896a48c289085adf65f695e8",
      "842074bfda6f4915a752ec3b3d23be38",
      "1d52c3d1f75248c192993359d09a15b0",
      "77791193a8714b139fde91b4bac92856",
      "a4bc950d21394dd9965b681d0470aed9",
      "414e20662cd44845aba3a0140c236316",
      "bab8ae14980a4557b42d94e9b5e0b1b9",
      "0a6ee1b0bf6a4270afaa4bc242587a6f",
      "4ab408fd9a2b469293f69d6aa5d82377",
      "8b7ecd2e93ca4a4d9fc6259ba425a6f2",
      "d2326908c2954e979eb3135427f903b0",
      "d11bdd3cd2d34d25b42788516049668b",
      "20af49332562427f9cb015673828ca04",
      "326addf309b149478306b4d6a8832f55",
      "dd11ab00d4864fe4a887b2b53003a8b3",
      "4eb0482c70324cf08edec3faa7f35470",
      "b529f0dd0d7a4d5f8e94d8d853c02268",
      "6dc814ca22e74a2a84ad0df638493b80",
      "02576ade499449f3bb2ef0e9a705c261",
      "254bea0fcbce4340a144e3dd2b1c15ce"
     ]
    },
    "executionInfo": {
     "elapsed": 25869,
     "status": "ok",
     "timestamp": 1714121369741,
     "user": {
      "displayName": "Renato Rocha Souza",
      "userId": "08757946413431057160"
     },
     "user_tz": -120
    },
    "id": "wUSuc2VjNdkK",
    "outputId": "f92a742d-ef78-4bea-d51f-3177af1730c1"
   },
   "outputs": [
    {
     "name": "stdout",
     "output_type": "stream",
     "text": [
      "Creating Directory ./index/KGraphIndex\n",
      "Loading Documents...\n",
      "Creating Index...\n"
     ]
    },
    {
     "data": {
      "application/vnd.jupyter.widget-view+json": {
       "model_id": "d6dd6b35466f47aeab56496730fdee6e",
       "version_major": 2,
       "version_minor": 0
      },
      "text/plain": [
       "Parsing nodes:   0%|          | 0/18 [00:00<?, ?it/s]"
      ]
     },
     "metadata": {},
     "output_type": "display_data"
    },
    {
     "data": {
      "application/vnd.jupyter.widget-view+json": {
       "model_id": "10ef6e7c530442e3a09d76e20c314f2c",
       "version_major": 2,
       "version_minor": 0
      },
      "text/plain": [
       "Processing nodes:   0%|          | 0/18 [00:00<?, ?it/s]"
      ]
     },
     "metadata": {},
     "output_type": "display_data"
    },
    {
     "name": "stdout",
     "output_type": "stream",
     "text": [
      "Persisting Index...\n",
      "Done!\n"
     ]
    }
   ],
   "source": [
    "KGGRAPHINDEXDIR = PERSIST_DIR + 'KGraphIndex'\n",
    "kgraphindex = create_retrieve_index(KGGRAPHINDEXDIR, DOCS_DIR, KnowledgeGraphIndex)"
   ]
  },
  {
   "cell_type": "markdown",
   "metadata": {
    "application/vnd.databricks.v1+cell": {
     "cellMetadata": {
      "byteLimit": 2048000,
      "rowLimit": 10000
     },
     "inputWidgets": {},
     "nuid": "9234cbe7-dbf1-4b68-9096-5748a6e2ef6c",
     "showTitle": false,
     "title": ""
    },
    "id": "NCx0c1ssNdkL"
   },
   "source": [
    "## Retrieving your data  \n",
    "\n",
    "![](https://miro.medium.com/v2/resize:fit:720/format:webp/0*XqAckrehpK4MYt35.jpg)\n",
    "\n",
    "LlamaIndex provides a high-level API that facilitates straightforward querying, ideal for common use cases.\n",
    "```\n",
    "query_engine = index.as_query_engine()\n",
    "response = query_engine.query(\"your_query\")\n",
    "print(response)\n",
    "```\n",
    "\n",
    "```as_query_engine``` builds a default retriever and query engine on top of the index.  \n",
    "You can check check out the query engine, chat engine and agents sections [here](https://docs.llamaindex.ai/en/stable/module_guides/querying/querying.html)\n",
    "\n",
    "Depending on how you created your index, the first step is to compare your query with the chunks of text stored in the index:\n",
    "\n",
    "![](https://static.bluelabellabs.com/wp-content/uploads/2024/02/Retrieval-Step.png)\n",
    "\n",
    "We can try different [response modes](https://docs.llamaindex.ai/en/stable/module_guides/deploying/query_engine/response_modes.html)\n",
    "Here are some differences between them ([source](https://www.bluelabellabs.com/blog/llamaindex-response-modes-explained/))\n",
    "\n",
    "+ refine: create and refine an answer by sequentially going through each retrieved text chunk. This makes a separate LLM call per Node/retrieved chunk.\n",
    "Details: the first chunk is used in a query using the text_qa_template prompt. Then the answer and the next chunk (as well as the original question) are used in another query with the refine_template prompt. And so on until all chunks have been parsed. If a chunk is too large to fit within the window (considering the prompt size), it is split using a TokenTextSplitter (allowing some text overlap between chunks) and the (new) additional chunks are considered as chunks of the original chunks collection (and thus queried with the refine_template as well). Good for more detailed answers. The refine mode is very similar to the compact Response Mode, except that instead of attempting to concatenate as many chunks as it can to maximize the use of the LLM token limit, LlamaIndex only include 1 chunk of retrieved data for each LLM call. Starting with the text_qa_template, LlamaIndex passes in Chunk 1 to the LLM. After that, LlamaIndex then progresses sequentially through each of the remaining chunks one at a time; with each subsequent LLM call using the refine_template to build upon the answer returned from the answer returned from the previous chunk.\n",
    "\n",
    "![](https://static.bluelabellabs.com/wp-content/uploads/2024/02/Refine-v2-1.png)  \n",
    "\n",
    "+ compact (default): similar to refine but compact (concatenate) the chunks beforehand, resulting in less LLM calls.\n",
    "Details: stuff as many text (concatenated/packed from the retrieved chunks) that can fit within the context window (considering the maximum prompt size between text_qa_template and refine_template). If the text is too long to fit in one prompt, it is split in as many parts as needed (using a TokenTextSplitter and thus allowing some overlap between text chunks). Each text part is considered a “chunk” and is sent to the refine synthesizer. In short, it is like refine, but with less LLM calls. The Response Mode called compact is the default mode used by LlamaIndex if none is specified. The way the compact mode works is that for each chunk that is returned from the retrieval step, LlamaIndex concatenates as many of those chunks together into the largest possible string that fits into a single prompt to\n",
    "\n",
    "![](https://static.bluelabellabs.com/wp-content/uploads/2024/02/Compact.png)\n",
    "\n",
    "+ tree_summarize: Query the LLM using the summary_template prompt as many times as needed so that all concatenated chunks have been queried, resulting in as many answers that are themselves recursively used as chunks in a tree_summarize LLM call and so on, until there’s only one chunk left, and thus only one final answer.\n",
    "Details: concatenate the chunks as much as possible to fit within the context window using the summary_template prompt, and split them if needed (again with a TokenTextSplitter and some text overlap). Then, query each resulting chunk/split against summary_template (there is no refine query !) and get as many answers. If there is only one answer (because there was only one chunk), then it’s the final answer.\n",
    "If there are more than one answer, these themselves are considered as chunks and sent recursively to the tree_summarize process (concatenated/splitted-to-fit/queried). Good for summarization purposes. by far most effective, Response Mode is tree_summarize. The astute reader might surmise from the use of the word ‘tree’ that there is a recursive property to this response mode, and they would be correct. The tree_summarize mode in its base case makes a series of LLM calls that concatenate chunks of retrieved data so that it maximizes the input token limit for the LLM. It then takes the outputs of each of these base case responses, and then passes them together to the LLM and instructs it to derive an answer using those initial answers as context.\n",
    "\n",
    "![](https://static.bluelabellabs.com/wp-content/uploads/2024/02/Tree-Summarize.png)\n",
    "\n",
    "+ simple_summarize: Truncates all text chunks to fit into a single LLM prompt. Good for quick summarization purposes, but may lose detail due to truncation. This perhaps the most basic and straightforward of the response modes. In this mode, LlamaIndex truncates all text chunks so that all chunks can be concatenated and passed into the LLM in a single call. No matter how many chunks are retrieved, there will only ever be a single call made to the LLM.\n",
    "\n",
    "![](https://static.bluelabellabs.com/wp-content/uploads/2024/02/Simple-Summarize.png)\n",
    "\n",
    "+ accumulate: Given a set of text chunks and the query, apply the query to each text chunk while accumulating the responses into an array. Returns a concatenated string of all responses. Good for when you need to run the same query separately against each text chunk. LlamaIndex makes 1 call per retrieved chunk and then returns every ‘non-null’ answer together as an array of answers. For each of the calls that LlamaIndex makes in accumulate mode, it uses a similar template to tree_summarize:\n",
    "\n",
    "![](https://static.bluelabellabs.com/wp-content/uploads/2024/02/Accumulate.png)\n",
    "\n",
    "+ compact_accumulate: The same as accumulate, but will “compact” each LLM prompt similar to compact, and run the same query against each text chunk. \n",
    "\n",
    "+ no_text: Only runs the retriever to fetch the nodes that would have been sent to the LLM, without actually sending them. Then can be inspected by checking response.source_nodes."
   ]
  },
  {
   "cell_type": "markdown",
   "metadata": {
    "application/vnd.databricks.v1+cell": {
     "cellMetadata": {
      "byteLimit": 2048000,
      "rowLimit": 10000
     },
     "inputWidgets": {},
     "nuid": "22ef23b2-d9d7-4d94-9c04-74c00abe7391",
     "showTitle": false,
     "title": ""
    },
    "id": "MTulgGylNdkL"
   },
   "source": [
    "#### A) Retrieving from [List Index](https://docs.llamaindex.ai/en/stable/api_reference/query/retrievers/list.html)  \n",
    "~ 5 min\n",
    "\n",
    "LlamaIndex provides embedding support to list indices.  \n",
    "In addition to each node storing text, each node can optionally store an embedding. During query time, we can use embeddings to do max-similarity retrieval of nodes before calling the LLM to synthesize an answer.  \n",
    "Since similarity lookup using embeddings (e.g. using cosine similarity) does not require an LLM call, embeddings serve as a cheaper lookup mechanism instead of using LLMs to traverse nodes."
   ]
  },
  {
   "cell_type": "code",
   "execution_count": 32,
   "metadata": {
    "application/vnd.databricks.v1+cell": {
     "cellMetadata": {
      "byteLimit": 2048000,
      "rowLimit": 10000
     },
     "inputWidgets": {},
     "nuid": "3d854cba-b107-4f44-8e54-020eefbe8ecc",
     "showTitle": false,
     "title": ""
    },
    "colab": {
     "base_uri": "https://localhost:8080/"
    },
    "executionInfo": {
     "elapsed": 18035,
     "status": "ok",
     "timestamp": 1714121756282,
     "user": {
      "displayName": "Renato Rocha Souza",
      "userId": "08757946413431057160"
     },
     "user_tz": -120
    },
    "id": "2RnDvjgsNdkL",
    "outputId": "4b77511d-8691-4c20-c9db-b746feec117c"
   },
   "outputs": [
    {
     "name": "stdout",
     "output_type": "stream",
     "text": [
      "Chapati has 250 calories.\n"
     ]
    }
   ],
   "source": [
    "query_engine = listindex.as_query_engine(similarity_top_k=2,\n",
    "                                         keyword_filter=[\"Chapati\"],\n",
    "                                         response_mode=\"compact\",\n",
    "                                         verbose=True,\n",
    "                                         )\n",
    "response = query_engine.query(\"How Many calories has Chapati?\")\n",
    "print(response)"
   ]
  },
  {
   "cell_type": "code",
   "execution_count": 33,
   "metadata": {
    "application/vnd.databricks.v1+cell": {
     "cellMetadata": {
      "byteLimit": 2048000,
      "rowLimit": 10000
     },
     "inputWidgets": {},
     "nuid": "4b36da93-f926-47b0-a454-1edf5bddd44c",
     "showTitle": false,
     "title": ""
    },
    "colab": {
     "base_uri": "https://localhost:8080/"
    },
    "executionInfo": {
     "elapsed": 1723,
     "status": "ok",
     "timestamp": 1714121770029,
     "user": {
      "displayName": "Renato Rocha Souza",
      "userId": "08757946413431057160"
     },
     "user_tz": -120
    },
    "id": "HlzL0hLANdkL",
    "outputId": "dd2d9520-7d49-4271-a6ea-fee137cf445a"
   },
   "outputs": [
    {
     "name": "stdout",
     "output_type": "stream",
     "text": [
      "Celery is the less caloric ingredient.\n"
     ]
    }
   ],
   "source": [
    "response = query_engine.query(\"What is the less caloric ingredient?\")\n",
    "print(response)"
   ]
  },
  {
   "cell_type": "markdown",
   "metadata": {
    "application/vnd.databricks.v1+cell": {
     "cellMetadata": {
      "byteLimit": 2048000,
      "rowLimit": 10000
     },
     "inputWidgets": {},
     "nuid": "86a906f1-f993-4959-940b-2d66d39ccd0f",
     "showTitle": false,
     "title": ""
    },
    "id": "euxfjDxPNdkL"
   },
   "source": [
    "#### B) Retrieving from [Vector Store Index](https://docs.llamaindex.ai/en/stable/api_reference/query/retrievers/vector_store.html)  \n",
    "~ 2 Seconds  "
   ]
  },
  {
   "cell_type": "code",
   "execution_count": 34,
   "metadata": {
    "application/vnd.databricks.v1+cell": {
     "cellMetadata": {
      "byteLimit": 2048000,
      "rowLimit": 10000
     },
     "inputWidgets": {},
     "nuid": "e2be41af-ab0e-4d10-8c40-632eb1c7a610",
     "showTitle": false,
     "title": ""
    },
    "colab": {
     "base_uri": "https://localhost:8080/"
    },
    "executionInfo": {
     "elapsed": 2208,
     "status": "ok",
     "timestamp": 1714121781157,
     "user": {
      "displayName": "Renato Rocha Souza",
      "userId": "08757946413431057160"
     },
     "user_tz": -120
    },
    "id": "yz5-CDQMNdkL",
    "outputId": "bb39075c-5ce3-4cb1-c6f4-0aac2560391b"
   },
   "outputs": [
    {
     "name": "stdout",
     "output_type": "stream",
     "text": [
      "Celery is not listed in the provided context information.\n"
     ]
    }
   ],
   "source": [
    "query_engine = vectorstoreindex.as_query_engine(retriever_mode=\"embedding\",\n",
    "                                                response_mode=\"compact\",\n",
    "                                                verbose=True)\n",
    "response = query_engine.query(\"How many calories has Celery?\")\n",
    "print(response)"
   ]
  },
  {
   "cell_type": "code",
   "execution_count": 35,
   "metadata": {
    "application/vnd.databricks.v1+cell": {
     "cellMetadata": {
      "byteLimit": 2048000,
      "rowLimit": 10000
     },
     "inputWidgets": {},
     "nuid": "721b2780-495b-4677-8feb-7b9732776157",
     "showTitle": false,
     "title": ""
    },
    "colab": {
     "base_uri": "https://localhost:8080/"
    },
    "executionInfo": {
     "elapsed": 1249,
     "status": "ok",
     "timestamp": 1714121785420,
     "user": {
      "displayName": "Renato Rocha Souza",
      "userId": "08757946413431057160"
     },
     "user_tz": -120
    },
    "id": "nB2GuYp9NdkM",
    "outputId": "951659e7-8a86-490f-9540-a8c4feb8e0e9"
   },
   "outputs": [
    {
     "name": "stdout",
     "output_type": "stream",
     "text": [
      "There are 24 vegetable ingredients listed in the provided context.\n"
     ]
    }
   ],
   "source": [
    "response = query_engine.query(\"how many vegetable ingredients we have?\")\n",
    "print(response)"
   ]
  },
  {
   "cell_type": "markdown",
   "metadata": {
    "application/vnd.databricks.v1+cell": {
     "cellMetadata": {
      "byteLimit": 2048000,
      "rowLimit": 10000
     },
     "inputWidgets": {},
     "nuid": "e99b2a70-14eb-4f04-a52c-fac7caabc598",
     "showTitle": false,
     "title": ""
    },
    "id": "tYofcFeSNdkM"
   },
   "source": [
    "#### C) Retrieving from [Tree Index](https://docs.llamaindex.ai/en/stable/api_reference/query/retrievers/tree.html)\n",
    "~ 2.5 min  "
   ]
  },
  {
   "cell_type": "code",
   "execution_count": 36,
   "metadata": {
    "application/vnd.databricks.v1+cell": {
     "cellMetadata": {
      "byteLimit": 2048000,
      "rowLimit": 10000
     },
     "inputWidgets": {},
     "nuid": "6e93e61b-26c2-4c2f-87ed-66a96a6444fd",
     "showTitle": false,
     "title": ""
    },
    "colab": {
     "base_uri": "https://localhost:8080/"
    },
    "executionInfo": {
     "elapsed": 5051,
     "status": "ok",
     "timestamp": 1714085651881,
     "user": {
      "displayName": "Renato Rocha Souza",
      "userId": "08757946413431057160"
     },
     "user_tz": -120
    },
    "id": "1H58t7v-NdkM",
    "outputId": "deaeb2bd-b1da-41de-8bf3-b0d02e65c4e1"
   },
   "outputs": [
    {
     "name": "stdout",
     "output_type": "stream",
     "text": [
      "Portion sizes mentioned in the provided information include per average portion and per 100 grams for various food items such as slices, biscuits, cakes, boiled items, tinned items, fruits, and vegetables. The portion sizes can vary depending on the type and make of the product purchased, and they are often a subjective view that may vary according to the bowl, cup, or plate size used.\n"
     ]
    }
   ],
   "source": [
    "\n",
    "query_engine = treeindex.as_query_engine(response_mode=\"tree_summarize\",\n",
    "                                         retriever_mode=\"all_leaf\",\n",
    "                                         child_branch_factor=1,\n",
    "                                         verbose=True\n",
    "                                        )\n",
    "response = query_engine.query(\"What are the types of portion sizes?\")\n",
    "print(response)"
   ]
  },
  {
   "cell_type": "code",
   "execution_count": 37,
   "metadata": {
    "application/vnd.databricks.v1+cell": {
     "cellMetadata": {
      "byteLimit": 2048000,
      "rowLimit": 10000
     },
     "inputWidgets": {},
     "nuid": "dd2e4b28-2fa4-4a1d-8224-143c6fe36b4c",
     "showTitle": false,
     "title": ""
    },
    "colab": {
     "base_uri": "https://localhost:8080/"
    },
    "executionInfo": {
     "elapsed": 2164,
     "status": "ok",
     "timestamp": 1714085682298,
     "user": {
      "displayName": "Renato Rocha Souza",
      "userId": "08757946413431057160"
     },
     "user_tz": -120
    },
    "id": "FL6ZbmcFNdkM",
    "outputId": "9cc75a10-6a8c-42d2-f2b1-4c46f179854f"
   },
   "outputs": [
    {
     "name": "stdout",
     "output_type": "stream",
     "text": [
      "The biggest portion size mentioned in the food calorie list is for \"Potatoes** (roast)\" which has a portion size of 300 grams.\n"
     ]
    }
   ],
   "source": [
    "response = query_engine.query(\"What is the biggest portion size?\")\n",
    "print(response)"
   ]
  },
  {
   "cell_type": "markdown",
   "metadata": {
    "application/vnd.databricks.v1+cell": {
     "cellMetadata": {
      "byteLimit": 2048000,
      "rowLimit": 10000
     },
     "inputWidgets": {},
     "nuid": "96392495-0554-4d67-8317-6fd591f968d1",
     "showTitle": false,
     "title": ""
    },
    "id": "8L1a4OPdNdkN"
   },
   "source": [
    "#### D) Retrieving from [SimpleKeywordTableIndex and KeywordTableIndex](https://docs.llamaindex.ai/en/stable/api_reference/query/retrievers/table.html)  \n",
    "~ 3 seconds  "
   ]
  },
  {
   "cell_type": "code",
   "execution_count": 38,
   "metadata": {
    "application/vnd.databricks.v1+cell": {
     "cellMetadata": {
      "byteLimit": 2048000,
      "rowLimit": 10000
     },
     "inputWidgets": {},
     "nuid": "fc34d86f-0163-43dd-bbdb-581c79aa3ad1",
     "showTitle": false,
     "title": ""
    },
    "colab": {
     "base_uri": "https://localhost:8080/"
    },
    "executionInfo": {
     "elapsed": 1226,
     "status": "ok",
     "timestamp": 1714085751001,
     "user": {
      "displayName": "Renato Rocha Souza",
      "userId": "08757946413431057160"
     },
     "user_tz": -120
    },
    "id": "VRlwJU-4NdkN",
    "outputId": "c09eb25a-9198-4bc2-a7a0-7260c531b69d"
   },
   "outputs": [
    {
     "name": "stdout",
     "output_type": "stream",
     "text": [
      "The biggest portion size mentioned in the context is for \"Rice (egg-fried)\" with 500 calories.\n"
     ]
    }
   ],
   "source": [
    "query_engine = simplekeywordindex.as_query_engine(verbose=True,\n",
    "                                                  response_mode=\"compact\",\n",
    "                                                  )\n",
    "response = query_engine.query(\"What is the biggest portion size?\")\n",
    "print(response)"
   ]
  },
  {
   "cell_type": "code",
   "execution_count": 39,
   "metadata": {
    "application/vnd.databricks.v1+cell": {
     "cellMetadata": {
      "byteLimit": 2048000,
      "rowLimit": 10000
     },
     "inputWidgets": {},
     "nuid": "ec7cdad3-795a-4b3a-8cbf-abbc55f45056",
     "showTitle": false,
     "title": ""
    },
    "colab": {
     "base_uri": "https://localhost:8080/"
    },
    "executionInfo": {
     "elapsed": 1763,
     "status": "ok",
     "timestamp": 1714085771377,
     "user": {
      "displayName": "Renato Rocha Souza",
      "userId": "08757946413431057160"
     },
     "user_tz": -120
    },
    "id": "VMSDR3lbNdkN",
    "outputId": "a317dd84-434c-459e-89ee-8e1ed72ba784"
   },
   "outputs": [
    {
     "name": "stdout",
     "output_type": "stream",
     "text": [
      "The biggest portion size mentioned in the context is for \"Rice (egg-fried)\" with 500 calories.\n"
     ]
    }
   ],
   "source": [
    "query_engine = keywordindex.as_query_engine(verbose=True,\n",
    "                                            response_mode=\"compact\",\n",
    "                                        )\n",
    "response = query_engine.query(\"What is the biggest portion size?\")\n",
    "print(response)"
   ]
  },
  {
   "cell_type": "markdown",
   "metadata": {
    "application/vnd.databricks.v1+cell": {
     "cellMetadata": {
      "byteLimit": 2048000,
      "rowLimit": 10000
     },
     "inputWidgets": {},
     "nuid": "1ca7570e-3dfc-4c9d-b621-c151b4b071d6",
     "showTitle": false,
     "title": ""
    },
    "id": "1LGMsUmENdkO"
   },
   "source": [
    "#### E) Retrieving from [Document Summary Index](https://docs.llamaindex.ai/en/latest/examples/index_structs/doc_summary/DocSummary.htmll)  \n",
    "~ 1 second  "
   ]
  },
  {
   "cell_type": "code",
   "execution_count": 24,
   "metadata": {
    "application/vnd.databricks.v1+cell": {
     "cellMetadata": {
      "byteLimit": 2048000,
      "rowLimit": 10000
     },
     "inputWidgets": {},
     "nuid": "7974adfd-0e30-4a9a-947e-8a7001baca50",
     "showTitle": false,
     "title": ""
    },
    "colab": {
     "base_uri": "https://localhost:8080/"
    },
    "executionInfo": {
     "elapsed": 1337,
     "status": "ok",
     "timestamp": 1714085808552,
     "user": {
      "displayName": "Renato Rocha Souza",
      "userId": "08757946413431057160"
     },
     "user_tz": -120
    },
    "id": "D_gM-Fa1NdkO",
    "outputId": "e289df89-aea0-4d05-f00a-200062806ee7"
   },
   "outputs": [
    {
     "name": "stdout",
     "output_type": "stream",
     "text": [
      "Broccoli, Cucumber, and Celery are the foods listed that have less than 100 calories.\n"
     ]
    }
   ],
   "source": [
    "query_engine = dsummaryindex.as_query_engine(verbose=True,\n",
    "                                           response_mode=\"compact\",\n",
    "                                           )\n",
    "response = query_engine.query(\"What food has less than 100 calories?\")\n",
    "print(response)\n",
    "\n",
    "#response = response_synthesizer.synthesize(\"query text\", nodes=[Node(text=\"text\"), ...])"
   ]
  },
  {
   "cell_type": "code",
   "execution_count": 25,
   "metadata": {
    "application/vnd.databricks.v1+cell": {
     "cellMetadata": {
      "byteLimit": 2048000,
      "rowLimit": 10000
     },
     "inputWidgets": {},
     "nuid": "5be79485-3bf7-48db-8956-50c6d029e5be",
     "showTitle": false,
     "title": ""
    },
    "colab": {
     "base_uri": "https://localhost:8080/"
    },
    "executionInfo": {
     "elapsed": 347,
     "status": "ok",
     "timestamp": 1714085815349,
     "user": {
      "displayName": "Renato Rocha Souza",
      "userId": "08757946413431057160"
     },
     "user_tz": -120
    },
    "id": "u_H5cYCLNdkO",
    "outputId": "1ab25615-39fa-4fd0-f9eb-c114eb298b68"
   },
   "outputs": [
    {
     "data": {
      "text/plain": [
       "['3e3a5963-befd-4edc-b7ee-1e6e3f8c006f',\n",
       " '541e49c8-62a7-4707-854e-39de89ce97d7',\n",
       " '5eddd53a-8259-4b75-866e-1a0e4345e2ed',\n",
       " '4c223108-6303-42ad-a323-21b801832e66',\n",
       " '080e007f-e0fe-4a66-8d88-95bd34eab581',\n",
       " '12c64cee-989f-44d8-8673-14a06b99fd2b',\n",
       " '8b6643bb-f80b-4334-ade4-34fd8c69c1b8',\n",
       " '2988b4c5-a23b-4469-9452-23e62405ec8e',\n",
       " '9fc13375-38c6-438a-983c-fc9ff5cc068d',\n",
       " 'a45bcb04-1984-4308-b109-a3b1465a9b9f']"
      ]
     },
     "execution_count": 25,
     "metadata": {},
     "output_type": "execute_result"
    }
   ],
   "source": [
    "list(dsummaryindex.ref_doc_info.keys())[0:10]"
   ]
  },
  {
   "cell_type": "code",
   "execution_count": 26,
   "metadata": {
    "application/vnd.databricks.v1+cell": {
     "cellMetadata": {
      "byteLimit": 2048000,
      "rowLimit": 10000
     },
     "inputWidgets": {},
     "nuid": "1fa428d4-cd37-42a8-8c77-99dafdaff5a1",
     "showTitle": false,
     "title": ""
    },
    "id": "SQ_Hl0iwNdkP"
   },
   "outputs": [
    {
     "data": {
      "text/plain": [
       "'The provided text is about a food calories list that includes the calorie content per average portion and per 100 grams of various everyday foods, categorized into sections based on the 5 basic food groups of a balanced diet. This list can be helpful for individuals following a weight loss or low-calorie program who want to make informed choices about their food intake. \\n\\nSome questions that this text can answer include:\\n- What is the calorie content of different types of bread and cereals per average portion and per 100 grams?\\n- How many calories are in popular snacks like biscuits, crackers, and flapjacks?\\n- What are the calorie counts for staple foods like pasta, potatoes, and noodles?\\n- Which foods in the list are considered low, medium, or high in calorie content?\\n- How can the calorie content of different foods be compared using the information provided in the list?'"
      ]
     },
     "execution_count": 26,
     "metadata": {},
     "output_type": "execute_result"
    }
   ],
   "source": [
    "dsummaryindex.get_document_summary(doc_id=list(dsummaryindex.ref_doc_info.keys())[0])"
   ]
  },
  {
   "cell_type": "markdown",
   "metadata": {
    "application/vnd.databricks.v1+cell": {
     "cellMetadata": {
      "byteLimit": 2048000,
      "rowLimit": 10000
     },
     "inputWidgets": {},
     "nuid": "c55e0ecb-096c-4f2d-92c1-6c629dbce2d7",
     "showTitle": false,
     "title": ""
    },
    "id": "mbkpJMshNdkP"
   },
   "source": [
    "#### F) Retrieving from [Knowledge Graph Index](https://docs.llamaindex.ai/en/stable/examples/index_structs/knowledge_graph/KnowledgeGraphDemo.html)  \n",
    "~ 1 second"
   ]
  },
  {
   "cell_type": "code",
   "execution_count": 27,
   "metadata": {
    "application/vnd.databricks.v1+cell": {
     "cellMetadata": {
      "byteLimit": 2048000,
      "rowLimit": 10000
     },
     "inputWidgets": {},
     "nuid": "ca586ad9-7e37-4a11-bf12-f83fd93b955f",
     "showTitle": false,
     "title": ""
    },
    "colab": {
     "base_uri": "https://localhost:8080/"
    },
    "executionInfo": {
     "elapsed": 1744,
     "status": "ok",
     "timestamp": 1714085852072,
     "user": {
      "displayName": "Renato Rocha Souza",
      "userId": "08757946413431057160"
     },
     "user_tz": -120
    },
    "id": "OUaaI-pzNdkP",
    "outputId": "b5ac032a-f5c4-4354-8e07-fa8105bab5ef"
   },
   "outputs": [
    {
     "name": "stdout",
     "output_type": "stream",
     "text": [
      "\u001b[1;3;32mExtracted keywords: ['less', 'foods', 'caloric']\n",
      "\u001b[0mFruits and vegetables are generally considered to be lower in calories compared to many other types of foods. Additionally, lean proteins such as chicken breast and fish are good options for lower calorie meals.\n"
     ]
    }
   ],
   "source": [
    "query_engine = kgraphindex.as_query_engine(verbose=True,\n",
    "                                           response_mode=\"compact\",\n",
    "                                           )\n",
    "response = query_engine.query(\"What are the less caloric foods?\")\n",
    "print(response)"
   ]
  },
  {
   "cell_type": "markdown",
   "metadata": {
    "application/vnd.databricks.v1+cell": {
     "cellMetadata": {
      "byteLimit": 2048000,
      "rowLimit": 10000
     },
     "inputWidgets": {},
     "nuid": "d3f1b7e6-9afe-455e-ab35-fbfc937dd507",
     "showTitle": false,
     "title": ""
    },
    "id": "IDw77angNdkP"
   },
   "source": [
    "GPTKnowledgeGraphIndex comes with an additional benefit. We can retrieve the knowledge graph, and we can even visualize it with the networkx library."
   ]
  },
  {
   "cell_type": "code",
   "execution_count": 28,
   "metadata": {
    "application/vnd.databricks.v1+cell": {
     "cellMetadata": {
      "byteLimit": 2048000,
      "rowLimit": 10000
     },
     "inputWidgets": {},
     "nuid": "6e3be9d2-1703-47e6-9a89-519ae9246341",
     "showTitle": false,
     "title": ""
    },
    "colab": {
     "base_uri": "https://localhost:8080/",
     "height": 363
    },
    "executionInfo": {
     "elapsed": 2449,
     "status": "ok",
     "timestamp": 1714085867895,
     "user": {
      "displayName": "Renato Rocha Souza",
      "userId": "08757946413431057160"
     },
     "user_tz": -120
    },
    "id": "ukluJZ8pNdkQ",
    "outputId": "85de0f7f-d879-4556-b07b-8a8e52b39b55"
   },
   "outputs": [
    {
     "data": {
      "image/png": "[encoded data removed]",
      "text/plain": [
       "<Figure size 5000x2000 with 1 Axes>"
      ]
     },
     "metadata": {},
     "output_type": "display_data"
    }
   ],
   "source": [
    "import networkx as nx\n",
    "import matplotlib.pyplot as plt\n",
    "fig = plt.figure(1, figsize=(100, 40), dpi=50)\n",
    "nx.draw_networkx(kgraphindex.get_networkx_graph(), font_size=18)"
   ]
  },
  {
   "cell_type": "markdown",
   "metadata": {
    "application/vnd.databricks.v1+cell": {
     "cellMetadata": {
      "byteLimit": 2048000,
      "rowLimit": 10000
     },
     "inputWidgets": {},
     "nuid": "bd7a760e-f9b8-47ab-9526-168dd8dfd0b5",
     "showTitle": false,
     "title": ""
    },
    "id": "Y1OQGks4NdkQ"
   },
   "source": [
    "#### F) Pandas Index\n",
    "\n",
    "Good to query Dataframes  \n",
    "Error: https://stackoverflow.com/questions/77445728/pandasqueryengine-from-llama-index-is-unable-to-execute-code-with-the-following"
   ]
  },
  {
   "cell_type": "code",
   "execution_count": 30,
   "metadata": {
    "application/vnd.databricks.v1+cell": {
     "cellMetadata": {
      "byteLimit": 2048000,
      "rowLimit": 10000
     },
     "inputWidgets": {},
     "nuid": "7dc4fc4d-619a-4e96-8ddc-b24401896924",
     "showTitle": false,
     "title": ""
    },
    "colab": {
     "base_uri": "https://localhost:8080/",
     "height": 226
    },
    "executionInfo": {
     "elapsed": 328,
     "status": "ok",
     "timestamp": 1714086369114,
     "user": {
      "displayName": "Renato Rocha Souza",
      "userId": "08757946413431057160"
     },
     "user_tz": -120
    },
    "id": "taVfULKINdkQ",
    "outputId": "0b9031c7-fee2-442d-ed12-fa12f400a9b4"
   },
   "outputs": [
    {
     "data": {
      "text/html": [
       "<div>\n",
       "<style scoped>\n",
       "    .dataframe tbody tr th:only-of-type {\n",
       "        vertical-align: middle;\n",
       "    }\n",
       "\n",
       "    .dataframe tbody tr th {\n",
       "        vertical-align: top;\n",
       "    }\n",
       "\n",
       "    .dataframe thead th {\n",
       "        text-align: right;\n",
       "    }\n",
       "</style>\n",
       "<table border=\"1\" class=\"dataframe\">\n",
       "  <thead>\n",
       "    <tr style=\"text-align: right;\">\n",
       "      <th></th>\n",
       "      <th>longitude</th>\n",
       "      <th>latitude</th>\n",
       "      <th>housing_median_age</th>\n",
       "      <th>total_rooms</th>\n",
       "      <th>total_bedrooms</th>\n",
       "      <th>population</th>\n",
       "      <th>households</th>\n",
       "      <th>median_income</th>\n",
       "      <th>median_house_value</th>\n",
       "    </tr>\n",
       "  </thead>\n",
       "  <tbody>\n",
       "    <tr>\n",
       "      <th>0</th>\n",
       "      <td>-114.31</td>\n",
       "      <td>34.19</td>\n",
       "      <td>15.0</td>\n",
       "      <td>5612.0</td>\n",
       "      <td>1283.0</td>\n",
       "      <td>1015.0</td>\n",
       "      <td>472.0</td>\n",
       "      <td>1.4936</td>\n",
       "      <td>66900.0</td>\n",
       "    </tr>\n",
       "    <tr>\n",
       "      <th>1</th>\n",
       "      <td>-114.47</td>\n",
       "      <td>34.40</td>\n",
       "      <td>19.0</td>\n",
       "      <td>7650.0</td>\n",
       "      <td>1901.0</td>\n",
       "      <td>1129.0</td>\n",
       "      <td>463.0</td>\n",
       "      <td>1.8200</td>\n",
       "      <td>80100.0</td>\n",
       "    </tr>\n",
       "    <tr>\n",
       "      <th>2</th>\n",
       "      <td>-114.56</td>\n",
       "      <td>33.69</td>\n",
       "      <td>17.0</td>\n",
       "      <td>720.0</td>\n",
       "      <td>174.0</td>\n",
       "      <td>333.0</td>\n",
       "      <td>117.0</td>\n",
       "      <td>1.6509</td>\n",
       "      <td>85700.0</td>\n",
       "    </tr>\n",
       "    <tr>\n",
       "      <th>3</th>\n",
       "      <td>-114.57</td>\n",
       "      <td>33.64</td>\n",
       "      <td>14.0</td>\n",
       "      <td>1501.0</td>\n",
       "      <td>337.0</td>\n",
       "      <td>515.0</td>\n",
       "      <td>226.0</td>\n",
       "      <td>3.1917</td>\n",
       "      <td>73400.0</td>\n",
       "    </tr>\n",
       "    <tr>\n",
       "      <th>4</th>\n",
       "      <td>-114.57</td>\n",
       "      <td>33.57</td>\n",
       "      <td>20.0</td>\n",
       "      <td>1454.0</td>\n",
       "      <td>326.0</td>\n",
       "      <td>624.0</td>\n",
       "      <td>262.0</td>\n",
       "      <td>1.9250</td>\n",
       "      <td>65500.0</td>\n",
       "    </tr>\n",
       "  </tbody>\n",
       "</table>\n",
       "</div>"
      ],
      "text/plain": [
       "   longitude  latitude  housing_median_age  total_rooms  total_bedrooms  \\\n",
       "0    -114.31     34.19                15.0       5612.0          1283.0   \n",
       "1    -114.47     34.40                19.0       7650.0          1901.0   \n",
       "2    -114.56     33.69                17.0        720.0           174.0   \n",
       "3    -114.57     33.64                14.0       1501.0           337.0   \n",
       "4    -114.57     33.57                20.0       1454.0           326.0   \n",
       "\n",
       "   population  households  median_income  median_house_value  \n",
       "0      1015.0       472.0         1.4936             66900.0  \n",
       "1      1129.0       463.0         1.8200             80100.0  \n",
       "2       333.0       117.0         1.6509             85700.0  \n",
       "3       515.0       226.0         3.1917             73400.0  \n",
       "4       624.0       262.0         1.9250             65500.0  "
      ]
     },
     "execution_count": 30,
     "metadata": {},
     "output_type": "execute_result"
    }
   ],
   "source": [
    "df = pd.read_csv(\"./data/california_housing_train.csv\")\n",
    "df.head()"
   ]
  },
  {
   "cell_type": "code",
   "execution_count": 31,
   "metadata": {
    "colab": {
     "base_uri": "https://localhost:8080/"
    },
    "executionInfo": {
     "elapsed": 670,
     "status": "ok",
     "timestamp": 1714086393002,
     "user": {
      "displayName": "Renato Rocha Souza",
      "userId": "08757946413431057160"
     },
     "user_tz": -120
    },
    "id": "YAGdGrlAglNN",
    "outputId": "34077fe2-824e-4be6-9332-bb62dcd36023"
   },
   "outputs": [
    {
     "name": "stdout",
     "output_type": "stream",
     "text": [
      "> Pandas Instructions:\n",
      "```\n",
      "df['total_bedrooms'].max()\n",
      "```\n",
      "> Pandas Output: 6445.0\n"
     ]
    },
    {
     "data": {
      "text/plain": [
       "Response(response='6445.0', source_nodes=[], metadata={'pandas_instruction_str': \"df['total_bedrooms'].max()\", 'raw_pandas_output': '6445.0'})"
      ]
     },
     "execution_count": 31,
     "metadata": {},
     "output_type": "execute_result"
    }
   ],
   "source": [
    "query_engine = PandasQueryEngine(df=df, verbose=True)\n",
    "response = query_engine.query(\"What is maximum total bedrooms?\",)\n",
    "response"
   ]
  },
  {
   "cell_type": "code",
   "execution_count": null,
   "metadata": {
    "id": "e02eoDqjgq8n"
   },
   "outputs": [],
   "source": []
  }
 ],
 "metadata": {
  "application/vnd.databricks.v1+notebook": {
   "dashboards": [],
   "language": "python",
   "notebookMetadata": {
    "pythonIndentUnit": 4
   },
   "notebookName": "2-Indexing_Querying_LLamaIndex",
   "widgets": {}
  },
  "colab": {
   "provenance": [
    {
     "file_id": "https://github.com/rsouza/Prompt_Engineering_Course/blob/main/Notebooks/5_LlamaIndex/2-Indexing_Querying_LLamaIndex.ipynb",
     "timestamp": 1714082079174
    }
   ]
  },
  "kernelspec": {
   "display_name": "Python 3 (ipykernel)",
   "language": "python",
   "name": "python3"
  },
  "language_info": {
   "codemirror_mode": {
    "name": "ipython",
    "version": 3
   },
   "file_extension": ".py",
   "mimetype": "text/x-python",
   "name": "python",
   "nbconvert_exporter": "python",
   "pygments_lexer": "ipython3",
   "version": "3.10.12"
  },
  "widgets": {
   "application/vnd.jupyter.widget-state+json": {
    "02576ade499449f3bb2ef0e9a705c261": {
     "model_module": "@jupyter-widgets/base",
     "model_module_version": "1.2.0",
     "model_name": "LayoutModel",
     "state": {
      "_model_module": "@jupyter-widgets/base",
      "_model_module_version": "1.2.0",
      "_model_name": "LayoutModel",
      "_view_count": null,
      "_view_module": "@jupyter-widgets/base",
      "_view_module_version": "1.2.0",
      "_view_name": "LayoutView",
      "align_content": null,
      "align_items": null,
      "align_self": null,
      "border": null,
      "bottom": null,
      "display": null,
      "flex": null,
      "flex_flow": null,
      "grid_area": null,
      "grid_auto_columns": null,
      "grid_auto_flow": null,
      "grid_auto_rows": null,
      "grid_column": null,
      "grid_gap": null,
      "grid_row": null,
      "grid_template_areas": null,
      "grid_template_columns": null,
      "grid_template_rows": null,
      "height": null,
      "justify_content": null,
      "justify_items": null,
      "left": null,
      "margin": null,
      "max_height": null,
      "max_width": null,
      "min_height": null,
      "min_width": null,
      "object_fit": null,
      "object_position": null,
      "order": null,
      "overflow": null,
      "overflow_x": null,
      "overflow_y": null,
      "padding": null,
      "right": null,
      "top": null,
      "visibility": null,
      "width": null
     }
    },
    "0589ba525d5747c191983227ea53aa7e": {
     "model_module": "@jupyter-widgets/controls",
     "model_module_version": "1.5.0",
     "model_name": "FloatProgressModel",
     "state": {
      "_dom_classes": [],
      "_model_module": "@jupyter-widgets/controls",
      "_model_module_version": "1.5.0",
      "_model_name": "FloatProgressModel",
      "_view_count": null,
      "_view_module": "@jupyter-widgets/controls",
      "_view_module_version": "1.5.0",
      "_view_name": "ProgressView",
      "bar_style": "success",
      "description": "",
      "description_tooltip": null,
      "layout": "IPY_MODEL_1f6311151e5d4f11b0221c01f67e1089",
      "max": 9,
      "min": 0,
      "orientation": "horizontal",
      "style": "IPY_MODEL_260acf1a5cca4a5baf42b51c2154a344",
      "value": 9
     }
    },
    "05a05a0a80d0434c8b6fdcd23cc22526": {
     "model_module": "@jupyter-widgets/controls",
     "model_module_version": "1.5.0",
     "model_name": "ProgressStyleModel",
     "state": {
      "_model_module": "@jupyter-widgets/controls",
      "_model_module_version": "1.5.0",
      "_model_name": "ProgressStyleModel",
      "_view_count": null,
      "_view_module": "@jupyter-widgets/base",
      "_view_module_version": "1.2.0",
      "_view_name": "StyleView",
      "bar_color": null,
      "description_width": ""
     }
    },
    "06e20ed2bb6b47f0aee321f723fc292a": {
     "model_module": "@jupyter-widgets/controls",
     "model_module_version": "1.5.0",
     "model_name": "HTMLModel",
     "state": {
      "_dom_classes": [],
      "_model_module": "@jupyter-widgets/controls",
      "_model_module_version": "1.5.0",
      "_model_name": "HTMLModel",
      "_view_count": null,
      "_view_module": "@jupyter-widgets/controls",
      "_view_module_version": "1.5.0",
      "_view_name": "HTMLView",
      "description": "",
      "description_tooltip": null,
      "layout": "IPY_MODEL_923c164d57574b0b80de6f5f30eb9a1b",
      "placeholder": "​",
      "style": "IPY_MODEL_ba6c243cd8c744978dfb2a0aff255962",
      "value": "Parsing nodes: 100%"
     }
    },
    "073bc2031e37489c871013a47ba15e6a": {
     "model_module": "@jupyter-widgets/base",
     "model_module_version": "1.2.0",
     "model_name": "LayoutModel",
     "state": {
      "_model_module": "@jupyter-widgets/base",
      "_model_module_version": "1.2.0",
      "_model_name": "LayoutModel",
      "_view_count": null,
      "_view_module": "@jupyter-widgets/base",
      "_view_module_version": "1.2.0",
      "_view_name": "LayoutView",
      "align_content": null,
      "align_items": null,
      "align_self": null,
      "border": null,
      "bottom": null,
      "display": null,
      "flex": null,
      "flex_flow": null,
      "grid_area": null,
      "grid_auto_columns": null,
      "grid_auto_flow": null,
      "grid_auto_rows": null,
      "grid_column": null,
      "grid_gap": null,
      "grid_row": null,
      "grid_template_areas": null,
      "grid_template_columns": null,
      "grid_template_rows": null,
      "height": null,
      "justify_content": null,
      "justify_items": null,
      "left": null,
      "margin": null,
      "max_height": null,
      "max_width": null,
      "min_height": null,
      "min_width": null,
      "object_fit": null,
      "object_position": null,
      "order": null,
      "overflow": null,
      "overflow_x": null,
      "overflow_y": null,
      "padding": null,
      "right": null,
      "top": null,
      "visibility": null,
      "width": null
     }
    },
    "0a6ee1b0bf6a4270afaa4bc242587a6f": {
     "model_module": "@jupyter-widgets/base",
     "model_module_version": "1.2.0",
     "model_name": "LayoutModel",
     "state": {
      "_model_module": "@jupyter-widgets/base",
      "_model_module_version": "1.2.0",
      "_model_name": "LayoutModel",
      "_view_count": null,
      "_view_module": "@jupyter-widgets/base",
      "_view_module_version": "1.2.0",
      "_view_name": "LayoutView",
      "align_content": null,
      "align_items": null,
      "align_self": null,
      "border": null,
      "bottom": null,
      "display": null,
      "flex": null,
      "flex_flow": null,
      "grid_area": null,
      "grid_auto_columns": null,
      "grid_auto_flow": null,
      "grid_auto_rows": null,
      "grid_column": null,
      "grid_gap": null,
      "grid_row": null,
      "grid_template_areas": null,
      "grid_template_columns": null,
      "grid_template_rows": null,
      "height": null,
      "justify_content": null,
      "justify_items": null,
      "left": null,
      "margin": null,
      "max_height": null,
      "max_width": null,
      "min_height": null,
      "min_width": null,
      "object_fit": null,
      "object_position": null,
      "order": null,
      "overflow": null,
      "overflow_x": null,
      "overflow_y": null,
      "padding": null,
      "right": null,
      "top": null,
      "visibility": null,
      "width": null
     }
    },
    "0a7e3572589e4865bc505e5c8f6311ef": {
     "model_module": "@jupyter-widgets/base",
     "model_module_version": "1.2.0",
     "model_name": "LayoutModel",
     "state": {
      "_model_module": "@jupyter-widgets/base",
      "_model_module_version": "1.2.0",
      "_model_name": "LayoutModel",
      "_view_count": null,
      "_view_module": "@jupyter-widgets/base",
      "_view_module_version": "1.2.0",
      "_view_name": "LayoutView",
      "align_content": null,
      "align_items": null,
      "align_self": null,
      "border": null,
      "bottom": null,
      "display": null,
      "flex": null,
      "flex_flow": null,
      "grid_area": null,
      "grid_auto_columns": null,
      "grid_auto_flow": null,
      "grid_auto_rows": null,
      "grid_column": null,
      "grid_gap": null,
      "grid_row": null,
      "grid_template_areas": null,
      "grid_template_columns": null,
      "grid_template_rows": null,
      "height": null,
      "justify_content": null,
      "justify_items": null,
      "left": null,
      "margin": null,
      "max_height": null,
      "max_width": null,
      "min_height": null,
      "min_width": null,
      "object_fit": null,
      "object_position": null,
      "order": null,
      "overflow": null,
      "overflow_x": null,
      "overflow_y": null,
      "padding": null,
      "right": null,
      "top": null,
      "visibility": null,
      "width": null
     }
    },
    "0af7beb368c34735abf7334e4ad9e9c9": {
     "model_module": "@jupyter-widgets/controls",
     "model_module_version": "1.5.0",
     "model_name": "FloatProgressModel",
     "state": {
      "_dom_classes": [],
      "_model_module": "@jupyter-widgets/controls",
      "_model_module_version": "1.5.0",
      "_model_name": "FloatProgressModel",
      "_view_count": null,
      "_view_module": "@jupyter-widgets/controls",
      "_view_module_version": "1.5.0",
      "_view_name": "ProgressView",
      "bar_style": "success",
      "description": "",
      "description_tooltip": null,
      "layout": "IPY_MODEL_12ad5a8d05b84fb2ae472573e1cd624f",
      "max": 9,
      "min": 0,
      "orientation": "horizontal",
      "style": "IPY_MODEL_9622de93dc4f49c2b5cd740477df2acd",
      "value": 9
     }
    },
    "12ad5a8d05b84fb2ae472573e1cd624f": {
     "model_module": "@jupyter-widgets/base",
     "model_module_version": "1.2.0",
     "model_name": "LayoutModel",
     "state": {
      "_model_module": "@jupyter-widgets/base",
      "_model_module_version": "1.2.0",
      "_model_name": "LayoutModel",
      "_view_count": null,
      "_view_module": "@jupyter-widgets/base",
      "_view_module_version": "1.2.0",
      "_view_name": "LayoutView",
      "align_content": null,
      "align_items": null,
      "align_self": null,
      "border": null,
      "bottom": null,
      "display": null,
      "flex": null,
      "flex_flow": null,
      "grid_area": null,
      "grid_auto_columns": null,
      "grid_auto_flow": null,
      "grid_auto_rows": null,
      "grid_column": null,
      "grid_gap": null,
      "grid_row": null,
      "grid_template_areas": null,
      "grid_template_columns": null,
      "grid_template_rows": null,
      "height": null,
      "justify_content": null,
      "justify_items": null,
      "left": null,
      "margin": null,
      "max_height": null,
      "max_width": null,
      "min_height": null,
      "min_width": null,
      "object_fit": null,
      "object_position": null,
      "order": null,
      "overflow": null,
      "overflow_x": null,
      "overflow_y": null,
      "padding": null,
      "right": null,
      "top": null,
      "visibility": null,
      "width": null
     }
    },
    "156a5c690c3d4771b43c0ea7351d6ecd": {
     "model_module": "@jupyter-widgets/controls",
     "model_module_version": "1.5.0",
     "model_name": "FloatProgressModel",
     "state": {
      "_dom_classes": [],
      "_model_module": "@jupyter-widgets/controls",
      "_model_module_version": "1.5.0",
      "_model_name": "FloatProgressModel",
      "_view_count": null,
      "_view_module": "@jupyter-widgets/controls",
      "_view_module_version": "1.5.0",
      "_view_name": "ProgressView",
      "bar_style": "success",
      "description": "",
      "description_tooltip": null,
      "layout": "IPY_MODEL_1daafe0968be4419b225d67758bf3603",
      "max": 9,
      "min": 0,
      "orientation": "horizontal",
      "style": "IPY_MODEL_4179840c35f24de68a9951fc2ec2b673",
      "value": 9
     }
    },
    "187e8a1e1d654d5e994ca76f50a1b73f": {
     "model_module": "@jupyter-widgets/base",
     "model_module_version": "1.2.0",
     "model_name": "LayoutModel",
     "state": {
      "_model_module": "@jupyter-widgets/base",
      "_model_module_version": "1.2.0",
      "_model_name": "LayoutModel",
      "_view_count": null,
      "_view_module": "@jupyter-widgets/base",
      "_view_module_version": "1.2.0",
      "_view_name": "LayoutView",
      "align_content": null,
      "align_items": null,
      "align_self": null,
      "border": null,
      "bottom": null,
      "display": null,
      "flex": null,
      "flex_flow": null,
      "grid_area": null,
      "grid_auto_columns": null,
      "grid_auto_flow": null,
      "grid_auto_rows": null,
      "grid_column": null,
      "grid_gap": null,
      "grid_row": null,
      "grid_template_areas": null,
      "grid_template_columns": null,
      "grid_template_rows": null,
      "height": null,
      "justify_content": null,
      "justify_items": null,
      "left": null,
      "margin": null,
      "max_height": null,
      "max_width": null,
      "min_height": null,
      "min_width": null,
      "object_fit": null,
      "object_position": null,
      "order": null,
      "overflow": null,
      "overflow_x": null,
      "overflow_y": null,
      "padding": null,
      "right": null,
      "top": null,
      "visibility": null,
      "width": null
     }
    },
    "1ab952700b614347985f836a4f88ec10": {
     "model_module": "@jupyter-widgets/controls",
     "model_module_version": "1.5.0",
     "model_name": "HTMLModel",
     "state": {
      "_dom_classes": [],
      "_model_module": "@jupyter-widgets/controls",
      "_model_module_version": "1.5.0",
      "_model_name": "HTMLModel",
      "_view_count": null,
      "_view_module": "@jupyter-widgets/controls",
      "_view_module_version": "1.5.0",
      "_view_name": "HTMLView",
      "description": "",
      "description_tooltip": null,
      "layout": "IPY_MODEL_64d9874d5f2a4f5a9e43f8c299760289",
      "placeholder": "​",
      "style": "IPY_MODEL_6d9b1ace3f8d48cabc0b66bf3630547d",
      "value": " 9/9 [00:00&lt;00:00, 312.38it/s]"
     }
    },
    "1d52c3d1f75248c192993359d09a15b0": {
     "model_module": "@jupyter-widgets/base",
     "model_module_version": "1.2.0",
     "model_name": "LayoutModel",
     "state": {
      "_model_module": "@jupyter-widgets/base",
      "_model_module_version": "1.2.0",
      "_model_name": "LayoutModel",
      "_view_count": null,
      "_view_module": "@jupyter-widgets/base",
      "_view_module_version": "1.2.0",
      "_view_name": "LayoutView",
      "align_content": null,
      "align_items": null,
      "align_self": null,
      "border": null,
      "bottom": null,
      "display": null,
      "flex": null,
      "flex_flow": null,
      "grid_area": null,
      "grid_auto_columns": null,
      "grid_auto_flow": null,
      "grid_auto_rows": null,
      "grid_column": null,
      "grid_gap": null,
      "grid_row": null,
      "grid_template_areas": null,
      "grid_template_columns": null,
      "grid_template_rows": null,
      "height": null,
      "justify_content": null,
      "justify_items": null,
      "left": null,
      "margin": null,
      "max_height": null,
      "max_width": null,
      "min_height": null,
      "min_width": null,
      "object_fit": null,
      "object_position": null,
      "order": null,
      "overflow": null,
      "overflow_x": null,
      "overflow_y": null,
      "padding": null,
      "right": null,
      "top": null,
      "visibility": null,
      "width": null
     }
    },
    "1daafe0968be4419b225d67758bf3603": {
     "model_module": "@jupyter-widgets/base",
     "model_module_version": "1.2.0",
     "model_name": "LayoutModel",
     "state": {
      "_model_module": "@jupyter-widgets/base",
      "_model_module_version": "1.2.0",
      "_model_name": "LayoutModel",
      "_view_count": null,
      "_view_module": "@jupyter-widgets/base",
      "_view_module_version": "1.2.0",
      "_view_name": "LayoutView",
      "align_content": null,
      "align_items": null,
      "align_self": null,
      "border": null,
      "bottom": null,
      "display": null,
      "flex": null,
      "flex_flow": null,
      "grid_area": null,
      "grid_auto_columns": null,
      "grid_auto_flow": null,
      "grid_auto_rows": null,
      "grid_column": null,
      "grid_gap": null,
      "grid_row": null,
      "grid_template_areas": null,
      "grid_template_columns": null,
      "grid_template_rows": null,
      "height": null,
      "justify_content": null,
      "justify_items": null,
      "left": null,
      "margin": null,
      "max_height": null,
      "max_width": null,
      "min_height": null,
      "min_width": null,
      "object_fit": null,
      "object_position": null,
      "order": null,
      "overflow": null,
      "overflow_x": null,
      "overflow_y": null,
      "padding": null,
      "right": null,
      "top": null,
      "visibility": null,
      "width": null
     }
    },
    "1e7e2825c64c4bf2a806d225ec262157": {
     "model_module": "@jupyter-widgets/controls",
     "model_module_version": "1.5.0",
     "model_name": "HTMLModel",
     "state": {
      "_dom_classes": [],
      "_model_module": "@jupyter-widgets/controls",
      "_model_module_version": "1.5.0",
      "_model_name": "HTMLModel",
      "_view_count": null,
      "_view_module": "@jupyter-widgets/controls",
      "_view_module_version": "1.5.0",
      "_view_name": "HTMLView",
      "description": "",
      "description_tooltip": null,
      "layout": "IPY_MODEL_470754f4533940b5bfd9cddf5375ec6d",
      "placeholder": "​",
      "style": "IPY_MODEL_51b9af019e7a4114af56704020adb073",
      "value": " 9/9 [00:00&lt;00:00, 266.08it/s]"
     }
    },
    "1f6311151e5d4f11b0221c01f67e1089": {
     "model_module": "@jupyter-widgets/base",
     "model_module_version": "1.2.0",
     "model_name": "LayoutModel",
     "state": {
      "_model_module": "@jupyter-widgets/base",
      "_model_module_version": "1.2.0",
      "_model_name": "LayoutModel",
      "_view_count": null,
      "_view_module": "@jupyter-widgets/base",
      "_view_module_version": "1.2.0",
      "_view_name": "LayoutView",
      "align_content": null,
      "align_items": null,
      "align_self": null,
      "border": null,
      "bottom": null,
      "display": null,
      "flex": null,
      "flex_flow": null,
      "grid_area": null,
      "grid_auto_columns": null,
      "grid_auto_flow": null,
      "grid_auto_rows": null,
      "grid_column": null,
      "grid_gap": null,
      "grid_row": null,
      "grid_template_areas": null,
      "grid_template_columns": null,
      "grid_template_rows": null,
      "height": null,
      "justify_content": null,
      "justify_items": null,
      "left": null,
      "margin": null,
      "max_height": null,
      "max_width": null,
      "min_height": null,
      "min_width": null,
      "object_fit": null,
      "object_position": null,
      "order": null,
      "overflow": null,
      "overflow_x": null,
      "overflow_y": null,
      "padding": null,
      "right": null,
      "top": null,
      "visibility": null,
      "width": null
     }
    },
    "20af49332562427f9cb015673828ca04": {
     "model_module": "@jupyter-widgets/controls",
     "model_module_version": "1.5.0",
     "model_name": "HTMLModel",
     "state": {
      "_dom_classes": [],
      "_model_module": "@jupyter-widgets/controls",
      "_model_module_version": "1.5.0",
      "_model_name": "HTMLModel",
      "_view_count": null,
      "_view_module": "@jupyter-widgets/controls",
      "_view_module_version": "1.5.0",
      "_view_name": "HTMLView",
      "description": "",
      "description_tooltip": null,
      "layout": "IPY_MODEL_02576ade499449f3bb2ef0e9a705c261",
      "placeholder": "​",
      "style": "IPY_MODEL_254bea0fcbce4340a144e3dd2b1c15ce",
      "value": " 9/9 [00:24&lt;00:00,  2.46s/it]"
     }
    },
    "2340220022724036899cd385eee591cb": {
     "model_module": "@jupyter-widgets/base",
     "model_module_version": "1.2.0",
     "model_name": "LayoutModel",
     "state": {
      "_model_module": "@jupyter-widgets/base",
      "_model_module_version": "1.2.0",
      "_model_name": "LayoutModel",
      "_view_count": null,
      "_view_module": "@jupyter-widgets/base",
      "_view_module_version": "1.2.0",
      "_view_name": "LayoutView",
      "align_content": null,
      "align_items": null,
      "align_self": null,
      "border": null,
      "bottom": null,
      "display": null,
      "flex": null,
      "flex_flow": null,
      "grid_area": null,
      "grid_auto_columns": null,
      "grid_auto_flow": null,
      "grid_auto_rows": null,
      "grid_column": null,
      "grid_gap": null,
      "grid_row": null,
      "grid_template_areas": null,
      "grid_template_columns": null,
      "grid_template_rows": null,
      "height": null,
      "justify_content": null,
      "justify_items": null,
      "left": null,
      "margin": null,
      "max_height": null,
      "max_width": null,
      "min_height": null,
      "min_width": null,
      "object_fit": null,
      "object_position": null,
      "order": null,
      "overflow": null,
      "overflow_x": null,
      "overflow_y": null,
      "padding": null,
      "right": null,
      "top": null,
      "visibility": null,
      "width": null
     }
    },
    "244cc16ad8f64de6bf2bfe034de82b44": {
     "model_module": "@jupyter-widgets/base",
     "model_module_version": "1.2.0",
     "model_name": "LayoutModel",
     "state": {
      "_model_module": "@jupyter-widgets/base",
      "_model_module_version": "1.2.0",
      "_model_name": "LayoutModel",
      "_view_count": null,
      "_view_module": "@jupyter-widgets/base",
      "_view_module_version": "1.2.0",
      "_view_name": "LayoutView",
      "align_content": null,
      "align_items": null,
      "align_self": null,
      "border": null,
      "bottom": null,
      "display": null,
      "flex": null,
      "flex_flow": null,
      "grid_area": null,
      "grid_auto_columns": null,
      "grid_auto_flow": null,
      "grid_auto_rows": null,
      "grid_column": null,
      "grid_gap": null,
      "grid_row": null,
      "grid_template_areas": null,
      "grid_template_columns": null,
      "grid_template_rows": null,
      "height": null,
      "justify_content": null,
      "justify_items": null,
      "left": null,
      "margin": null,
      "max_height": null,
      "max_width": null,
      "min_height": null,
      "min_width": null,
      "object_fit": null,
      "object_position": null,
      "order": null,
      "overflow": null,
      "overflow_x": null,
      "overflow_y": null,
      "padding": null,
      "right": null,
      "top": null,
      "visibility": null,
      "width": null
     }
    },
    "254bea0fcbce4340a144e3dd2b1c15ce": {
     "model_module": "@jupyter-widgets/controls",
     "model_module_version": "1.5.0",
     "model_name": "DescriptionStyleModel",
     "state": {
      "_model_module": "@jupyter-widgets/controls",
      "_model_module_version": "1.5.0",
      "_model_name": "DescriptionStyleModel",
      "_view_count": null,
      "_view_module": "@jupyter-widgets/base",
      "_view_module_version": "1.2.0",
      "_view_name": "StyleView",
      "description_width": ""
     }
    },
    "2598c688b83042ab972fddd379026898": {
     "model_module": "@jupyter-widgets/base",
     "model_module_version": "1.2.0",
     "model_name": "LayoutModel",
     "state": {
      "_model_module": "@jupyter-widgets/base",
      "_model_module_version": "1.2.0",
      "_model_name": "LayoutModel",
      "_view_count": null,
      "_view_module": "@jupyter-widgets/base",
      "_view_module_version": "1.2.0",
      "_view_name": "LayoutView",
      "align_content": null,
      "align_items": null,
      "align_self": null,
      "border": null,
      "bottom": null,
      "display": null,
      "flex": null,
      "flex_flow": null,
      "grid_area": null,
      "grid_auto_columns": null,
      "grid_auto_flow": null,
      "grid_auto_rows": null,
      "grid_column": null,
      "grid_gap": null,
      "grid_row": null,
      "grid_template_areas": null,
      "grid_template_columns": null,
      "grid_template_rows": null,
      "height": null,
      "justify_content": null,
      "justify_items": null,
      "left": null,
      "margin": null,
      "max_height": null,
      "max_width": null,
      "min_height": null,
      "min_width": null,
      "object_fit": null,
      "object_position": null,
      "order": null,
      "overflow": null,
      "overflow_x": null,
      "overflow_y": null,
      "padding": null,
      "right": null,
      "top": null,
      "visibility": null,
      "width": null
     }
    },
    "260acf1a5cca4a5baf42b51c2154a344": {
     "model_module": "@jupyter-widgets/controls",
     "model_module_version": "1.5.0",
     "model_name": "ProgressStyleModel",
     "state": {
      "_model_module": "@jupyter-widgets/controls",
      "_model_module_version": "1.5.0",
      "_model_name": "ProgressStyleModel",
      "_view_count": null,
      "_view_module": "@jupyter-widgets/base",
      "_view_module_version": "1.2.0",
      "_view_name": "StyleView",
      "bar_color": null,
      "description_width": ""
     }
    },
    "2737a2b3554c4f1b86b910623744f7e6": {
     "model_module": "@jupyter-widgets/controls",
     "model_module_version": "1.5.0",
     "model_name": "HBoxModel",
     "state": {
      "_dom_classes": [],
      "_model_module": "@jupyter-widgets/controls",
      "_model_module_version": "1.5.0",
      "_model_name": "HBoxModel",
      "_view_count": null,
      "_view_module": "@jupyter-widgets/controls",
      "_view_module_version": "1.5.0",
      "_view_name": "HBoxView",
      "box_style": "",
      "children": [
       "IPY_MODEL_71041ba2ed144362a48f20b9bdbdcd45",
       "IPY_MODEL_63cd597623ef4a61a9cb5afbf6f6b951",
       "IPY_MODEL_6a46a844a28f46b7b98d61e4a86d58ec"
      ],
      "layout": "IPY_MODEL_8fbc4f2ad5214d17840a844ed00aa8af"
     }
    },
    "298faff347d74a1789a1d8363dd97fb7": {
     "model_module": "@jupyter-widgets/controls",
     "model_module_version": "1.5.0",
     "model_name": "HTMLModel",
     "state": {
      "_dom_classes": [],
      "_model_module": "@jupyter-widgets/controls",
      "_model_module_version": "1.5.0",
      "_model_name": "HTMLModel",
      "_view_count": null,
      "_view_module": "@jupyter-widgets/controls",
      "_view_module_version": "1.5.0",
      "_view_name": "HTMLView",
      "description": "",
      "description_tooltip": null,
      "layout": "IPY_MODEL_6c80e814cfd14744b9c05820ae52043e",
      "placeholder": "​",
      "style": "IPY_MODEL_2a765c396bbd4601b8a056c1edef9ab1",
      "value": "Parsing nodes: 100%"
     }
    },
    "29db7c13edb84fe18c76a6c3ffcf54f6": {
     "model_module": "@jupyter-widgets/controls",
     "model_module_version": "1.5.0",
     "model_name": "HTMLModel",
     "state": {
      "_dom_classes": [],
      "_model_module": "@jupyter-widgets/controls",
      "_model_module_version": "1.5.0",
      "_model_name": "HTMLModel",
      "_view_count": null,
      "_view_module": "@jupyter-widgets/controls",
      "_view_module_version": "1.5.0",
      "_view_name": "HTMLView",
      "description": "",
      "description_tooltip": null,
      "layout": "IPY_MODEL_ba559bf9aa9949f2b11827ec685ea7b6",
      "placeholder": "​",
      "style": "IPY_MODEL_55a2abb70f424a18836edde5684d4629",
      "value": "Parsing nodes: 100%"
     }
    },
    "2a765c396bbd4601b8a056c1edef9ab1": {
     "model_module": "@jupyter-widgets/controls",
     "model_module_version": "1.5.0",
     "model_name": "DescriptionStyleModel",
     "state": {
      "_model_module": "@jupyter-widgets/controls",
      "_model_module_version": "1.5.0",
      "_model_name": "DescriptionStyleModel",
      "_view_count": null,
      "_view_module": "@jupyter-widgets/base",
      "_view_module_version": "1.2.0",
      "_view_name": "StyleView",
      "description_width": ""
     }
    },
    "2db6d82d89d74485b13c86c6f8179346": {
     "model_module": "@jupyter-widgets/controls",
     "model_module_version": "1.5.0",
     "model_name": "FloatProgressModel",
     "state": {
      "_dom_classes": [],
      "_model_module": "@jupyter-widgets/controls",
      "_model_module_version": "1.5.0",
      "_model_name": "FloatProgressModel",
      "_view_count": null,
      "_view_module": "@jupyter-widgets/controls",
      "_view_module_version": "1.5.0",
      "_view_name": "ProgressView",
      "bar_style": "success",
      "description": "",
      "description_tooltip": null,
      "layout": "IPY_MODEL_cb6e4b7ce2c140bdabd9bd14586ec6e1",
      "max": 9,
      "min": 0,
      "orientation": "horizontal",
      "style": "IPY_MODEL_05a05a0a80d0434c8b6fdcd23cc22526",
      "value": 9
     }
    },
    "2fd0f785a1b64679a297c046fcec87bc": {
     "model_module": "@jupyter-widgets/controls",
     "model_module_version": "1.5.0",
     "model_name": "HTMLModel",
     "state": {
      "_dom_classes": [],
      "_model_module": "@jupyter-widgets/controls",
      "_model_module_version": "1.5.0",
      "_model_name": "HTMLModel",
      "_view_count": null,
      "_view_module": "@jupyter-widgets/controls",
      "_view_module_version": "1.5.0",
      "_view_name": "HTMLView",
      "description": "",
      "description_tooltip": null,
      "layout": "IPY_MODEL_5f07e2737051433ea609a1728c642ab7",
      "placeholder": "​",
      "style": "IPY_MODEL_d9d4a97ac6e3455b9d8cd3bd25b21f07",
      "value": "Summarizing documents: 100%"
     }
    },
    "31ca2ffae54645029830c6a494bb7b50": {
     "model_module": "@jupyter-widgets/base",
     "model_module_version": "1.2.0",
     "model_name": "LayoutModel",
     "state": {
      "_model_module": "@jupyter-widgets/base",
      "_model_module_version": "1.2.0",
      "_model_name": "LayoutModel",
      "_view_count": null,
      "_view_module": "@jupyter-widgets/base",
      "_view_module_version": "1.2.0",
      "_view_name": "LayoutView",
      "align_content": null,
      "align_items": null,
      "align_self": null,
      "border": null,
      "bottom": null,
      "display": null,
      "flex": null,
      "flex_flow": null,
      "grid_area": null,
      "grid_auto_columns": null,
      "grid_auto_flow": null,
      "grid_auto_rows": null,
      "grid_column": null,
      "grid_gap": null,
      "grid_row": null,
      "grid_template_areas": null,
      "grid_template_columns": null,
      "grid_template_rows": null,
      "height": null,
      "justify_content": null,
      "justify_items": null,
      "left": null,
      "margin": null,
      "max_height": null,
      "max_width": null,
      "min_height": null,
      "min_width": null,
      "object_fit": null,
      "object_position": null,
      "order": null,
      "overflow": null,
      "overflow_x": null,
      "overflow_y": null,
      "padding": null,
      "right": null,
      "top": null,
      "visibility": null,
      "width": null
     }
    },
    "326addf309b149478306b4d6a8832f55": {
     "model_module": "@jupyter-widgets/base",
     "model_module_version": "1.2.0",
     "model_name": "LayoutModel",
     "state": {
      "_model_module": "@jupyter-widgets/base",
      "_model_module_version": "1.2.0",
      "_model_name": "LayoutModel",
      "_view_count": null,
      "_view_module": "@jupyter-widgets/base",
      "_view_module_version": "1.2.0",
      "_view_name": "LayoutView",
      "align_content": null,
      "align_items": null,
      "align_self": null,
      "border": null,
      "bottom": null,
      "display": null,
      "flex": null,
      "flex_flow": null,
      "grid_area": null,
      "grid_auto_columns": null,
      "grid_auto_flow": null,
      "grid_auto_rows": null,
      "grid_column": null,
      "grid_gap": null,
      "grid_row": null,
      "grid_template_areas": null,
      "grid_template_columns": null,
      "grid_template_rows": null,
      "height": null,
      "justify_content": null,
      "justify_items": null,
      "left": null,
      "margin": null,
      "max_height": null,
      "max_width": null,
      "min_height": null,
      "min_width": null,
      "object_fit": null,
      "object_position": null,
      "order": null,
      "overflow": null,
      "overflow_x": null,
      "overflow_y": null,
      "padding": null,
      "right": null,
      "top": null,
      "visibility": null,
      "width": null
     }
    },
    "34be21093b6545a7979734207d0fa8b2": {
     "model_module": "@jupyter-widgets/base",
     "model_module_version": "1.2.0",
     "model_name": "LayoutModel",
     "state": {
      "_model_module": "@jupyter-widgets/base",
      "_model_module_version": "1.2.0",
      "_model_name": "LayoutModel",
      "_view_count": null,
      "_view_module": "@jupyter-widgets/base",
      "_view_module_version": "1.2.0",
      "_view_name": "LayoutView",
      "align_content": null,
      "align_items": null,
      "align_self": null,
      "border": null,
      "bottom": null,
      "display": null,
      "flex": null,
      "flex_flow": null,
      "grid_area": null,
      "grid_auto_columns": null,
      "grid_auto_flow": null,
      "grid_auto_rows": null,
      "grid_column": null,
      "grid_gap": null,
      "grid_row": null,
      "grid_template_areas": null,
      "grid_template_columns": null,
      "grid_template_rows": null,
      "height": null,
      "justify_content": null,
      "justify_items": null,
      "left": null,
      "margin": null,
      "max_height": null,
      "max_width": null,
      "min_height": null,
      "min_width": null,
      "object_fit": null,
      "object_position": null,
      "order": null,
      "overflow": null,
      "overflow_x": null,
      "overflow_y": null,
      "padding": null,
      "right": null,
      "top": null,
      "visibility": null,
      "width": null
     }
    },
    "3b2b7ca283964dbeb5a863cc0271cc73": {
     "model_module": "@jupyter-widgets/base",
     "model_module_version": "1.2.0",
     "model_name": "LayoutModel",
     "state": {
      "_model_module": "@jupyter-widgets/base",
      "_model_module_version": "1.2.0",
      "_model_name": "LayoutModel",
      "_view_count": null,
      "_view_module": "@jupyter-widgets/base",
      "_view_module_version": "1.2.0",
      "_view_name": "LayoutView",
      "align_content": null,
      "align_items": null,
      "align_self": null,
      "border": null,
      "bottom": null,
      "display": null,
      "flex": null,
      "flex_flow": null,
      "grid_area": null,
      "grid_auto_columns": null,
      "grid_auto_flow": null,
      "grid_auto_rows": null,
      "grid_column": null,
      "grid_gap": null,
      "grid_row": null,
      "grid_template_areas": null,
      "grid_template_columns": null,
      "grid_template_rows": null,
      "height": null,
      "justify_content": null,
      "justify_items": null,
      "left": null,
      "margin": null,
      "max_height": null,
      "max_width": null,
      "min_height": null,
      "min_width": null,
      "object_fit": null,
      "object_position": null,
      "order": null,
      "overflow": null,
      "overflow_x": null,
      "overflow_y": null,
      "padding": null,
      "right": null,
      "top": null,
      "visibility": null,
      "width": null
     }
    },
    "3bf561c40d3240f2a02e44028b0e2101": {
     "model_module": "@jupyter-widgets/controls",
     "model_module_version": "1.5.0",
     "model_name": "ProgressStyleModel",
     "state": {
      "_model_module": "@jupyter-widgets/controls",
      "_model_module_version": "1.5.0",
      "_model_name": "ProgressStyleModel",
      "_view_count": null,
      "_view_module": "@jupyter-widgets/base",
      "_view_module_version": "1.2.0",
      "_view_name": "StyleView",
      "bar_color": null,
      "description_width": ""
     }
    },
    "3cc13dc1acb84da880abea2c1f3c0742": {
     "model_module": "@jupyter-widgets/controls",
     "model_module_version": "1.5.0",
     "model_name": "DescriptionStyleModel",
     "state": {
      "_model_module": "@jupyter-widgets/controls",
      "_model_module_version": "1.5.0",
      "_model_name": "DescriptionStyleModel",
      "_view_count": null,
      "_view_module": "@jupyter-widgets/base",
      "_view_module_version": "1.2.0",
      "_view_name": "StyleView",
      "description_width": ""
     }
    },
    "3f938d6311a44a7b939514c46ef0ca85": {
     "model_module": "@jupyter-widgets/base",
     "model_module_version": "1.2.0",
     "model_name": "LayoutModel",
     "state": {
      "_model_module": "@jupyter-widgets/base",
      "_model_module_version": "1.2.0",
      "_model_name": "LayoutModel",
      "_view_count": null,
      "_view_module": "@jupyter-widgets/base",
      "_view_module_version": "1.2.0",
      "_view_name": "LayoutView",
      "align_content": null,
      "align_items": null,
      "align_self": null,
      "border": null,
      "bottom": null,
      "display": null,
      "flex": null,
      "flex_flow": null,
      "grid_area": null,
      "grid_auto_columns": null,
      "grid_auto_flow": null,
      "grid_auto_rows": null,
      "grid_column": null,
      "grid_gap": null,
      "grid_row": null,
      "grid_template_areas": null,
      "grid_template_columns": null,
      "grid_template_rows": null,
      "height": null,
      "justify_content": null,
      "justify_items": null,
      "left": null,
      "margin": null,
      "max_height": null,
      "max_width": null,
      "min_height": null,
      "min_width": null,
      "object_fit": null,
      "object_position": null,
      "order": null,
      "overflow": null,
      "overflow_x": null,
      "overflow_y": null,
      "padding": null,
      "right": null,
      "top": null,
      "visibility": null,
      "width": null
     }
    },
    "40a4e5738af24c01aeeab8668f0cf1b8": {
     "model_module": "@jupyter-widgets/controls",
     "model_module_version": "1.5.0",
     "model_name": "DescriptionStyleModel",
     "state": {
      "_model_module": "@jupyter-widgets/controls",
      "_model_module_version": "1.5.0",
      "_model_name": "DescriptionStyleModel",
      "_view_count": null,
      "_view_module": "@jupyter-widgets/base",
      "_view_module_version": "1.2.0",
      "_view_name": "StyleView",
      "description_width": ""
     }
    },
    "414e20662cd44845aba3a0140c236316": {
     "model_module": "@jupyter-widgets/base",
     "model_module_version": "1.2.0",
     "model_name": "LayoutModel",
     "state": {
      "_model_module": "@jupyter-widgets/base",
      "_model_module_version": "1.2.0",
      "_model_name": "LayoutModel",
      "_view_count": null,
      "_view_module": "@jupyter-widgets/base",
      "_view_module_version": "1.2.0",
      "_view_name": "LayoutView",
      "align_content": null,
      "align_items": null,
      "align_self": null,
      "border": null,
      "bottom": null,
      "display": null,
      "flex": null,
      "flex_flow": null,
      "grid_area": null,
      "grid_auto_columns": null,
      "grid_auto_flow": null,
      "grid_auto_rows": null,
      "grid_column": null,
      "grid_gap": null,
      "grid_row": null,
      "grid_template_areas": null,
      "grid_template_columns": null,
      "grid_template_rows": null,
      "height": null,
      "justify_content": null,
      "justify_items": null,
      "left": null,
      "margin": null,
      "max_height": null,
      "max_width": null,
      "min_height": null,
      "min_width": null,
      "object_fit": null,
      "object_position": null,
      "order": null,
      "overflow": null,
      "overflow_x": null,
      "overflow_y": null,
      "padding": null,
      "right": null,
      "top": null,
      "visibility": null,
      "width": null
     }
    },
    "4179840c35f24de68a9951fc2ec2b673": {
     "model_module": "@jupyter-widgets/controls",
     "model_module_version": "1.5.0",
     "model_name": "ProgressStyleModel",
     "state": {
      "_model_module": "@jupyter-widgets/controls",
      "_model_module_version": "1.5.0",
      "_model_name": "ProgressStyleModel",
      "_view_count": null,
      "_view_module": "@jupyter-widgets/base",
      "_view_module_version": "1.2.0",
      "_view_name": "StyleView",
      "bar_color": null,
      "description_width": ""
     }
    },
    "470754f4533940b5bfd9cddf5375ec6d": {
     "model_module": "@jupyter-widgets/base",
     "model_module_version": "1.2.0",
     "model_name": "LayoutModel",
     "state": {
      "_model_module": "@jupyter-widgets/base",
      "_model_module_version": "1.2.0",
      "_model_name": "LayoutModel",
      "_view_count": null,
      "_view_module": "@jupyter-widgets/base",
      "_view_module_version": "1.2.0",
      "_view_name": "LayoutView",
      "align_content": null,
      "align_items": null,
      "align_self": null,
      "border": null,
      "bottom": null,
      "display": null,
      "flex": null,
      "flex_flow": null,
      "grid_area": null,
      "grid_auto_columns": null,
      "grid_auto_flow": null,
      "grid_auto_rows": null,
      "grid_column": null,
      "grid_gap": null,
      "grid_row": null,
      "grid_template_areas": null,
      "grid_template_columns": null,
      "grid_template_rows": null,
      "height": null,
      "justify_content": null,
      "justify_items": null,
      "left": null,
      "margin": null,
      "max_height": null,
      "max_width": null,
      "min_height": null,
      "min_width": null,
      "object_fit": null,
      "object_position": null,
      "order": null,
      "overflow": null,
      "overflow_x": null,
      "overflow_y": null,
      "padding": null,
      "right": null,
      "top": null,
      "visibility": null,
      "width": null
     }
    },
    "48a3efcf37784c12baef6b52569333a8": {
     "model_module": "@jupyter-widgets/controls",
     "model_module_version": "1.5.0",
     "model_name": "ProgressStyleModel",
     "state": {
      "_model_module": "@jupyter-widgets/controls",
      "_model_module_version": "1.5.0",
      "_model_name": "ProgressStyleModel",
      "_view_count": null,
      "_view_module": "@jupyter-widgets/base",
      "_view_module_version": "1.2.0",
      "_view_name": "StyleView",
      "bar_color": null,
      "description_width": ""
     }
    },
    "49fb4e9352fd4f9aa47a436ea0e9ee00": {
     "model_module": "@jupyter-widgets/controls",
     "model_module_version": "1.5.0",
     "model_name": "HTMLModel",
     "state": {
      "_dom_classes": [],
      "_model_module": "@jupyter-widgets/controls",
      "_model_module_version": "1.5.0",
      "_model_name": "HTMLModel",
      "_view_count": null,
      "_view_module": "@jupyter-widgets/controls",
      "_view_module_version": "1.5.0",
      "_view_name": "HTMLView",
      "description": "",
      "description_tooltip": null,
      "layout": "IPY_MODEL_073bc2031e37489c871013a47ba15e6a",
      "placeholder": "​",
      "style": "IPY_MODEL_5831db4be22449af9de30450e60a5a97",
      "value": " 9/9 [00:00&lt;00:00, 148.55it/s]"
     }
    },
    "4a8cc59153fa4780b6dbf597886027b7": {
     "model_module": "@jupyter-widgets/controls",
     "model_module_version": "1.5.0",
     "model_name": "ProgressStyleModel",
     "state": {
      "_model_module": "@jupyter-widgets/controls",
      "_model_module_version": "1.5.0",
      "_model_name": "ProgressStyleModel",
      "_view_count": null,
      "_view_module": "@jupyter-widgets/base",
      "_view_module_version": "1.2.0",
      "_view_name": "StyleView",
      "bar_color": null,
      "description_width": ""
     }
    },
    "4ab408fd9a2b469293f69d6aa5d82377": {
     "model_module": "@jupyter-widgets/controls",
     "model_module_version": "1.5.0",
     "model_name": "DescriptionStyleModel",
     "state": {
      "_model_module": "@jupyter-widgets/controls",
      "_model_module_version": "1.5.0",
      "_model_name": "DescriptionStyleModel",
      "_view_count": null,
      "_view_module": "@jupyter-widgets/base",
      "_view_module_version": "1.2.0",
      "_view_name": "StyleView",
      "description_width": ""
     }
    },
    "4bf5b9b1c2fc4a58b659b47c62a49493": {
     "model_module": "@jupyter-widgets/controls",
     "model_module_version": "1.5.0",
     "model_name": "DescriptionStyleModel",
     "state": {
      "_model_module": "@jupyter-widgets/controls",
      "_model_module_version": "1.5.0",
      "_model_name": "DescriptionStyleModel",
      "_view_count": null,
      "_view_module": "@jupyter-widgets/base",
      "_view_module_version": "1.2.0",
      "_view_name": "StyleView",
      "description_width": ""
     }
    },
    "4d17a78630e34c2f89acf24dd9d3df86": {
     "model_module": "@jupyter-widgets/base",
     "model_module_version": "1.2.0",
     "model_name": "LayoutModel",
     "state": {
      "_model_module": "@jupyter-widgets/base",
      "_model_module_version": "1.2.0",
      "_model_name": "LayoutModel",
      "_view_count": null,
      "_view_module": "@jupyter-widgets/base",
      "_view_module_version": "1.2.0",
      "_view_name": "LayoutView",
      "align_content": null,
      "align_items": null,
      "align_self": null,
      "border": null,
      "bottom": null,
      "display": null,
      "flex": null,
      "flex_flow": null,
      "grid_area": null,
      "grid_auto_columns": null,
      "grid_auto_flow": null,
      "grid_auto_rows": null,
      "grid_column": null,
      "grid_gap": null,
      "grid_row": null,
      "grid_template_areas": null,
      "grid_template_columns": null,
      "grid_template_rows": null,
      "height": null,
      "justify_content": null,
      "justify_items": null,
      "left": null,
      "margin": null,
      "max_height": null,
      "max_width": null,
      "min_height": null,
      "min_width": null,
      "object_fit": null,
      "object_position": null,
      "order": null,
      "overflow": null,
      "overflow_x": null,
      "overflow_y": null,
      "padding": null,
      "right": null,
      "top": null,
      "visibility": null,
      "width": null
     }
    },
    "4e8d707773844df69ae0ae13a4877ede": {
     "model_module": "@jupyter-widgets/controls",
     "model_module_version": "1.5.0",
     "model_name": "DescriptionStyleModel",
     "state": {
      "_model_module": "@jupyter-widgets/controls",
      "_model_module_version": "1.5.0",
      "_model_name": "DescriptionStyleModel",
      "_view_count": null,
      "_view_module": "@jupyter-widgets/base",
      "_view_module_version": "1.2.0",
      "_view_name": "StyleView",
      "description_width": ""
     }
    },
    "4eb0482c70324cf08edec3faa7f35470": {
     "model_module": "@jupyter-widgets/controls",
     "model_module_version": "1.5.0",
     "model_name": "DescriptionStyleModel",
     "state": {
      "_model_module": "@jupyter-widgets/controls",
      "_model_module_version": "1.5.0",
      "_model_name": "DescriptionStyleModel",
      "_view_count": null,
      "_view_module": "@jupyter-widgets/base",
      "_view_module_version": "1.2.0",
      "_view_name": "StyleView",
      "description_width": ""
     }
    },
    "4fbf999d27724699b86b6c3d917b729c": {
     "model_module": "@jupyter-widgets/controls",
     "model_module_version": "1.5.0",
     "model_name": "ProgressStyleModel",
     "state": {
      "_model_module": "@jupyter-widgets/controls",
      "_model_module_version": "1.5.0",
      "_model_name": "ProgressStyleModel",
      "_view_count": null,
      "_view_module": "@jupyter-widgets/base",
      "_view_module_version": "1.2.0",
      "_view_name": "StyleView",
      "bar_color": null,
      "description_width": ""
     }
    },
    "51b9af019e7a4114af56704020adb073": {
     "model_module": "@jupyter-widgets/controls",
     "model_module_version": "1.5.0",
     "model_name": "DescriptionStyleModel",
     "state": {
      "_model_module": "@jupyter-widgets/controls",
      "_model_module_version": "1.5.0",
      "_model_name": "DescriptionStyleModel",
      "_view_count": null,
      "_view_module": "@jupyter-widgets/base",
      "_view_module_version": "1.2.0",
      "_view_name": "StyleView",
      "description_width": ""
     }
    },
    "53b0e8fe6d674e49be682fb6207fddf9": {
     "model_module": "@jupyter-widgets/controls",
     "model_module_version": "1.5.0",
     "model_name": "HTMLModel",
     "state": {
      "_dom_classes": [],
      "_model_module": "@jupyter-widgets/controls",
      "_model_module_version": "1.5.0",
      "_model_name": "HTMLModel",
      "_view_count": null,
      "_view_module": "@jupyter-widgets/controls",
      "_view_module_version": "1.5.0",
      "_view_name": "HTMLView",
      "description": "",
      "description_tooltip": null,
      "layout": "IPY_MODEL_e2acbe24b6224a3c99cb795aa973dc8c",
      "placeholder": "​",
      "style": "IPY_MODEL_e9c146b6d9fc41d6a7e0c21f83f5f8bb",
      "value": " 9/9 [00:00&lt;00:00, 223.43it/s]"
     }
    },
    "55a2abb70f424a18836edde5684d4629": {
     "model_module": "@jupyter-widgets/controls",
     "model_module_version": "1.5.0",
     "model_name": "DescriptionStyleModel",
     "state": {
      "_model_module": "@jupyter-widgets/controls",
      "_model_module_version": "1.5.0",
      "_model_name": "DescriptionStyleModel",
      "_view_count": null,
      "_view_module": "@jupyter-widgets/base",
      "_view_module_version": "1.2.0",
      "_view_name": "StyleView",
      "description_width": ""
     }
    },
    "5831db4be22449af9de30450e60a5a97": {
     "model_module": "@jupyter-widgets/controls",
     "model_module_version": "1.5.0",
     "model_name": "DescriptionStyleModel",
     "state": {
      "_model_module": "@jupyter-widgets/controls",
      "_model_module_version": "1.5.0",
      "_model_name": "DescriptionStyleModel",
      "_view_count": null,
      "_view_module": "@jupyter-widgets/base",
      "_view_module_version": "1.2.0",
      "_view_name": "StyleView",
      "description_width": ""
     }
    },
    "585592b25c6043f3b938c230a09e7e03": {
     "model_module": "@jupyter-widgets/controls",
     "model_module_version": "1.5.0",
     "model_name": "DescriptionStyleModel",
     "state": {
      "_model_module": "@jupyter-widgets/controls",
      "_model_module_version": "1.5.0",
      "_model_name": "DescriptionStyleModel",
      "_view_count": null,
      "_view_module": "@jupyter-widgets/base",
      "_view_module_version": "1.2.0",
      "_view_name": "StyleView",
      "description_width": ""
     }
    },
    "5a2c0e20e5ec4ecc828981f7f4a6095a": {
     "model_module": "@jupyter-widgets/controls",
     "model_module_version": "1.5.0",
     "model_name": "HBoxModel",
     "state": {
      "_dom_classes": [],
      "_model_module": "@jupyter-widgets/controls",
      "_model_module_version": "1.5.0",
      "_model_name": "HBoxModel",
      "_view_count": null,
      "_view_module": "@jupyter-widgets/controls",
      "_view_module_version": "1.5.0",
      "_view_name": "HBoxView",
      "box_style": "",
      "children": [
       "IPY_MODEL_bd4737ff1f3e405cb9f57813ca3d7eca",
       "IPY_MODEL_f914b515911d4552aa8a653f836579a1",
       "IPY_MODEL_85c6531ae7d5414c85cda9e314693733"
      ],
      "layout": "IPY_MODEL_6f22aed76b264ac7b4c5e2abc3aad013"
     }
    },
    "5a3d8e83d0c8426ea812a46f72b405e1": {
     "model_module": "@jupyter-widgets/base",
     "model_module_version": "1.2.0",
     "model_name": "LayoutModel",
     "state": {
      "_model_module": "@jupyter-widgets/base",
      "_model_module_version": "1.2.0",
      "_model_name": "LayoutModel",
      "_view_count": null,
      "_view_module": "@jupyter-widgets/base",
      "_view_module_version": "1.2.0",
      "_view_name": "LayoutView",
      "align_content": null,
      "align_items": null,
      "align_self": null,
      "border": null,
      "bottom": null,
      "display": null,
      "flex": null,
      "flex_flow": null,
      "grid_area": null,
      "grid_auto_columns": null,
      "grid_auto_flow": null,
      "grid_auto_rows": null,
      "grid_column": null,
      "grid_gap": null,
      "grid_row": null,
      "grid_template_areas": null,
      "grid_template_columns": null,
      "grid_template_rows": null,
      "height": null,
      "justify_content": null,
      "justify_items": null,
      "left": null,
      "margin": null,
      "max_height": null,
      "max_width": null,
      "min_height": null,
      "min_width": null,
      "object_fit": null,
      "object_position": null,
      "order": null,
      "overflow": null,
      "overflow_x": null,
      "overflow_y": null,
      "padding": null,
      "right": null,
      "top": null,
      "visibility": null,
      "width": null
     }
    },
    "5cd1e36b4f764e8e89d5944f0368fdec": {
     "model_module": "@jupyter-widgets/controls",
     "model_module_version": "1.5.0",
     "model_name": "FloatProgressModel",
     "state": {
      "_dom_classes": [],
      "_model_module": "@jupyter-widgets/controls",
      "_model_module_version": "1.5.0",
      "_model_name": "FloatProgressModel",
      "_view_count": null,
      "_view_module": "@jupyter-widgets/controls",
      "_view_module_version": "1.5.0",
      "_view_name": "ProgressView",
      "bar_style": "success",
      "description": "",
      "description_tooltip": null,
      "layout": "IPY_MODEL_244cc16ad8f64de6bf2bfe034de82b44",
      "max": 9,
      "min": 0,
      "orientation": "horizontal",
      "style": "IPY_MODEL_83e5091fa5604787ab011a30752da40f",
      "value": 9
     }
    },
    "5eb459b7d6cc48d5b3eac0617d4de3e8": {
     "model_module": "@jupyter-widgets/controls",
     "model_module_version": "1.5.0",
     "model_name": "FloatProgressModel",
     "state": {
      "_dom_classes": [],
      "_model_module": "@jupyter-widgets/controls",
      "_model_module_version": "1.5.0",
      "_model_name": "FloatProgressModel",
      "_view_count": null,
      "_view_module": "@jupyter-widgets/controls",
      "_view_module_version": "1.5.0",
      "_view_name": "ProgressView",
      "bar_style": "success",
      "description": "",
      "description_tooltip": null,
      "layout": "IPY_MODEL_b9c9f45d73d04adebabd043b9e2fcf3c",
      "max": 9,
      "min": 0,
      "orientation": "horizontal",
      "style": "IPY_MODEL_4a8cc59153fa4780b6dbf597886027b7",
      "value": 9
     }
    },
    "5f07e2737051433ea609a1728c642ab7": {
     "model_module": "@jupyter-widgets/base",
     "model_module_version": "1.2.0",
     "model_name": "LayoutModel",
     "state": {
      "_model_module": "@jupyter-widgets/base",
      "_model_module_version": "1.2.0",
      "_model_name": "LayoutModel",
      "_view_count": null,
      "_view_module": "@jupyter-widgets/base",
      "_view_module_version": "1.2.0",
      "_view_name": "LayoutView",
      "align_content": null,
      "align_items": null,
      "align_self": null,
      "border": null,
      "bottom": null,
      "display": null,
      "flex": null,
      "flex_flow": null,
      "grid_area": null,
      "grid_auto_columns": null,
      "grid_auto_flow": null,
      "grid_auto_rows": null,
      "grid_column": null,
      "grid_gap": null,
      "grid_row": null,
      "grid_template_areas": null,
      "grid_template_columns": null,
      "grid_template_rows": null,
      "height": null,
      "justify_content": null,
      "justify_items": null,
      "left": null,
      "margin": null,
      "max_height": null,
      "max_width": null,
      "min_height": null,
      "min_width": null,
      "object_fit": null,
      "object_position": null,
      "order": null,
      "overflow": null,
      "overflow_x": null,
      "overflow_y": null,
      "padding": null,
      "right": null,
      "top": null,
      "visibility": null,
      "width": null
     }
    },
    "5f7789d733414845b3b678f8e3175c59": {
     "model_module": "@jupyter-widgets/controls",
     "model_module_version": "1.5.0",
     "model_name": "FloatProgressModel",
     "state": {
      "_dom_classes": [],
      "_model_module": "@jupyter-widgets/controls",
      "_model_module_version": "1.5.0",
      "_model_name": "FloatProgressModel",
      "_view_count": null,
      "_view_module": "@jupyter-widgets/controls",
      "_view_module_version": "1.5.0",
      "_view_name": "ProgressView",
      "bar_style": "success",
      "description": "",
      "description_tooltip": null,
      "layout": "IPY_MODEL_d93acb49fded441fbac51495cd416f99",
      "max": 9,
      "min": 0,
      "orientation": "horizontal",
      "style": "IPY_MODEL_3bf561c40d3240f2a02e44028b0e2101",
      "value": 9
     }
    },
    "62c0df7f46e14233925185ef496e9d8b": {
     "model_module": "@jupyter-widgets/controls",
     "model_module_version": "1.5.0",
     "model_name": "HTMLModel",
     "state": {
      "_dom_classes": [],
      "_model_module": "@jupyter-widgets/controls",
      "_model_module_version": "1.5.0",
      "_model_name": "HTMLModel",
      "_view_count": null,
      "_view_module": "@jupyter-widgets/controls",
      "_view_module_version": "1.5.0",
      "_view_name": "HTMLView",
      "description": "",
      "description_tooltip": null,
      "layout": "IPY_MODEL_91706bf038c745c5bcff7ee8752929ed",
      "placeholder": "​",
      "style": "IPY_MODEL_585592b25c6043f3b938c230a09e7e03",
      "value": "Extracting keywords from nodes: 100%"
     }
    },
    "63b6072f458c498ab2db221695f0f8e5": {
     "model_module": "@jupyter-widgets/controls",
     "model_module_version": "1.5.0",
     "model_name": "HTMLModel",
     "state": {
      "_dom_classes": [],
      "_model_module": "@jupyter-widgets/controls",
      "_model_module_version": "1.5.0",
      "_model_name": "HTMLModel",
      "_view_count": null,
      "_view_module": "@jupyter-widgets/controls",
      "_view_module_version": "1.5.0",
      "_view_name": "HTMLView",
      "description": "",
      "description_tooltip": null,
      "layout": "IPY_MODEL_3f938d6311a44a7b939514c46ef0ca85",
      "placeholder": "​",
      "style": "IPY_MODEL_40a4e5738af24c01aeeab8668f0cf1b8",
      "value": "Parsing nodes: 100%"
     }
    },
    "63cd597623ef4a61a9cb5afbf6f6b951": {
     "model_module": "@jupyter-widgets/controls",
     "model_module_version": "1.5.0",
     "model_name": "FloatProgressModel",
     "state": {
      "_dom_classes": [],
      "_model_module": "@jupyter-widgets/controls",
      "_model_module_version": "1.5.0",
      "_model_name": "FloatProgressModel",
      "_view_count": null,
      "_view_module": "@jupyter-widgets/controls",
      "_view_module_version": "1.5.0",
      "_view_name": "ProgressView",
      "bar_style": "success",
      "description": "",
      "description_tooltip": null,
      "layout": "IPY_MODEL_c409f0d13499402fba892d129120b36e",
      "max": 9,
      "min": 0,
      "orientation": "horizontal",
      "style": "IPY_MODEL_9adac731c35f48108c2a177576c9f22a",
      "value": 9
     }
    },
    "64d9874d5f2a4f5a9e43f8c299760289": {
     "model_module": "@jupyter-widgets/base",
     "model_module_version": "1.2.0",
     "model_name": "LayoutModel",
     "state": {
      "_model_module": "@jupyter-widgets/base",
      "_model_module_version": "1.2.0",
      "_model_name": "LayoutModel",
      "_view_count": null,
      "_view_module": "@jupyter-widgets/base",
      "_view_module_version": "1.2.0",
      "_view_name": "LayoutView",
      "align_content": null,
      "align_items": null,
      "align_self": null,
      "border": null,
      "bottom": null,
      "display": null,
      "flex": null,
      "flex_flow": null,
      "grid_area": null,
      "grid_auto_columns": null,
      "grid_auto_flow": null,
      "grid_auto_rows": null,
      "grid_column": null,
      "grid_gap": null,
      "grid_row": null,
      "grid_template_areas": null,
      "grid_template_columns": null,
      "grid_template_rows": null,
      "height": null,
      "justify_content": null,
      "justify_items": null,
      "left": null,
      "margin": null,
      "max_height": null,
      "max_width": null,
      "min_height": null,
      "min_width": null,
      "object_fit": null,
      "object_position": null,
      "order": null,
      "overflow": null,
      "overflow_x": null,
      "overflow_y": null,
      "padding": null,
      "right": null,
      "top": null,
      "visibility": null,
      "width": null
     }
    },
    "6a46a844a28f46b7b98d61e4a86d58ec": {
     "model_module": "@jupyter-widgets/controls",
     "model_module_version": "1.5.0",
     "model_name": "HTMLModel",
     "state": {
      "_dom_classes": [],
      "_model_module": "@jupyter-widgets/controls",
      "_model_module_version": "1.5.0",
      "_model_name": "HTMLModel",
      "_view_count": null,
      "_view_module": "@jupyter-widgets/controls",
      "_view_module_version": "1.5.0",
      "_view_name": "HTMLView",
      "description": "",
      "description_tooltip": null,
      "layout": "IPY_MODEL_ee7155ca310b4ede98bc94b072e233e8",
      "placeholder": "​",
      "style": "IPY_MODEL_4e8d707773844df69ae0ae13a4877ede",
      "value": " 9/9 [00:00&lt;00:00, 274.78it/s]"
     }
    },
    "6ad9593efbcd49c99490d7bbbc9fb424": {
     "model_module": "@jupyter-widgets/controls",
     "model_module_version": "1.5.0",
     "model_name": "HBoxModel",
     "state": {
      "_dom_classes": [],
      "_model_module": "@jupyter-widgets/controls",
      "_model_module_version": "1.5.0",
      "_model_name": "HBoxModel",
      "_view_count": null,
      "_view_module": "@jupyter-widgets/controls",
      "_view_module_version": "1.5.0",
      "_view_name": "HBoxView",
      "box_style": "",
      "children": [
       "IPY_MODEL_ca5c5c1d7627480c9785650685a64314",
       "IPY_MODEL_e89ce1e2eb924228894a9caf8aed5eb1",
       "IPY_MODEL_49fb4e9352fd4f9aa47a436ea0e9ee00"
      ],
      "layout": "IPY_MODEL_2340220022724036899cd385eee591cb"
     }
    },
    "6c80e814cfd14744b9c05820ae52043e": {
     "model_module": "@jupyter-widgets/base",
     "model_module_version": "1.2.0",
     "model_name": "LayoutModel",
     "state": {
      "_model_module": "@jupyter-widgets/base",
      "_model_module_version": "1.2.0",
      "_model_name": "LayoutModel",
      "_view_count": null,
      "_view_module": "@jupyter-widgets/base",
      "_view_module_version": "1.2.0",
      "_view_name": "LayoutView",
      "align_content": null,
      "align_items": null,
      "align_self": null,
      "border": null,
      "bottom": null,
      "display": null,
      "flex": null,
      "flex_flow": null,
      "grid_area": null,
      "grid_auto_columns": null,
      "grid_auto_flow": null,
      "grid_auto_rows": null,
      "grid_column": null,
      "grid_gap": null,
      "grid_row": null,
      "grid_template_areas": null,
      "grid_template_columns": null,
      "grid_template_rows": null,
      "height": null,
      "justify_content": null,
      "justify_items": null,
      "left": null,
      "margin": null,
      "max_height": null,
      "max_width": null,
      "min_height": null,
      "min_width": null,
      "object_fit": null,
      "object_position": null,
      "order": null,
      "overflow": null,
      "overflow_x": null,
      "overflow_y": null,
      "padding": null,
      "right": null,
      "top": null,
      "visibility": null,
      "width": null
     }
    },
    "6d9b1ace3f8d48cabc0b66bf3630547d": {
     "model_module": "@jupyter-widgets/controls",
     "model_module_version": "1.5.0",
     "model_name": "DescriptionStyleModel",
     "state": {
      "_model_module": "@jupyter-widgets/controls",
      "_model_module_version": "1.5.0",
      "_model_name": "DescriptionStyleModel",
      "_view_count": null,
      "_view_module": "@jupyter-widgets/base",
      "_view_module_version": "1.2.0",
      "_view_name": "StyleView",
      "description_width": ""
     }
    },
    "6dc814ca22e74a2a84ad0df638493b80": {
     "model_module": "@jupyter-widgets/controls",
     "model_module_version": "1.5.0",
     "model_name": "ProgressStyleModel",
     "state": {
      "_model_module": "@jupyter-widgets/controls",
      "_model_module_version": "1.5.0",
      "_model_name": "ProgressStyleModel",
      "_view_count": null,
      "_view_module": "@jupyter-widgets/base",
      "_view_module_version": "1.2.0",
      "_view_name": "StyleView",
      "bar_color": null,
      "description_width": ""
     }
    },
    "6dd87a5d12314693b598cdf0f57a6dca": {
     "model_module": "@jupyter-widgets/controls",
     "model_module_version": "1.5.0",
     "model_name": "DescriptionStyleModel",
     "state": {
      "_model_module": "@jupyter-widgets/controls",
      "_model_module_version": "1.5.0",
      "_model_name": "DescriptionStyleModel",
      "_view_count": null,
      "_view_module": "@jupyter-widgets/base",
      "_view_module_version": "1.2.0",
      "_view_name": "StyleView",
      "description_width": ""
     }
    },
    "6edcf020896a48c289085adf65f695e8": {
     "model_module": "@jupyter-widgets/controls",
     "model_module_version": "1.5.0",
     "model_name": "FloatProgressModel",
     "state": {
      "_dom_classes": [],
      "_model_module": "@jupyter-widgets/controls",
      "_model_module_version": "1.5.0",
      "_model_name": "FloatProgressModel",
      "_view_count": null,
      "_view_module": "@jupyter-widgets/controls",
      "_view_module_version": "1.5.0",
      "_view_name": "ProgressView",
      "bar_style": "success",
      "description": "",
      "description_tooltip": null,
      "layout": "IPY_MODEL_414e20662cd44845aba3a0140c236316",
      "max": 9,
      "min": 0,
      "orientation": "horizontal",
      "style": "IPY_MODEL_bab8ae14980a4557b42d94e9b5e0b1b9",
      "value": 9
     }
    },
    "6f22aed76b264ac7b4c5e2abc3aad013": {
     "model_module": "@jupyter-widgets/base",
     "model_module_version": "1.2.0",
     "model_name": "LayoutModel",
     "state": {
      "_model_module": "@jupyter-widgets/base",
      "_model_module_version": "1.2.0",
      "_model_name": "LayoutModel",
      "_view_count": null,
      "_view_module": "@jupyter-widgets/base",
      "_view_module_version": "1.2.0",
      "_view_name": "LayoutView",
      "align_content": null,
      "align_items": null,
      "align_self": null,
      "border": null,
      "bottom": null,
      "display": null,
      "flex": null,
      "flex_flow": null,
      "grid_area": null,
      "grid_auto_columns": null,
      "grid_auto_flow": null,
      "grid_auto_rows": null,
      "grid_column": null,
      "grid_gap": null,
      "grid_row": null,
      "grid_template_areas": null,
      "grid_template_columns": null,
      "grid_template_rows": null,
      "height": null,
      "justify_content": null,
      "justify_items": null,
      "left": null,
      "margin": null,
      "max_height": null,
      "max_width": null,
      "min_height": null,
      "min_width": null,
      "object_fit": null,
      "object_position": null,
      "order": null,
      "overflow": null,
      "overflow_x": null,
      "overflow_y": null,
      "padding": null,
      "right": null,
      "top": null,
      "visibility": null,
      "width": null
     }
    },
    "70f32c743358401a851d027874b67fb4": {
     "model_module": "@jupyter-widgets/base",
     "model_module_version": "1.2.0",
     "model_name": "LayoutModel",
     "state": {
      "_model_module": "@jupyter-widgets/base",
      "_model_module_version": "1.2.0",
      "_model_name": "LayoutModel",
      "_view_count": null,
      "_view_module": "@jupyter-widgets/base",
      "_view_module_version": "1.2.0",
      "_view_name": "LayoutView",
      "align_content": null,
      "align_items": null,
      "align_self": null,
      "border": null,
      "bottom": null,
      "display": null,
      "flex": null,
      "flex_flow": null,
      "grid_area": null,
      "grid_auto_columns": null,
      "grid_auto_flow": null,
      "grid_auto_rows": null,
      "grid_column": null,
      "grid_gap": null,
      "grid_row": null,
      "grid_template_areas": null,
      "grid_template_columns": null,
      "grid_template_rows": null,
      "height": null,
      "justify_content": null,
      "justify_items": null,
      "left": null,
      "margin": null,
      "max_height": null,
      "max_width": null,
      "min_height": null,
      "min_width": null,
      "object_fit": null,
      "object_position": null,
      "order": null,
      "overflow": null,
      "overflow_x": null,
      "overflow_y": null,
      "padding": null,
      "right": null,
      "top": null,
      "visibility": null,
      "width": null
     }
    },
    "71041ba2ed144362a48f20b9bdbdcd45": {
     "model_module": "@jupyter-widgets/controls",
     "model_module_version": "1.5.0",
     "model_name": "HTMLModel",
     "state": {
      "_dom_classes": [],
      "_model_module": "@jupyter-widgets/controls",
      "_model_module_version": "1.5.0",
      "_model_name": "HTMLModel",
      "_view_count": null,
      "_view_module": "@jupyter-widgets/controls",
      "_view_module_version": "1.5.0",
      "_view_name": "HTMLView",
      "description": "",
      "description_tooltip": null,
      "layout": "IPY_MODEL_9a6e8914164040fd9a13dfb051818cf9",
      "placeholder": "​",
      "style": "IPY_MODEL_9afcdcc87b6c444aac2d92f4df92c35c",
      "value": "Parsing nodes: 100%"
     }
    },
    "710fdb6588bd422bb09e049c18feab9b": {
     "model_module": "@jupyter-widgets/base",
     "model_module_version": "1.2.0",
     "model_name": "LayoutModel",
     "state": {
      "_model_module": "@jupyter-widgets/base",
      "_model_module_version": "1.2.0",
      "_model_name": "LayoutModel",
      "_view_count": null,
      "_view_module": "@jupyter-widgets/base",
      "_view_module_version": "1.2.0",
      "_view_name": "LayoutView",
      "align_content": null,
      "align_items": null,
      "align_self": null,
      "border": null,
      "bottom": null,
      "display": null,
      "flex": null,
      "flex_flow": null,
      "grid_area": null,
      "grid_auto_columns": null,
      "grid_auto_flow": null,
      "grid_auto_rows": null,
      "grid_column": null,
      "grid_gap": null,
      "grid_row": null,
      "grid_template_areas": null,
      "grid_template_columns": null,
      "grid_template_rows": null,
      "height": null,
      "justify_content": null,
      "justify_items": null,
      "left": null,
      "margin": null,
      "max_height": null,
      "max_width": null,
      "min_height": null,
      "min_width": null,
      "object_fit": null,
      "object_position": null,
      "order": null,
      "overflow": null,
      "overflow_x": null,
      "overflow_y": null,
      "padding": null,
      "right": null,
      "top": null,
      "visibility": null,
      "width": null
     }
    },
    "77791193a8714b139fde91b4bac92856": {
     "model_module": "@jupyter-widgets/base",
     "model_module_version": "1.2.0",
     "model_name": "LayoutModel",
     "state": {
      "_model_module": "@jupyter-widgets/base",
      "_model_module_version": "1.2.0",
      "_model_name": "LayoutModel",
      "_view_count": null,
      "_view_module": "@jupyter-widgets/base",
      "_view_module_version": "1.2.0",
      "_view_name": "LayoutView",
      "align_content": null,
      "align_items": null,
      "align_self": null,
      "border": null,
      "bottom": null,
      "display": null,
      "flex": null,
      "flex_flow": null,
      "grid_area": null,
      "grid_auto_columns": null,
      "grid_auto_flow": null,
      "grid_auto_rows": null,
      "grid_column": null,
      "grid_gap": null,
      "grid_row": null,
      "grid_template_areas": null,
      "grid_template_columns": null,
      "grid_template_rows": null,
      "height": null,
      "justify_content": null,
      "justify_items": null,
      "left": null,
      "margin": null,
      "max_height": null,
      "max_width": null,
      "min_height": null,
      "min_width": null,
      "object_fit": null,
      "object_position": null,
      "order": null,
      "overflow": null,
      "overflow_x": null,
      "overflow_y": null,
      "padding": null,
      "right": null,
      "top": null,
      "visibility": null,
      "width": null
     }
    },
    "78f8c0ffedcd4b119783854ba906f7de": {
     "model_module": "@jupyter-widgets/controls",
     "model_module_version": "1.5.0",
     "model_name": "HBoxModel",
     "state": {
      "_dom_classes": [],
      "_model_module": "@jupyter-widgets/controls",
      "_model_module_version": "1.5.0",
      "_model_name": "HBoxModel",
      "_view_count": null,
      "_view_module": "@jupyter-widgets/controls",
      "_view_module_version": "1.5.0",
      "_view_name": "HBoxView",
      "box_style": "",
      "children": [
       "IPY_MODEL_cc31816f55704cfa8a930b1e32a79f17",
       "IPY_MODEL_6edcf020896a48c289085adf65f695e8",
       "IPY_MODEL_842074bfda6f4915a752ec3b3d23be38"
      ],
      "layout": "IPY_MODEL_1d52c3d1f75248c192993359d09a15b0"
     }
    },
    "7ba24ca25c49494f8f6d2f5edee193b3": {
     "model_module": "@jupyter-widgets/controls",
     "model_module_version": "1.5.0",
     "model_name": "HTMLModel",
     "state": {
      "_dom_classes": [],
      "_model_module": "@jupyter-widgets/controls",
      "_model_module_version": "1.5.0",
      "_model_name": "HTMLModel",
      "_view_count": null,
      "_view_module": "@jupyter-widgets/controls",
      "_view_module_version": "1.5.0",
      "_view_name": "HTMLView",
      "description": "",
      "description_tooltip": null,
      "layout": "IPY_MODEL_a00b4f5ce93241319e9008fa35deb60e",
      "placeholder": "​",
      "style": "IPY_MODEL_d246b7f624b64ad3b810807f5f1fc653",
      "value": " 9/9 [00:24&lt;00:00,  2.23s/it]"
     }
    },
    "814febcbb02a4946aed9de2a8ccbdb3d": {
     "model_module": "@jupyter-widgets/base",
     "model_module_version": "1.2.0",
     "model_name": "LayoutModel",
     "state": {
      "_model_module": "@jupyter-widgets/base",
      "_model_module_version": "1.2.0",
      "_model_name": "LayoutModel",
      "_view_count": null,
      "_view_module": "@jupyter-widgets/base",
      "_view_module_version": "1.2.0",
      "_view_name": "LayoutView",
      "align_content": null,
      "align_items": null,
      "align_self": null,
      "border": null,
      "bottom": null,
      "display": null,
      "flex": null,
      "flex_flow": null,
      "grid_area": null,
      "grid_auto_columns": null,
      "grid_auto_flow": null,
      "grid_auto_rows": null,
      "grid_column": null,
      "grid_gap": null,
      "grid_row": null,
      "grid_template_areas": null,
      "grid_template_columns": null,
      "grid_template_rows": null,
      "height": null,
      "justify_content": null,
      "justify_items": null,
      "left": null,
      "margin": null,
      "max_height": null,
      "max_width": null,
      "min_height": null,
      "min_width": null,
      "object_fit": null,
      "object_position": null,
      "order": null,
      "overflow": null,
      "overflow_x": null,
      "overflow_y": null,
      "padding": null,
      "right": null,
      "top": null,
      "visibility": null,
      "width": null
     }
    },
    "82417c017d4049c2bab16f4ace02de7f": {
     "model_module": "@jupyter-widgets/base",
     "model_module_version": "1.2.0",
     "model_name": "LayoutModel",
     "state": {
      "_model_module": "@jupyter-widgets/base",
      "_model_module_version": "1.2.0",
      "_model_name": "LayoutModel",
      "_view_count": null,
      "_view_module": "@jupyter-widgets/base",
      "_view_module_version": "1.2.0",
      "_view_name": "LayoutView",
      "align_content": null,
      "align_items": null,
      "align_self": null,
      "border": null,
      "bottom": null,
      "display": null,
      "flex": null,
      "flex_flow": null,
      "grid_area": null,
      "grid_auto_columns": null,
      "grid_auto_flow": null,
      "grid_auto_rows": null,
      "grid_column": null,
      "grid_gap": null,
      "grid_row": null,
      "grid_template_areas": null,
      "grid_template_columns": null,
      "grid_template_rows": null,
      "height": null,
      "justify_content": null,
      "justify_items": null,
      "left": null,
      "margin": null,
      "max_height": null,
      "max_width": null,
      "min_height": null,
      "min_width": null,
      "object_fit": null,
      "object_position": null,
      "order": null,
      "overflow": null,
      "overflow_x": null,
      "overflow_y": null,
      "padding": null,
      "right": null,
      "top": null,
      "visibility": null,
      "width": null
     }
    },
    "83e5091fa5604787ab011a30752da40f": {
     "model_module": "@jupyter-widgets/controls",
     "model_module_version": "1.5.0",
     "model_name": "ProgressStyleModel",
     "state": {
      "_model_module": "@jupyter-widgets/controls",
      "_model_module_version": "1.5.0",
      "_model_name": "ProgressStyleModel",
      "_view_count": null,
      "_view_module": "@jupyter-widgets/base",
      "_view_module_version": "1.2.0",
      "_view_name": "StyleView",
      "bar_color": null,
      "description_width": ""
     }
    },
    "842074bfda6f4915a752ec3b3d23be38": {
     "model_module": "@jupyter-widgets/controls",
     "model_module_version": "1.5.0",
     "model_name": "HTMLModel",
     "state": {
      "_dom_classes": [],
      "_model_module": "@jupyter-widgets/controls",
      "_model_module_version": "1.5.0",
      "_model_name": "HTMLModel",
      "_view_count": null,
      "_view_module": "@jupyter-widgets/controls",
      "_view_module_version": "1.5.0",
      "_view_name": "HTMLView",
      "description": "",
      "description_tooltip": null,
      "layout": "IPY_MODEL_0a6ee1b0bf6a4270afaa4bc242587a6f",
      "placeholder": "​",
      "style": "IPY_MODEL_4ab408fd9a2b469293f69d6aa5d82377",
      "value": " 9/9 [00:00&lt;00:00, 267.31it/s]"
     }
    },
    "85c6531ae7d5414c85cda9e314693733": {
     "model_module": "@jupyter-widgets/controls",
     "model_module_version": "1.5.0",
     "model_name": "HTMLModel",
     "state": {
      "_dom_classes": [],
      "_model_module": "@jupyter-widgets/controls",
      "_model_module_version": "1.5.0",
      "_model_name": "HTMLModel",
      "_view_count": null,
      "_view_module": "@jupyter-widgets/controls",
      "_view_module_version": "1.5.0",
      "_view_name": "HTMLView",
      "description": "",
      "description_tooltip": null,
      "layout": "IPY_MODEL_5a3d8e83d0c8426ea812a46f72b405e1",
      "placeholder": "​",
      "style": "IPY_MODEL_fb22aaeb86bb40b18830f8737da26dc6",
      "value": " 9/9 [00:00&lt;00:00, 218.87it/s]"
     }
    },
    "883d2847cfb94453bcb382a1b6c1d7e0": {
     "model_module": "@jupyter-widgets/controls",
     "model_module_version": "1.5.0",
     "model_name": "HBoxModel",
     "state": {
      "_dom_classes": [],
      "_model_module": "@jupyter-widgets/controls",
      "_model_module_version": "1.5.0",
      "_model_name": "HBoxModel",
      "_view_count": null,
      "_view_module": "@jupyter-widgets/controls",
      "_view_module_version": "1.5.0",
      "_view_name": "HBoxView",
      "box_style": "",
      "children": [
       "IPY_MODEL_63b6072f458c498ab2db221695f0f8e5",
       "IPY_MODEL_5f7789d733414845b3b678f8e3175c59",
       "IPY_MODEL_d25d5f219cc6412a9e71908900501ef4"
      ],
      "layout": "IPY_MODEL_b76c900efa3c47389858f39d9a7d1230"
     }
    },
    "8b7ecd2e93ca4a4d9fc6259ba425a6f2": {
     "model_module": "@jupyter-widgets/controls",
     "model_module_version": "1.5.0",
     "model_name": "HBoxModel",
     "state": {
      "_dom_classes": [],
      "_model_module": "@jupyter-widgets/controls",
      "_model_module_version": "1.5.0",
      "_model_name": "HBoxModel",
      "_view_count": null,
      "_view_module": "@jupyter-widgets/controls",
      "_view_module_version": "1.5.0",
      "_view_name": "HBoxView",
      "box_style": "",
      "children": [
       "IPY_MODEL_d2326908c2954e979eb3135427f903b0",
       "IPY_MODEL_d11bdd3cd2d34d25b42788516049668b",
       "IPY_MODEL_20af49332562427f9cb015673828ca04"
      ],
      "layout": "IPY_MODEL_326addf309b149478306b4d6a8832f55"
     }
    },
    "8fa82ed551174d6bb86e5bc99e07a474": {
     "model_module": "@jupyter-widgets/controls",
     "model_module_version": "1.5.0",
     "model_name": "HTMLModel",
     "state": {
      "_dom_classes": [],
      "_model_module": "@jupyter-widgets/controls",
      "_model_module_version": "1.5.0",
      "_model_name": "HTMLModel",
      "_view_count": null,
      "_view_module": "@jupyter-widgets/controls",
      "_view_module_version": "1.5.0",
      "_view_name": "HTMLView",
      "description": "",
      "description_tooltip": null,
      "layout": "IPY_MODEL_0a7e3572589e4865bc505e5c8f6311ef",
      "placeholder": "​",
      "style": "IPY_MODEL_6dd87a5d12314693b598cdf0f57a6dca",
      "value": "Generating embeddings: 100%"
     }
    },
    "8fbc4f2ad5214d17840a844ed00aa8af": {
     "model_module": "@jupyter-widgets/base",
     "model_module_version": "1.2.0",
     "model_name": "LayoutModel",
     "state": {
      "_model_module": "@jupyter-widgets/base",
      "_model_module_version": "1.2.0",
      "_model_name": "LayoutModel",
      "_view_count": null,
      "_view_module": "@jupyter-widgets/base",
      "_view_module_version": "1.2.0",
      "_view_name": "LayoutView",
      "align_content": null,
      "align_items": null,
      "align_self": null,
      "border": null,
      "bottom": null,
      "display": null,
      "flex": null,
      "flex_flow": null,
      "grid_area": null,
      "grid_auto_columns": null,
      "grid_auto_flow": null,
      "grid_auto_rows": null,
      "grid_column": null,
      "grid_gap": null,
      "grid_row": null,
      "grid_template_areas": null,
      "grid_template_columns": null,
      "grid_template_rows": null,
      "height": null,
      "justify_content": null,
      "justify_items": null,
      "left": null,
      "margin": null,
      "max_height": null,
      "max_width": null,
      "min_height": null,
      "min_width": null,
      "object_fit": null,
      "object_position": null,
      "order": null,
      "overflow": null,
      "overflow_x": null,
      "overflow_y": null,
      "padding": null,
      "right": null,
      "top": null,
      "visibility": null,
      "width": null
     }
    },
    "909569508da94d4a89aecbd2e2cd6dc8": {
     "model_module": "@jupyter-widgets/base",
     "model_module_version": "1.2.0",
     "model_name": "LayoutModel",
     "state": {
      "_model_module": "@jupyter-widgets/base",
      "_model_module_version": "1.2.0",
      "_model_name": "LayoutModel",
      "_view_count": null,
      "_view_module": "@jupyter-widgets/base",
      "_view_module_version": "1.2.0",
      "_view_name": "LayoutView",
      "align_content": null,
      "align_items": null,
      "align_self": null,
      "border": null,
      "bottom": null,
      "display": null,
      "flex": null,
      "flex_flow": null,
      "grid_area": null,
      "grid_auto_columns": null,
      "grid_auto_flow": null,
      "grid_auto_rows": null,
      "grid_column": null,
      "grid_gap": null,
      "grid_row": null,
      "grid_template_areas": null,
      "grid_template_columns": null,
      "grid_template_rows": null,
      "height": null,
      "justify_content": null,
      "justify_items": null,
      "left": null,
      "margin": null,
      "max_height": null,
      "max_width": null,
      "min_height": null,
      "min_width": null,
      "object_fit": null,
      "object_position": null,
      "order": null,
      "overflow": null,
      "overflow_x": null,
      "overflow_y": null,
      "padding": null,
      "right": null,
      "top": null,
      "visibility": null,
      "width": null
     }
    },
    "91706bf038c745c5bcff7ee8752929ed": {
     "model_module": "@jupyter-widgets/base",
     "model_module_version": "1.2.0",
     "model_name": "LayoutModel",
     "state": {
      "_model_module": "@jupyter-widgets/base",
      "_model_module_version": "1.2.0",
      "_model_name": "LayoutModel",
      "_view_count": null,
      "_view_module": "@jupyter-widgets/base",
      "_view_module_version": "1.2.0",
      "_view_name": "LayoutView",
      "align_content": null,
      "align_items": null,
      "align_self": null,
      "border": null,
      "bottom": null,
      "display": null,
      "flex": null,
      "flex_flow": null,
      "grid_area": null,
      "grid_auto_columns": null,
      "grid_auto_flow": null,
      "grid_auto_rows": null,
      "grid_column": null,
      "grid_gap": null,
      "grid_row": null,
      "grid_template_areas": null,
      "grid_template_columns": null,
      "grid_template_rows": null,
      "height": null,
      "justify_content": null,
      "justify_items": null,
      "left": null,
      "margin": null,
      "max_height": null,
      "max_width": null,
      "min_height": null,
      "min_width": null,
      "object_fit": null,
      "object_position": null,
      "order": null,
      "overflow": null,
      "overflow_x": null,
      "overflow_y": null,
      "padding": null,
      "right": null,
      "top": null,
      "visibility": null,
      "width": null
     }
    },
    "923c164d57574b0b80de6f5f30eb9a1b": {
     "model_module": "@jupyter-widgets/base",
     "model_module_version": "1.2.0",
     "model_name": "LayoutModel",
     "state": {
      "_model_module": "@jupyter-widgets/base",
      "_model_module_version": "1.2.0",
      "_model_name": "LayoutModel",
      "_view_count": null,
      "_view_module": "@jupyter-widgets/base",
      "_view_module_version": "1.2.0",
      "_view_name": "LayoutView",
      "align_content": null,
      "align_items": null,
      "align_self": null,
      "border": null,
      "bottom": null,
      "display": null,
      "flex": null,
      "flex_flow": null,
      "grid_area": null,
      "grid_auto_columns": null,
      "grid_auto_flow": null,
      "grid_auto_rows": null,
      "grid_column": null,
      "grid_gap": null,
      "grid_row": null,
      "grid_template_areas": null,
      "grid_template_columns": null,
      "grid_template_rows": null,
      "height": null,
      "justify_content": null,
      "justify_items": null,
      "left": null,
      "margin": null,
      "max_height": null,
      "max_width": null,
      "min_height": null,
      "min_width": null,
      "object_fit": null,
      "object_position": null,
      "order": null,
      "overflow": null,
      "overflow_x": null,
      "overflow_y": null,
      "padding": null,
      "right": null,
      "top": null,
      "visibility": null,
      "width": null
     }
    },
    "92c503df6883482fb96845b3e2e87377": {
     "model_module": "@jupyter-widgets/controls",
     "model_module_version": "1.5.0",
     "model_name": "FloatProgressModel",
     "state": {
      "_dom_classes": [],
      "_model_module": "@jupyter-widgets/controls",
      "_model_module_version": "1.5.0",
      "_model_name": "FloatProgressModel",
      "_view_count": null,
      "_view_module": "@jupyter-widgets/controls",
      "_view_module_version": "1.5.0",
      "_view_name": "ProgressView",
      "bar_style": "success",
      "description": "",
      "description_tooltip": null,
      "layout": "IPY_MODEL_34be21093b6545a7979734207d0fa8b2",
      "max": 9,
      "min": 0,
      "orientation": "horizontal",
      "style": "IPY_MODEL_edc249291cf749a2a78d7b3595b8c7df",
      "value": 9
     }
    },
    "94ce158c9a09485f8d285a25cd81c105": {
     "model_module": "@jupyter-widgets/base",
     "model_module_version": "1.2.0",
     "model_name": "LayoutModel",
     "state": {
      "_model_module": "@jupyter-widgets/base",
      "_model_module_version": "1.2.0",
      "_model_name": "LayoutModel",
      "_view_count": null,
      "_view_module": "@jupyter-widgets/base",
      "_view_module_version": "1.2.0",
      "_view_name": "LayoutView",
      "align_content": null,
      "align_items": null,
      "align_self": null,
      "border": null,
      "bottom": null,
      "display": null,
      "flex": null,
      "flex_flow": null,
      "grid_area": null,
      "grid_auto_columns": null,
      "grid_auto_flow": null,
      "grid_auto_rows": null,
      "grid_column": null,
      "grid_gap": null,
      "grid_row": null,
      "grid_template_areas": null,
      "grid_template_columns": null,
      "grid_template_rows": null,
      "height": null,
      "justify_content": null,
      "justify_items": null,
      "left": null,
      "margin": null,
      "max_height": null,
      "max_width": null,
      "min_height": null,
      "min_width": null,
      "object_fit": null,
      "object_position": null,
      "order": null,
      "overflow": null,
      "overflow_x": null,
      "overflow_y": null,
      "padding": null,
      "right": null,
      "top": null,
      "visibility": null,
      "width": null
     }
    },
    "95e9cef0aabc47a7bbd12325e66ca9b2": {
     "model_module": "@jupyter-widgets/controls",
     "model_module_version": "1.5.0",
     "model_name": "DescriptionStyleModel",
     "state": {
      "_model_module": "@jupyter-widgets/controls",
      "_model_module_version": "1.5.0",
      "_model_name": "DescriptionStyleModel",
      "_view_count": null,
      "_view_module": "@jupyter-widgets/base",
      "_view_module_version": "1.2.0",
      "_view_name": "StyleView",
      "description_width": ""
     }
    },
    "9622de93dc4f49c2b5cd740477df2acd": {
     "model_module": "@jupyter-widgets/controls",
     "model_module_version": "1.5.0",
     "model_name": "ProgressStyleModel",
     "state": {
      "_model_module": "@jupyter-widgets/controls",
      "_model_module_version": "1.5.0",
      "_model_name": "ProgressStyleModel",
      "_view_count": null,
      "_view_module": "@jupyter-widgets/base",
      "_view_module_version": "1.2.0",
      "_view_name": "StyleView",
      "bar_color": null,
      "description_width": ""
     }
    },
    "9631babd57084e8ba65aac5ea748648c": {
     "model_module": "@jupyter-widgets/controls",
     "model_module_version": "1.5.0",
     "model_name": "HBoxModel",
     "state": {
      "_dom_classes": [],
      "_model_module": "@jupyter-widgets/controls",
      "_model_module_version": "1.5.0",
      "_model_name": "HBoxModel",
      "_view_count": null,
      "_view_module": "@jupyter-widgets/controls",
      "_view_module_version": "1.5.0",
      "_view_name": "HBoxView",
      "box_style": "",
      "children": [
       "IPY_MODEL_d0d6f08dae0040ba85e9c07abd16d536",
       "IPY_MODEL_0589ba525d5747c191983227ea53aa7e",
       "IPY_MODEL_fb015cf9c37a4076b1190242dad8a75b"
      ],
      "layout": "IPY_MODEL_9aff76f202b24d02ace4694552cb837f"
     }
    },
    "9a6e8914164040fd9a13dfb051818cf9": {
     "model_module": "@jupyter-widgets/base",
     "model_module_version": "1.2.0",
     "model_name": "LayoutModel",
     "state": {
      "_model_module": "@jupyter-widgets/base",
      "_model_module_version": "1.2.0",
      "_model_name": "LayoutModel",
      "_view_count": null,
      "_view_module": "@jupyter-widgets/base",
      "_view_module_version": "1.2.0",
      "_view_name": "LayoutView",
      "align_content": null,
      "align_items": null,
      "align_self": null,
      "border": null,
      "bottom": null,
      "display": null,
      "flex": null,
      "flex_flow": null,
      "grid_area": null,
      "grid_auto_columns": null,
      "grid_auto_flow": null,
      "grid_auto_rows": null,
      "grid_column": null,
      "grid_gap": null,
      "grid_row": null,
      "grid_template_areas": null,
      "grid_template_columns": null,
      "grid_template_rows": null,
      "height": null,
      "justify_content": null,
      "justify_items": null,
      "left": null,
      "margin": null,
      "max_height": null,
      "max_width": null,
      "min_height": null,
      "min_width": null,
      "object_fit": null,
      "object_position": null,
      "order": null,
      "overflow": null,
      "overflow_x": null,
      "overflow_y": null,
      "padding": null,
      "right": null,
      "top": null,
      "visibility": null,
      "width": null
     }
    },
    "9adac731c35f48108c2a177576c9f22a": {
     "model_module": "@jupyter-widgets/controls",
     "model_module_version": "1.5.0",
     "model_name": "ProgressStyleModel",
     "state": {
      "_model_module": "@jupyter-widgets/controls",
      "_model_module_version": "1.5.0",
      "_model_name": "ProgressStyleModel",
      "_view_count": null,
      "_view_module": "@jupyter-widgets/base",
      "_view_module_version": "1.2.0",
      "_view_name": "StyleView",
      "bar_color": null,
      "description_width": ""
     }
    },
    "9afcdcc87b6c444aac2d92f4df92c35c": {
     "model_module": "@jupyter-widgets/controls",
     "model_module_version": "1.5.0",
     "model_name": "DescriptionStyleModel",
     "state": {
      "_model_module": "@jupyter-widgets/controls",
      "_model_module_version": "1.5.0",
      "_model_name": "DescriptionStyleModel",
      "_view_count": null,
      "_view_module": "@jupyter-widgets/base",
      "_view_module_version": "1.2.0",
      "_view_name": "StyleView",
      "description_width": ""
     }
    },
    "9aff76f202b24d02ace4694552cb837f": {
     "model_module": "@jupyter-widgets/base",
     "model_module_version": "1.2.0",
     "model_name": "LayoutModel",
     "state": {
      "_model_module": "@jupyter-widgets/base",
      "_model_module_version": "1.2.0",
      "_model_name": "LayoutModel",
      "_view_count": null,
      "_view_module": "@jupyter-widgets/base",
      "_view_module_version": "1.2.0",
      "_view_name": "LayoutView",
      "align_content": null,
      "align_items": null,
      "align_self": null,
      "border": null,
      "bottom": null,
      "display": null,
      "flex": null,
      "flex_flow": null,
      "grid_area": null,
      "grid_auto_columns": null,
      "grid_auto_flow": null,
      "grid_auto_rows": null,
      "grid_column": null,
      "grid_gap": null,
      "grid_row": null,
      "grid_template_areas": null,
      "grid_template_columns": null,
      "grid_template_rows": null,
      "height": null,
      "justify_content": null,
      "justify_items": null,
      "left": null,
      "margin": null,
      "max_height": null,
      "max_width": null,
      "min_height": null,
      "min_width": null,
      "object_fit": null,
      "object_position": null,
      "order": null,
      "overflow": null,
      "overflow_x": null,
      "overflow_y": null,
      "padding": null,
      "right": null,
      "top": null,
      "visibility": null,
      "width": null
     }
    },
    "a00b4f5ce93241319e9008fa35deb60e": {
     "model_module": "@jupyter-widgets/base",
     "model_module_version": "1.2.0",
     "model_name": "LayoutModel",
     "state": {
      "_model_module": "@jupyter-widgets/base",
      "_model_module_version": "1.2.0",
      "_model_name": "LayoutModel",
      "_view_count": null,
      "_view_module": "@jupyter-widgets/base",
      "_view_module_version": "1.2.0",
      "_view_name": "LayoutView",
      "align_content": null,
      "align_items": null,
      "align_self": null,
      "border": null,
      "bottom": null,
      "display": null,
      "flex": null,
      "flex_flow": null,
      "grid_area": null,
      "grid_auto_columns": null,
      "grid_auto_flow": null,
      "grid_auto_rows": null,
      "grid_column": null,
      "grid_gap": null,
      "grid_row": null,
      "grid_template_areas": null,
      "grid_template_columns": null,
      "grid_template_rows": null,
      "height": null,
      "justify_content": null,
      "justify_items": null,
      "left": null,
      "margin": null,
      "max_height": null,
      "max_width": null,
      "min_height": null,
      "min_width": null,
      "object_fit": null,
      "object_position": null,
      "order": null,
      "overflow": null,
      "overflow_x": null,
      "overflow_y": null,
      "padding": null,
      "right": null,
      "top": null,
      "visibility": null,
      "width": null
     }
    },
    "a4bc950d21394dd9965b681d0470aed9": {
     "model_module": "@jupyter-widgets/controls",
     "model_module_version": "1.5.0",
     "model_name": "DescriptionStyleModel",
     "state": {
      "_model_module": "@jupyter-widgets/controls",
      "_model_module_version": "1.5.0",
      "_model_name": "DescriptionStyleModel",
      "_view_count": null,
      "_view_module": "@jupyter-widgets/base",
      "_view_module_version": "1.2.0",
      "_view_name": "StyleView",
      "description_width": ""
     }
    },
    "a6964ef350a14ff481d2d6b501839d2d": {
     "model_module": "@jupyter-widgets/controls",
     "model_module_version": "1.5.0",
     "model_name": "HBoxModel",
     "state": {
      "_dom_classes": [],
      "_model_module": "@jupyter-widgets/controls",
      "_model_module_version": "1.5.0",
      "_model_name": "HBoxModel",
      "_view_count": null,
      "_view_module": "@jupyter-widgets/controls",
      "_view_module_version": "1.5.0",
      "_view_name": "HBoxView",
      "box_style": "",
      "children": [
       "IPY_MODEL_06e20ed2bb6b47f0aee321f723fc292a",
       "IPY_MODEL_0af7beb368c34735abf7334e4ad9e9c9",
       "IPY_MODEL_53b0e8fe6d674e49be682fb6207fddf9"
      ],
      "layout": "IPY_MODEL_909569508da94d4a89aecbd2e2cd6dc8"
     }
    },
    "aaca5df3360c4cd2b2b8af6383b85160": {
     "model_module": "@jupyter-widgets/controls",
     "model_module_version": "1.5.0",
     "model_name": "HBoxModel",
     "state": {
      "_dom_classes": [],
      "_model_module": "@jupyter-widgets/controls",
      "_model_module_version": "1.5.0",
      "_model_name": "HBoxModel",
      "_view_count": null,
      "_view_module": "@jupyter-widgets/controls",
      "_view_module_version": "1.5.0",
      "_view_name": "HBoxView",
      "box_style": "",
      "children": [
       "IPY_MODEL_29db7c13edb84fe18c76a6c3ffcf54f6",
       "IPY_MODEL_5cd1e36b4f764e8e89d5944f0368fdec",
       "IPY_MODEL_1ab952700b614347985f836a4f88ec10"
      ],
      "layout": "IPY_MODEL_82417c017d4049c2bab16f4ace02de7f"
     }
    },
    "acbceca814974d2b9b5f95bd472db8ec": {
     "model_module": "@jupyter-widgets/controls",
     "model_module_version": "1.5.0",
     "model_name": "HBoxModel",
     "state": {
      "_dom_classes": [],
      "_model_module": "@jupyter-widgets/controls",
      "_model_module_version": "1.5.0",
      "_model_name": "HBoxModel",
      "_view_count": null,
      "_view_module": "@jupyter-widgets/controls",
      "_view_module_version": "1.5.0",
      "_view_name": "HBoxView",
      "box_style": "",
      "children": [
       "IPY_MODEL_62c0df7f46e14233925185ef496e9d8b",
       "IPY_MODEL_5eb459b7d6cc48d5b3eac0617d4de3e8",
       "IPY_MODEL_f69e2305867b4cbda91b12057844bc58"
      ],
      "layout": "IPY_MODEL_c70a47a6faa3499ea8941a6cb29e35d8"
     }
    },
    "b529f0dd0d7a4d5f8e94d8d853c02268": {
     "model_module": "@jupyter-widgets/base",
     "model_module_version": "1.2.0",
     "model_name": "LayoutModel",
     "state": {
      "_model_module": "@jupyter-widgets/base",
      "_model_module_version": "1.2.0",
      "_model_name": "LayoutModel",
      "_view_count": null,
      "_view_module": "@jupyter-widgets/base",
      "_view_module_version": "1.2.0",
      "_view_name": "LayoutView",
      "align_content": null,
      "align_items": null,
      "align_self": null,
      "border": null,
      "bottom": null,
      "display": null,
      "flex": null,
      "flex_flow": null,
      "grid_area": null,
      "grid_auto_columns": null,
      "grid_auto_flow": null,
      "grid_auto_rows": null,
      "grid_column": null,
      "grid_gap": null,
      "grid_row": null,
      "grid_template_areas": null,
      "grid_template_columns": null,
      "grid_template_rows": null,
      "height": null,
      "justify_content": null,
      "justify_items": null,
      "left": null,
      "margin": null,
      "max_height": null,
      "max_width": null,
      "min_height": null,
      "min_width": null,
      "object_fit": null,
      "object_position": null,
      "order": null,
      "overflow": null,
      "overflow_x": null,
      "overflow_y": null,
      "padding": null,
      "right": null,
      "top": null,
      "visibility": null,
      "width": null
     }
    },
    "b76c900efa3c47389858f39d9a7d1230": {
     "model_module": "@jupyter-widgets/base",
     "model_module_version": "1.2.0",
     "model_name": "LayoutModel",
     "state": {
      "_model_module": "@jupyter-widgets/base",
      "_model_module_version": "1.2.0",
      "_model_name": "LayoutModel",
      "_view_count": null,
      "_view_module": "@jupyter-widgets/base",
      "_view_module_version": "1.2.0",
      "_view_name": "LayoutView",
      "align_content": null,
      "align_items": null,
      "align_self": null,
      "border": null,
      "bottom": null,
      "display": null,
      "flex": null,
      "flex_flow": null,
      "grid_area": null,
      "grid_auto_columns": null,
      "grid_auto_flow": null,
      "grid_auto_rows": null,
      "grid_column": null,
      "grid_gap": null,
      "grid_row": null,
      "grid_template_areas": null,
      "grid_template_columns": null,
      "grid_template_rows": null,
      "height": null,
      "justify_content": null,
      "justify_items": null,
      "left": null,
      "margin": null,
      "max_height": null,
      "max_width": null,
      "min_height": null,
      "min_width": null,
      "object_fit": null,
      "object_position": null,
      "order": null,
      "overflow": null,
      "overflow_x": null,
      "overflow_y": null,
      "padding": null,
      "right": null,
      "top": null,
      "visibility": null,
      "width": null
     }
    },
    "b8bd8abe720140668da49bbaef539fc1": {
     "model_module": "@jupyter-widgets/base",
     "model_module_version": "1.2.0",
     "model_name": "LayoutModel",
     "state": {
      "_model_module": "@jupyter-widgets/base",
      "_model_module_version": "1.2.0",
      "_model_name": "LayoutModel",
      "_view_count": null,
      "_view_module": "@jupyter-widgets/base",
      "_view_module_version": "1.2.0",
      "_view_name": "LayoutView",
      "align_content": null,
      "align_items": null,
      "align_self": null,
      "border": null,
      "bottom": null,
      "display": null,
      "flex": null,
      "flex_flow": null,
      "grid_area": null,
      "grid_auto_columns": null,
      "grid_auto_flow": null,
      "grid_auto_rows": null,
      "grid_column": null,
      "grid_gap": null,
      "grid_row": null,
      "grid_template_areas": null,
      "grid_template_columns": null,
      "grid_template_rows": null,
      "height": null,
      "justify_content": null,
      "justify_items": null,
      "left": null,
      "margin": null,
      "max_height": null,
      "max_width": null,
      "min_height": null,
      "min_width": null,
      "object_fit": null,
      "object_position": null,
      "order": null,
      "overflow": null,
      "overflow_x": null,
      "overflow_y": null,
      "padding": null,
      "right": null,
      "top": null,
      "visibility": null,
      "width": null
     }
    },
    "b9c9f45d73d04adebabd043b9e2fcf3c": {
     "model_module": "@jupyter-widgets/base",
     "model_module_version": "1.2.0",
     "model_name": "LayoutModel",
     "state": {
      "_model_module": "@jupyter-widgets/base",
      "_model_module_version": "1.2.0",
      "_model_name": "LayoutModel",
      "_view_count": null,
      "_view_module": "@jupyter-widgets/base",
      "_view_module_version": "1.2.0",
      "_view_name": "LayoutView",
      "align_content": null,
      "align_items": null,
      "align_self": null,
      "border": null,
      "bottom": null,
      "display": null,
      "flex": null,
      "flex_flow": null,
      "grid_area": null,
      "grid_auto_columns": null,
      "grid_auto_flow": null,
      "grid_auto_rows": null,
      "grid_column": null,
      "grid_gap": null,
      "grid_row": null,
      "grid_template_areas": null,
      "grid_template_columns": null,
      "grid_template_rows": null,
      "height": null,
      "justify_content": null,
      "justify_items": null,
      "left": null,
      "margin": null,
      "max_height": null,
      "max_width": null,
      "min_height": null,
      "min_width": null,
      "object_fit": null,
      "object_position": null,
      "order": null,
      "overflow": null,
      "overflow_x": null,
      "overflow_y": null,
      "padding": null,
      "right": null,
      "top": null,
      "visibility": null,
      "width": null
     }
    },
    "ba559bf9aa9949f2b11827ec685ea7b6": {
     "model_module": "@jupyter-widgets/base",
     "model_module_version": "1.2.0",
     "model_name": "LayoutModel",
     "state": {
      "_model_module": "@jupyter-widgets/base",
      "_model_module_version": "1.2.0",
      "_model_name": "LayoutModel",
      "_view_count": null,
      "_view_module": "@jupyter-widgets/base",
      "_view_module_version": "1.2.0",
      "_view_name": "LayoutView",
      "align_content": null,
      "align_items": null,
      "align_self": null,
      "border": null,
      "bottom": null,
      "display": null,
      "flex": null,
      "flex_flow": null,
      "grid_area": null,
      "grid_auto_columns": null,
      "grid_auto_flow": null,
      "grid_auto_rows": null,
      "grid_column": null,
      "grid_gap": null,
      "grid_row": null,
      "grid_template_areas": null,
      "grid_template_columns": null,
      "grid_template_rows": null,
      "height": null,
      "justify_content": null,
      "justify_items": null,
      "left": null,
      "margin": null,
      "max_height": null,
      "max_width": null,
      "min_height": null,
      "min_width": null,
      "object_fit": null,
      "object_position": null,
      "order": null,
      "overflow": null,
      "overflow_x": null,
      "overflow_y": null,
      "padding": null,
      "right": null,
      "top": null,
      "visibility": null,
      "width": null
     }
    },
    "ba6c243cd8c744978dfb2a0aff255962": {
     "model_module": "@jupyter-widgets/controls",
     "model_module_version": "1.5.0",
     "model_name": "DescriptionStyleModel",
     "state": {
      "_model_module": "@jupyter-widgets/controls",
      "_model_module_version": "1.5.0",
      "_model_name": "DescriptionStyleModel",
      "_view_count": null,
      "_view_module": "@jupyter-widgets/base",
      "_view_module_version": "1.2.0",
      "_view_name": "StyleView",
      "description_width": ""
     }
    },
    "bab8ae14980a4557b42d94e9b5e0b1b9": {
     "model_module": "@jupyter-widgets/controls",
     "model_module_version": "1.5.0",
     "model_name": "ProgressStyleModel",
     "state": {
      "_model_module": "@jupyter-widgets/controls",
      "_model_module_version": "1.5.0",
      "_model_name": "ProgressStyleModel",
      "_view_count": null,
      "_view_module": "@jupyter-widgets/base",
      "_view_module_version": "1.2.0",
      "_view_name": "StyleView",
      "bar_color": null,
      "description_width": ""
     }
    },
    "bd4737ff1f3e405cb9f57813ca3d7eca": {
     "model_module": "@jupyter-widgets/controls",
     "model_module_version": "1.5.0",
     "model_name": "HTMLModel",
     "state": {
      "_dom_classes": [],
      "_model_module": "@jupyter-widgets/controls",
      "_model_module_version": "1.5.0",
      "_model_name": "HTMLModel",
      "_view_count": null,
      "_view_module": "@jupyter-widgets/controls",
      "_view_module_version": "1.5.0",
      "_view_name": "HTMLView",
      "description": "",
      "description_tooltip": null,
      "layout": "IPY_MODEL_3b2b7ca283964dbeb5a863cc0271cc73",
      "placeholder": "​",
      "style": "IPY_MODEL_4bf5b9b1c2fc4a58b659b47c62a49493",
      "value": "Parsing nodes: 100%"
     }
    },
    "c409f0d13499402fba892d129120b36e": {
     "model_module": "@jupyter-widgets/base",
     "model_module_version": "1.2.0",
     "model_name": "LayoutModel",
     "state": {
      "_model_module": "@jupyter-widgets/base",
      "_model_module_version": "1.2.0",
      "_model_name": "LayoutModel",
      "_view_count": null,
      "_view_module": "@jupyter-widgets/base",
      "_view_module_version": "1.2.0",
      "_view_name": "LayoutView",
      "align_content": null,
      "align_items": null,
      "align_self": null,
      "border": null,
      "bottom": null,
      "display": null,
      "flex": null,
      "flex_flow": null,
      "grid_area": null,
      "grid_auto_columns": null,
      "grid_auto_flow": null,
      "grid_auto_rows": null,
      "grid_column": null,
      "grid_gap": null,
      "grid_row": null,
      "grid_template_areas": null,
      "grid_template_columns": null,
      "grid_template_rows": null,
      "height": null,
      "justify_content": null,
      "justify_items": null,
      "left": null,
      "margin": null,
      "max_height": null,
      "max_width": null,
      "min_height": null,
      "min_width": null,
      "object_fit": null,
      "object_position": null,
      "order": null,
      "overflow": null,
      "overflow_x": null,
      "overflow_y": null,
      "padding": null,
      "right": null,
      "top": null,
      "visibility": null,
      "width": null
     }
    },
    "c70a47a6faa3499ea8941a6cb29e35d8": {
     "model_module": "@jupyter-widgets/base",
     "model_module_version": "1.2.0",
     "model_name": "LayoutModel",
     "state": {
      "_model_module": "@jupyter-widgets/base",
      "_model_module_version": "1.2.0",
      "_model_name": "LayoutModel",
      "_view_count": null,
      "_view_module": "@jupyter-widgets/base",
      "_view_module_version": "1.2.0",
      "_view_name": "LayoutView",
      "align_content": null,
      "align_items": null,
      "align_self": null,
      "border": null,
      "bottom": null,
      "display": null,
      "flex": null,
      "flex_flow": null,
      "grid_area": null,
      "grid_auto_columns": null,
      "grid_auto_flow": null,
      "grid_auto_rows": null,
      "grid_column": null,
      "grid_gap": null,
      "grid_row": null,
      "grid_template_areas": null,
      "grid_template_columns": null,
      "grid_template_rows": null,
      "height": null,
      "justify_content": null,
      "justify_items": null,
      "left": null,
      "margin": null,
      "max_height": null,
      "max_width": null,
      "min_height": null,
      "min_width": null,
      "object_fit": null,
      "object_position": null,
      "order": null,
      "overflow": null,
      "overflow_x": null,
      "overflow_y": null,
      "padding": null,
      "right": null,
      "top": null,
      "visibility": null,
      "width": null
     }
    },
    "ca5c5c1d7627480c9785650685a64314": {
     "model_module": "@jupyter-widgets/controls",
     "model_module_version": "1.5.0",
     "model_name": "HTMLModel",
     "state": {
      "_dom_classes": [],
      "_model_module": "@jupyter-widgets/controls",
      "_model_module_version": "1.5.0",
      "_model_name": "HTMLModel",
      "_view_count": null,
      "_view_module": "@jupyter-widgets/controls",
      "_view_module_version": "1.5.0",
      "_view_name": "HTMLView",
      "description": "",
      "description_tooltip": null,
      "layout": "IPY_MODEL_70f32c743358401a851d027874b67fb4",
      "placeholder": "​",
      "style": "IPY_MODEL_edd546afa00040c98de4b684eb41eaf5",
      "value": "Extracting keywords from nodes: 100%"
     }
    },
    "cb6e4b7ce2c140bdabd9bd14586ec6e1": {
     "model_module": "@jupyter-widgets/base",
     "model_module_version": "1.2.0",
     "model_name": "LayoutModel",
     "state": {
      "_model_module": "@jupyter-widgets/base",
      "_model_module_version": "1.2.0",
      "_model_name": "LayoutModel",
      "_view_count": null,
      "_view_module": "@jupyter-widgets/base",
      "_view_module_version": "1.2.0",
      "_view_name": "LayoutView",
      "align_content": null,
      "align_items": null,
      "align_self": null,
      "border": null,
      "bottom": null,
      "display": null,
      "flex": null,
      "flex_flow": null,
      "grid_area": null,
      "grid_auto_columns": null,
      "grid_auto_flow": null,
      "grid_auto_rows": null,
      "grid_column": null,
      "grid_gap": null,
      "grid_row": null,
      "grid_template_areas": null,
      "grid_template_columns": null,
      "grid_template_rows": null,
      "height": null,
      "justify_content": null,
      "justify_items": null,
      "left": null,
      "margin": null,
      "max_height": null,
      "max_width": null,
      "min_height": null,
      "min_width": null,
      "object_fit": null,
      "object_position": null,
      "order": null,
      "overflow": null,
      "overflow_x": null,
      "overflow_y": null,
      "padding": null,
      "right": null,
      "top": null,
      "visibility": null,
      "width": null
     }
    },
    "cc31816f55704cfa8a930b1e32a79f17": {
     "model_module": "@jupyter-widgets/controls",
     "model_module_version": "1.5.0",
     "model_name": "HTMLModel",
     "state": {
      "_dom_classes": [],
      "_model_module": "@jupyter-widgets/controls",
      "_model_module_version": "1.5.0",
      "_model_name": "HTMLModel",
      "_view_count": null,
      "_view_module": "@jupyter-widgets/controls",
      "_view_module_version": "1.5.0",
      "_view_name": "HTMLView",
      "description": "",
      "description_tooltip": null,
      "layout": "IPY_MODEL_77791193a8714b139fde91b4bac92856",
      "placeholder": "​",
      "style": "IPY_MODEL_a4bc950d21394dd9965b681d0470aed9",
      "value": "Parsing nodes: 100%"
     }
    },
    "cd0a31bf12594f629c73127c26f3bc12": {
     "model_module": "@jupyter-widgets/controls",
     "model_module_version": "1.5.0",
     "model_name": "HBoxModel",
     "state": {
      "_dom_classes": [],
      "_model_module": "@jupyter-widgets/controls",
      "_model_module_version": "1.5.0",
      "_model_name": "HBoxModel",
      "_view_count": null,
      "_view_module": "@jupyter-widgets/controls",
      "_view_module_version": "1.5.0",
      "_view_name": "HBoxView",
      "box_style": "",
      "children": [
       "IPY_MODEL_2fd0f785a1b64679a297c046fcec87bc",
       "IPY_MODEL_156a5c690c3d4771b43c0ea7351d6ecd",
       "IPY_MODEL_7ba24ca25c49494f8f6d2f5edee193b3"
      ],
      "layout": "IPY_MODEL_710fdb6588bd422bb09e049c18feab9b"
     }
    },
    "ce769541957a47569a614a58cb868e13": {
     "model_module": "@jupyter-widgets/controls",
     "model_module_version": "1.5.0",
     "model_name": "DescriptionStyleModel",
     "state": {
      "_model_module": "@jupyter-widgets/controls",
      "_model_module_version": "1.5.0",
      "_model_name": "DescriptionStyleModel",
      "_view_count": null,
      "_view_module": "@jupyter-widgets/base",
      "_view_module_version": "1.2.0",
      "_view_name": "StyleView",
      "description_width": ""
     }
    },
    "d0d6f08dae0040ba85e9c07abd16d536": {
     "model_module": "@jupyter-widgets/controls",
     "model_module_version": "1.5.0",
     "model_name": "HTMLModel",
     "state": {
      "_dom_classes": [],
      "_model_module": "@jupyter-widgets/controls",
      "_model_module_version": "1.5.0",
      "_model_name": "HTMLModel",
      "_view_count": null,
      "_view_module": "@jupyter-widgets/controls",
      "_view_module_version": "1.5.0",
      "_view_name": "HTMLView",
      "description": "",
      "description_tooltip": null,
      "layout": "IPY_MODEL_814febcbb02a4946aed9de2a8ccbdb3d",
      "placeholder": "​",
      "style": "IPY_MODEL_d1b427db09d94d04b0f6994542c8cf47",
      "value": "Generating embeddings: 100%"
     }
    },
    "d11bdd3cd2d34d25b42788516049668b": {
     "model_module": "@jupyter-widgets/controls",
     "model_module_version": "1.5.0",
     "model_name": "FloatProgressModel",
     "state": {
      "_dom_classes": [],
      "_model_module": "@jupyter-widgets/controls",
      "_model_module_version": "1.5.0",
      "_model_name": "FloatProgressModel",
      "_view_count": null,
      "_view_module": "@jupyter-widgets/controls",
      "_view_module_version": "1.5.0",
      "_view_name": "ProgressView",
      "bar_style": "success",
      "description": "",
      "description_tooltip": null,
      "layout": "IPY_MODEL_b529f0dd0d7a4d5f8e94d8d853c02268",
      "max": 9,
      "min": 0,
      "orientation": "horizontal",
      "style": "IPY_MODEL_6dc814ca22e74a2a84ad0df638493b80",
      "value": 9
     }
    },
    "d1b427db09d94d04b0f6994542c8cf47": {
     "model_module": "@jupyter-widgets/controls",
     "model_module_version": "1.5.0",
     "model_name": "DescriptionStyleModel",
     "state": {
      "_model_module": "@jupyter-widgets/controls",
      "_model_module_version": "1.5.0",
      "_model_name": "DescriptionStyleModel",
      "_view_count": null,
      "_view_module": "@jupyter-widgets/base",
      "_view_module_version": "1.2.0",
      "_view_name": "StyleView",
      "description_width": ""
     }
    },
    "d2326908c2954e979eb3135427f903b0": {
     "model_module": "@jupyter-widgets/controls",
     "model_module_version": "1.5.0",
     "model_name": "HTMLModel",
     "state": {
      "_dom_classes": [],
      "_model_module": "@jupyter-widgets/controls",
      "_model_module_version": "1.5.0",
      "_model_name": "HTMLModel",
      "_view_count": null,
      "_view_module": "@jupyter-widgets/controls",
      "_view_module_version": "1.5.0",
      "_view_name": "HTMLView",
      "description": "",
      "description_tooltip": null,
      "layout": "IPY_MODEL_dd11ab00d4864fe4a887b2b53003a8b3",
      "placeholder": "​",
      "style": "IPY_MODEL_4eb0482c70324cf08edec3faa7f35470",
      "value": "Processing nodes: 100%"
     }
    },
    "d246b7f624b64ad3b810807f5f1fc653": {
     "model_module": "@jupyter-widgets/controls",
     "model_module_version": "1.5.0",
     "model_name": "DescriptionStyleModel",
     "state": {
      "_model_module": "@jupyter-widgets/controls",
      "_model_module_version": "1.5.0",
      "_model_name": "DescriptionStyleModel",
      "_view_count": null,
      "_view_module": "@jupyter-widgets/base",
      "_view_module_version": "1.2.0",
      "_view_name": "StyleView",
      "description_width": ""
     }
    },
    "d25d5f219cc6412a9e71908900501ef4": {
     "model_module": "@jupyter-widgets/controls",
     "model_module_version": "1.5.0",
     "model_name": "HTMLModel",
     "state": {
      "_dom_classes": [],
      "_model_module": "@jupyter-widgets/controls",
      "_model_module_version": "1.5.0",
      "_model_name": "HTMLModel",
      "_view_count": null,
      "_view_module": "@jupyter-widgets/controls",
      "_view_module_version": "1.5.0",
      "_view_name": "HTMLView",
      "description": "",
      "description_tooltip": null,
      "layout": "IPY_MODEL_187e8a1e1d654d5e994ca76f50a1b73f",
      "placeholder": "​",
      "style": "IPY_MODEL_ce769541957a47569a614a58cb868e13",
      "value": " 9/9 [00:00&lt;00:00, 207.46it/s]"
     }
    },
    "d93acb49fded441fbac51495cd416f99": {
     "model_module": "@jupyter-widgets/base",
     "model_module_version": "1.2.0",
     "model_name": "LayoutModel",
     "state": {
      "_model_module": "@jupyter-widgets/base",
      "_model_module_version": "1.2.0",
      "_model_name": "LayoutModel",
      "_view_count": null,
      "_view_module": "@jupyter-widgets/base",
      "_view_module_version": "1.2.0",
      "_view_name": "LayoutView",
      "align_content": null,
      "align_items": null,
      "align_self": null,
      "border": null,
      "bottom": null,
      "display": null,
      "flex": null,
      "flex_flow": null,
      "grid_area": null,
      "grid_auto_columns": null,
      "grid_auto_flow": null,
      "grid_auto_rows": null,
      "grid_column": null,
      "grid_gap": null,
      "grid_row": null,
      "grid_template_areas": null,
      "grid_template_columns": null,
      "grid_template_rows": null,
      "height": null,
      "justify_content": null,
      "justify_items": null,
      "left": null,
      "margin": null,
      "max_height": null,
      "max_width": null,
      "min_height": null,
      "min_width": null,
      "object_fit": null,
      "object_position": null,
      "order": null,
      "overflow": null,
      "overflow_x": null,
      "overflow_y": null,
      "padding": null,
      "right": null,
      "top": null,
      "visibility": null,
      "width": null
     }
    },
    "d9d4a97ac6e3455b9d8cd3bd25b21f07": {
     "model_module": "@jupyter-widgets/controls",
     "model_module_version": "1.5.0",
     "model_name": "DescriptionStyleModel",
     "state": {
      "_model_module": "@jupyter-widgets/controls",
      "_model_module_version": "1.5.0",
      "_model_name": "DescriptionStyleModel",
      "_view_count": null,
      "_view_module": "@jupyter-widgets/base",
      "_view_module_version": "1.2.0",
      "_view_name": "StyleView",
      "description_width": ""
     }
    },
    "dd11ab00d4864fe4a887b2b53003a8b3": {
     "model_module": "@jupyter-widgets/base",
     "model_module_version": "1.2.0",
     "model_name": "LayoutModel",
     "state": {
      "_model_module": "@jupyter-widgets/base",
      "_model_module_version": "1.2.0",
      "_model_name": "LayoutModel",
      "_view_count": null,
      "_view_module": "@jupyter-widgets/base",
      "_view_module_version": "1.2.0",
      "_view_name": "LayoutView",
      "align_content": null,
      "align_items": null,
      "align_self": null,
      "border": null,
      "bottom": null,
      "display": null,
      "flex": null,
      "flex_flow": null,
      "grid_area": null,
      "grid_auto_columns": null,
      "grid_auto_flow": null,
      "grid_auto_rows": null,
      "grid_column": null,
      "grid_gap": null,
      "grid_row": null,
      "grid_template_areas": null,
      "grid_template_columns": null,
      "grid_template_rows": null,
      "height": null,
      "justify_content": null,
      "justify_items": null,
      "left": null,
      "margin": null,
      "max_height": null,
      "max_width": null,
      "min_height": null,
      "min_width": null,
      "object_fit": null,
      "object_position": null,
      "order": null,
      "overflow": null,
      "overflow_x": null,
      "overflow_y": null,
      "padding": null,
      "right": null,
      "top": null,
      "visibility": null,
      "width": null
     }
    },
    "dd9e5349b7004892857df5a2a65115ce": {
     "model_module": "@jupyter-widgets/controls",
     "model_module_version": "1.5.0",
     "model_name": "HBoxModel",
     "state": {
      "_dom_classes": [],
      "_model_module": "@jupyter-widgets/controls",
      "_model_module_version": "1.5.0",
      "_model_name": "HBoxModel",
      "_view_count": null,
      "_view_module": "@jupyter-widgets/controls",
      "_view_module_version": "1.5.0",
      "_view_name": "HBoxView",
      "box_style": "",
      "children": [
       "IPY_MODEL_8fa82ed551174d6bb86e5bc99e07a474",
       "IPY_MODEL_2db6d82d89d74485b13c86c6f8179346",
       "IPY_MODEL_ef73c3b8e52d47e981ffd05659eaaa4b"
      ],
      "layout": "IPY_MODEL_4d17a78630e34c2f89acf24dd9d3df86"
     }
    },
    "e17d08ecdb31415195bedf81a384b6d4": {
     "model_module": "@jupyter-widgets/base",
     "model_module_version": "1.2.0",
     "model_name": "LayoutModel",
     "state": {
      "_model_module": "@jupyter-widgets/base",
      "_model_module_version": "1.2.0",
      "_model_name": "LayoutModel",
      "_view_count": null,
      "_view_module": "@jupyter-widgets/base",
      "_view_module_version": "1.2.0",
      "_view_name": "LayoutView",
      "align_content": null,
      "align_items": null,
      "align_self": null,
      "border": null,
      "bottom": null,
      "display": null,
      "flex": null,
      "flex_flow": null,
      "grid_area": null,
      "grid_auto_columns": null,
      "grid_auto_flow": null,
      "grid_auto_rows": null,
      "grid_column": null,
      "grid_gap": null,
      "grid_row": null,
      "grid_template_areas": null,
      "grid_template_columns": null,
      "grid_template_rows": null,
      "height": null,
      "justify_content": null,
      "justify_items": null,
      "left": null,
      "margin": null,
      "max_height": null,
      "max_width": null,
      "min_height": null,
      "min_width": null,
      "object_fit": null,
      "object_position": null,
      "order": null,
      "overflow": null,
      "overflow_x": null,
      "overflow_y": null,
      "padding": null,
      "right": null,
      "top": null,
      "visibility": null,
      "width": null
     }
    },
    "e2acbe24b6224a3c99cb795aa973dc8c": {
     "model_module": "@jupyter-widgets/base",
     "model_module_version": "1.2.0",
     "model_name": "LayoutModel",
     "state": {
      "_model_module": "@jupyter-widgets/base",
      "_model_module_version": "1.2.0",
      "_model_name": "LayoutModel",
      "_view_count": null,
      "_view_module": "@jupyter-widgets/base",
      "_view_module_version": "1.2.0",
      "_view_name": "LayoutView",
      "align_content": null,
      "align_items": null,
      "align_self": null,
      "border": null,
      "bottom": null,
      "display": null,
      "flex": null,
      "flex_flow": null,
      "grid_area": null,
      "grid_auto_columns": null,
      "grid_auto_flow": null,
      "grid_auto_rows": null,
      "grid_column": null,
      "grid_gap": null,
      "grid_row": null,
      "grid_template_areas": null,
      "grid_template_columns": null,
      "grid_template_rows": null,
      "height": null,
      "justify_content": null,
      "justify_items": null,
      "left": null,
      "margin": null,
      "max_height": null,
      "max_width": null,
      "min_height": null,
      "min_width": null,
      "object_fit": null,
      "object_position": null,
      "order": null,
      "overflow": null,
      "overflow_x": null,
      "overflow_y": null,
      "padding": null,
      "right": null,
      "top": null,
      "visibility": null,
      "width": null
     }
    },
    "e562ce382f904803b3b8c3cee87d868c": {
     "model_module": "@jupyter-widgets/controls",
     "model_module_version": "1.5.0",
     "model_name": "DescriptionStyleModel",
     "state": {
      "_model_module": "@jupyter-widgets/controls",
      "_model_module_version": "1.5.0",
      "_model_name": "DescriptionStyleModel",
      "_view_count": null,
      "_view_module": "@jupyter-widgets/base",
      "_view_module_version": "1.2.0",
      "_view_name": "StyleView",
      "description_width": ""
     }
    },
    "e691e868aca245319aaa3840f5069036": {
     "model_module": "@jupyter-widgets/controls",
     "model_module_version": "1.5.0",
     "model_name": "HBoxModel",
     "state": {
      "_dom_classes": [],
      "_model_module": "@jupyter-widgets/controls",
      "_model_module_version": "1.5.0",
      "_model_name": "HBoxModel",
      "_view_count": null,
      "_view_module": "@jupyter-widgets/controls",
      "_view_module_version": "1.5.0",
      "_view_name": "HBoxView",
      "box_style": "",
      "children": [
       "IPY_MODEL_298faff347d74a1789a1d8363dd97fb7",
       "IPY_MODEL_92c503df6883482fb96845b3e2e87377",
       "IPY_MODEL_1e7e2825c64c4bf2a806d225ec262157"
      ],
      "layout": "IPY_MODEL_2598c688b83042ab972fddd379026898"
     }
    },
    "e89ce1e2eb924228894a9caf8aed5eb1": {
     "model_module": "@jupyter-widgets/controls",
     "model_module_version": "1.5.0",
     "model_name": "FloatProgressModel",
     "state": {
      "_dom_classes": [],
      "_model_module": "@jupyter-widgets/controls",
      "_model_module_version": "1.5.0",
      "_model_name": "FloatProgressModel",
      "_view_count": null,
      "_view_module": "@jupyter-widgets/controls",
      "_view_module_version": "1.5.0",
      "_view_name": "ProgressView",
      "bar_style": "success",
      "description": "",
      "description_tooltip": null,
      "layout": "IPY_MODEL_e17d08ecdb31415195bedf81a384b6d4",
      "max": 9,
      "min": 0,
      "orientation": "horizontal",
      "style": "IPY_MODEL_48a3efcf37784c12baef6b52569333a8",
      "value": 9
     }
    },
    "e9c146b6d9fc41d6a7e0c21f83f5f8bb": {
     "model_module": "@jupyter-widgets/controls",
     "model_module_version": "1.5.0",
     "model_name": "DescriptionStyleModel",
     "state": {
      "_model_module": "@jupyter-widgets/controls",
      "_model_module_version": "1.5.0",
      "_model_name": "DescriptionStyleModel",
      "_view_count": null,
      "_view_module": "@jupyter-widgets/base",
      "_view_module_version": "1.2.0",
      "_view_name": "StyleView",
      "description_width": ""
     }
    },
    "edc249291cf749a2a78d7b3595b8c7df": {
     "model_module": "@jupyter-widgets/controls",
     "model_module_version": "1.5.0",
     "model_name": "ProgressStyleModel",
     "state": {
      "_model_module": "@jupyter-widgets/controls",
      "_model_module_version": "1.5.0",
      "_model_name": "ProgressStyleModel",
      "_view_count": null,
      "_view_module": "@jupyter-widgets/base",
      "_view_module_version": "1.2.0",
      "_view_name": "StyleView",
      "bar_color": null,
      "description_width": ""
     }
    },
    "edd546afa00040c98de4b684eb41eaf5": {
     "model_module": "@jupyter-widgets/controls",
     "model_module_version": "1.5.0",
     "model_name": "DescriptionStyleModel",
     "state": {
      "_model_module": "@jupyter-widgets/controls",
      "_model_module_version": "1.5.0",
      "_model_name": "DescriptionStyleModel",
      "_view_count": null,
      "_view_module": "@jupyter-widgets/base",
      "_view_module_version": "1.2.0",
      "_view_name": "StyleView",
      "description_width": ""
     }
    },
    "ee7155ca310b4ede98bc94b072e233e8": {
     "model_module": "@jupyter-widgets/base",
     "model_module_version": "1.2.0",
     "model_name": "LayoutModel",
     "state": {
      "_model_module": "@jupyter-widgets/base",
      "_model_module_version": "1.2.0",
      "_model_name": "LayoutModel",
      "_view_count": null,
      "_view_module": "@jupyter-widgets/base",
      "_view_module_version": "1.2.0",
      "_view_name": "LayoutView",
      "align_content": null,
      "align_items": null,
      "align_self": null,
      "border": null,
      "bottom": null,
      "display": null,
      "flex": null,
      "flex_flow": null,
      "grid_area": null,
      "grid_auto_columns": null,
      "grid_auto_flow": null,
      "grid_auto_rows": null,
      "grid_column": null,
      "grid_gap": null,
      "grid_row": null,
      "grid_template_areas": null,
      "grid_template_columns": null,
      "grid_template_rows": null,
      "height": null,
      "justify_content": null,
      "justify_items": null,
      "left": null,
      "margin": null,
      "max_height": null,
      "max_width": null,
      "min_height": null,
      "min_width": null,
      "object_fit": null,
      "object_position": null,
      "order": null,
      "overflow": null,
      "overflow_x": null,
      "overflow_y": null,
      "padding": null,
      "right": null,
      "top": null,
      "visibility": null,
      "width": null
     }
    },
    "ef73c3b8e52d47e981ffd05659eaaa4b": {
     "model_module": "@jupyter-widgets/controls",
     "model_module_version": "1.5.0",
     "model_name": "HTMLModel",
     "state": {
      "_dom_classes": [],
      "_model_module": "@jupyter-widgets/controls",
      "_model_module_version": "1.5.0",
      "_model_name": "HTMLModel",
      "_view_count": null,
      "_view_module": "@jupyter-widgets/controls",
      "_view_module_version": "1.5.0",
      "_view_name": "HTMLView",
      "description": "",
      "description_tooltip": null,
      "layout": "IPY_MODEL_94ce158c9a09485f8d285a25cd81c105",
      "placeholder": "​",
      "style": "IPY_MODEL_e562ce382f904803b3b8c3cee87d868c",
      "value": " 9/9 [00:00&lt;00:00, 19.12it/s]"
     }
    },
    "f12b436b434647de9efff19d5c443525": {
     "model_module": "@jupyter-widgets/base",
     "model_module_version": "1.2.0",
     "model_name": "LayoutModel",
     "state": {
      "_model_module": "@jupyter-widgets/base",
      "_model_module_version": "1.2.0",
      "_model_name": "LayoutModel",
      "_view_count": null,
      "_view_module": "@jupyter-widgets/base",
      "_view_module_version": "1.2.0",
      "_view_name": "LayoutView",
      "align_content": null,
      "align_items": null,
      "align_self": null,
      "border": null,
      "bottom": null,
      "display": null,
      "flex": null,
      "flex_flow": null,
      "grid_area": null,
      "grid_auto_columns": null,
      "grid_auto_flow": null,
      "grid_auto_rows": null,
      "grid_column": null,
      "grid_gap": null,
      "grid_row": null,
      "grid_template_areas": null,
      "grid_template_columns": null,
      "grid_template_rows": null,
      "height": null,
      "justify_content": null,
      "justify_items": null,
      "left": null,
      "margin": null,
      "max_height": null,
      "max_width": null,
      "min_height": null,
      "min_width": null,
      "object_fit": null,
      "object_position": null,
      "order": null,
      "overflow": null,
      "overflow_x": null,
      "overflow_y": null,
      "padding": null,
      "right": null,
      "top": null,
      "visibility": null,
      "width": null
     }
    },
    "f69e2305867b4cbda91b12057844bc58": {
     "model_module": "@jupyter-widgets/controls",
     "model_module_version": "1.5.0",
     "model_name": "HTMLModel",
     "state": {
      "_dom_classes": [],
      "_model_module": "@jupyter-widgets/controls",
      "_model_module_version": "1.5.0",
      "_model_name": "HTMLModel",
      "_view_count": null,
      "_view_module": "@jupyter-widgets/controls",
      "_view_module_version": "1.5.0",
      "_view_name": "HTMLView",
      "description": "",
      "description_tooltip": null,
      "layout": "IPY_MODEL_f12b436b434647de9efff19d5c443525",
      "placeholder": "​",
      "style": "IPY_MODEL_95e9cef0aabc47a7bbd12325e66ca9b2",
      "value": " 9/9 [00:12&lt;00:00,  1.25s/it]"
     }
    },
    "f914b515911d4552aa8a653f836579a1": {
     "model_module": "@jupyter-widgets/controls",
     "model_module_version": "1.5.0",
     "model_name": "FloatProgressModel",
     "state": {
      "_dom_classes": [],
      "_model_module": "@jupyter-widgets/controls",
      "_model_module_version": "1.5.0",
      "_model_name": "FloatProgressModel",
      "_view_count": null,
      "_view_module": "@jupyter-widgets/controls",
      "_view_module_version": "1.5.0",
      "_view_name": "ProgressView",
      "bar_style": "success",
      "description": "",
      "description_tooltip": null,
      "layout": "IPY_MODEL_31ca2ffae54645029830c6a494bb7b50",
      "max": 9,
      "min": 0,
      "orientation": "horizontal",
      "style": "IPY_MODEL_4fbf999d27724699b86b6c3d917b729c",
      "value": 9
     }
    },
    "fb015cf9c37a4076b1190242dad8a75b": {
     "model_module": "@jupyter-widgets/controls",
     "model_module_version": "1.5.0",
     "model_name": "HTMLModel",
     "state": {
      "_dom_classes": [],
      "_model_module": "@jupyter-widgets/controls",
      "_model_module_version": "1.5.0",
      "_model_name": "HTMLModel",
      "_view_count": null,
      "_view_module": "@jupyter-widgets/controls",
      "_view_module_version": "1.5.0",
      "_view_name": "HTMLView",
      "description": "",
      "description_tooltip": null,
      "layout": "IPY_MODEL_b8bd8abe720140668da49bbaef539fc1",
      "placeholder": "​",
      "style": "IPY_MODEL_3cc13dc1acb84da880abea2c1f3c0742",
      "value": " 9/9 [00:00&lt;00:00, 30.95it/s]"
     }
    },
    "fb22aaeb86bb40b18830f8737da26dc6": {
     "model_module": "@jupyter-widgets/controls",
     "model_module_version": "1.5.0",
     "model_name": "DescriptionStyleModel",
     "state": {
      "_model_module": "@jupyter-widgets/controls",
      "_model_module_version": "1.5.0",
      "_model_name": "DescriptionStyleModel",
      "_view_count": null,
      "_view_module": "@jupyter-widgets/base",
      "_view_module_version": "1.2.0",
      "_view_name": "StyleView",
      "description_width": ""
     }
    }
   }
  }
 },
 "nbformat": 4,
 "nbformat_minor": 4
}
