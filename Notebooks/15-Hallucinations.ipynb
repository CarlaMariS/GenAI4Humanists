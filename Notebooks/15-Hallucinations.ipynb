{
 "cells": [
  {
   "cell_type": "markdown",
   "id": "44cb7082-eb5e-4f04-988c-80fb1775b9f6",
   "metadata": {},
   "source": [
    "# Hallucinations in LLMs"
   ]
  },
  {
   "cell_type": "code",
   "execution_count": 1,
   "id": "74c03638-989c-4b50-a3ca-1d742d0696cc",
   "metadata": {},
   "outputs": [],
   "source": [
    "import os\n",
    "import openai\n",
    "import base64\n",
    "import requests\n",
    "from IPython.display import Image, Audio\n",
    "from openai import OpenAI\n",
    "\n",
    "#os.environ[\"OPENAI_API_KEY\"] = \"<the key>\"\n",
    "openai.api_key = os.environ[\"OPENAI_API_KEY\"]\n",
    "\n",
    "\n",
    "client = OpenAI()"
   ]
  },
  {
   "cell_type": "code",
   "execution_count": 4,
   "id": "6ab3471f-c1b1-47a2-a421-43c8f145475c",
   "metadata": {},
   "outputs": [],
   "source": [
    "model=\"gpt-3.5-turbo\"\n",
    "#model=\"gpt-4\"\n",
    "#model=\"gpt-4o\""
   ]
  },
  {
   "cell_type": "code",
   "execution_count": 7,
   "id": "ed934214-35f7-4caa-8eef-27c7466bacba",
   "metadata": {},
   "outputs": [],
   "source": [
    "def get_completion(prompt, model=\"gpt-3.5-turbo\"):\n",
    "    messages = [\n",
    "        {\"role\": \"system\", \"content\": \"You are a helpful assistant.\"},\n",
    "        {\"role\": \"user\", \"content\": prompt},\n",
    "        ]\n",
    "    response = client.chat.completions.create(model=model,\n",
    "                                              messages=messages,\n",
    "                                              temperature=0\n",
    "                                              )\n",
    "    print(response.choices[0].message.content)\n",
    "    return response.choices[0].message.content"
   ]
  },
  {
   "cell_type": "markdown",
   "id": "60fa4ae5-457f-400b-8b62-3711b4475531",
   "metadata": {},
   "source": [
    "## 1. Incapacity to solve tasks"
   ]
  },
  {
   "cell_type": "code",
   "execution_count": 10,
   "id": "666b37fd-5ce6-4e79-b0a8-c1cd1004d11e",
   "metadata": {},
   "outputs": [
    {
     "ename": "ValueError",
     "evalue": "Cannot embed the 'webp' image format",
     "output_type": "error",
     "traceback": [
      "\u001b[0;31m---------------------------------------------------------------------------\u001b[0m",
      "\u001b[0;31mValueError\u001b[0m                                Traceback (most recent call last)",
      "Input \u001b[0;32mIn [10]\u001b[0m, in \u001b[0;36m<cell line: 1>\u001b[0;34m()\u001b[0m\n\u001b[0;32m----> 1\u001b[0m \u001b[43mImage\u001b[49m\u001b[43m(\u001b[49m\u001b[38;5;124;43m\"\u001b[39;49m\u001b[38;5;124;43m../Imgs/16066L9JjU3_7uRv3_9qCBA.webp\u001b[39;49m\u001b[38;5;124;43m\"\u001b[39;49m\u001b[43m)\u001b[49m\n",
      "File \u001b[0;32m~/Documents/env_default/lib/python3.10/site-packages/IPython/core/display.py:948\u001b[0m, in \u001b[0;36mImage.__init__\u001b[0;34m(self, data, url, filename, format, embed, width, height, retina, unconfined, metadata, alt)\u001b[0m\n\u001b[1;32m    945\u001b[0m \u001b[38;5;28mself\u001b[39m\u001b[38;5;241m.\u001b[39membed \u001b[38;5;241m=\u001b[39m embed \u001b[38;5;28;01mif\u001b[39;00m embed \u001b[38;5;129;01mis\u001b[39;00m \u001b[38;5;129;01mnot\u001b[39;00m \u001b[38;5;28;01mNone\u001b[39;00m \u001b[38;5;28;01melse\u001b[39;00m (url \u001b[38;5;129;01mis\u001b[39;00m \u001b[38;5;28;01mNone\u001b[39;00m)\n\u001b[1;32m    947\u001b[0m \u001b[38;5;28;01mif\u001b[39;00m \u001b[38;5;28mself\u001b[39m\u001b[38;5;241m.\u001b[39membed \u001b[38;5;129;01mand\u001b[39;00m \u001b[38;5;28mself\u001b[39m\u001b[38;5;241m.\u001b[39mformat \u001b[38;5;129;01mnot\u001b[39;00m \u001b[38;5;129;01min\u001b[39;00m \u001b[38;5;28mself\u001b[39m\u001b[38;5;241m.\u001b[39m_ACCEPTABLE_EMBEDDINGS:\n\u001b[0;32m--> 948\u001b[0m     \u001b[38;5;28;01mraise\u001b[39;00m \u001b[38;5;167;01mValueError\u001b[39;00m(\u001b[38;5;124m\"\u001b[39m\u001b[38;5;124mCannot embed the \u001b[39m\u001b[38;5;124m'\u001b[39m\u001b[38;5;132;01m%s\u001b[39;00m\u001b[38;5;124m'\u001b[39m\u001b[38;5;124m image format\u001b[39m\u001b[38;5;124m\"\u001b[39m \u001b[38;5;241m%\u001b[39m (\u001b[38;5;28mself\u001b[39m\u001b[38;5;241m.\u001b[39mformat))\n\u001b[1;32m    949\u001b[0m \u001b[38;5;28;01mif\u001b[39;00m \u001b[38;5;28mself\u001b[39m\u001b[38;5;241m.\u001b[39membed:\n\u001b[1;32m    950\u001b[0m     \u001b[38;5;28mself\u001b[39m\u001b[38;5;241m.\u001b[39m_mimetype \u001b[38;5;241m=\u001b[39m \u001b[38;5;28mself\u001b[39m\u001b[38;5;241m.\u001b[39m_MIMETYPES\u001b[38;5;241m.\u001b[39mget(\u001b[38;5;28mself\u001b[39m\u001b[38;5;241m.\u001b[39mformat)\n",
      "\u001b[0;31mValueError\u001b[0m: Cannot embed the 'webp' image format"
     ]
    }
   ],
   "source": [
    "Image(\"../Imgs/16066L9JjU3_7uRv3_9qCBA.webp\")"
   ]
  },
  {
   "cell_type": "code",
   "execution_count": 8,
   "id": "43776d35-aeba-4626-bbd4-18957983c18d",
   "metadata": {},
   "outputs": [],
   "source": [
    "prompt=\"\"\"\n",
    "You need to solve a problem to control a robot to manipulate a tower of blocks.\n",
    "You have the following commands at your disposal:\n",
    "1. \"Pickup A\": picks block A from the table\n",
    "2. \"Put Down A\": puts block A in a free position on the table\n",
    "3. \"Unstack A B\": removes block A from the tower with top-element B\n",
    "4. \"Stack A B\": places block A on the tower with top element B\n",
    "---\n",
    "Innitially, Block \"R\" is in the bottom, \"G\" block is in the middle and \"B\" block is on the top.\n",
    "Your goal is to name the steps to rearrange the tower so that the \"B\" block is on the botton, \n",
    "the \"G\" block is in the middle and the \"R\" block is on the top.\n",
    "Please provide instructions as mentioned above.\n",
    "\"\"\""
   ]
  },
  {
   "cell_type": "code",
   "execution_count": 9,
   "id": "b2647ff4-99c9-419c-be33-73bb330e5011",
   "metadata": {},
   "outputs": [
    {
     "name": "stdout",
     "output_type": "stream",
     "text": [
      "Here are the steps to rearrange the tower as per your goal:\n",
      "\n",
      "1. Unstack G R\n",
      "2. Put Down R\n",
      "3. Unstack B G\n",
      "4. Put Down G\n",
      "5. Stack R G\n",
      "6. Stack G B\n",
      "\n",
      "These steps will rearrange the tower so that the \"B\" block is on the bottom, the \"G\" block is in the middle, and the \"R\" block is on the top.\n"
     ]
    },
    {
     "data": {
      "text/plain": [
       "'Here are the steps to rearrange the tower as per your goal:\\n\\n1. Unstack G R\\n2. Put Down R\\n3. Unstack B G\\n4. Put Down G\\n5. Stack R G\\n6. Stack G B\\n\\nThese steps will rearrange the tower so that the \"B\" block is on the bottom, the \"G\" block is in the middle, and the \"R\" block is on the top.'"
      ]
     },
     "execution_count": 9,
     "metadata": {},
     "output_type": "execute_result"
    }
   ],
   "source": [
    "get_completion(prompt, model=\"gpt-3.5-turbo\")"
   ]
  },
  {
   "cell_type": "code",
   "execution_count": null,
   "id": "fbef50aa-3307-413c-a17e-72dba2eb3d26",
   "metadata": {},
   "outputs": [],
   "source": []
  }
 ],
 "metadata": {
  "kernelspec": {
   "display_name": "Python 3 (ipykernel)",
   "language": "python",
   "name": "python3"
  },
  "language_info": {
   "codemirror_mode": {
    "name": "ipython",
    "version": 3
   },
   "file_extension": ".py",
   "mimetype": "text/x-python",
   "name": "python",
   "nbconvert_exporter": "python",
   "pygments_lexer": "ipython3",
   "version": "3.10.12"
  }
 },
 "nbformat": 4,
 "nbformat_minor": 5
}
