{
 "cells": [
  {
   "cell_type": "code",
   "execution_count": null,
   "id": "d202fb45-2cc6-4cab-aa2d-ba6fd8eaffc8",
   "metadata": {},
   "outputs": [],
   "source": [
    "!python -m streamlit run ./10-Chatbot_LLamaIndex_Streamlit_backend.py \\\n",
    "--server.enableCORS=False \\\n",
    "--server.enableXsrfProtection=False \\\n",
    "--browser.gatherUsageStats=False"
   ]
  },
  {
   "cell_type": "code",
   "execution_count": null,
   "id": "4fe0b71d-ac6b-4a20-aae9-9cafd8ff6e07",
   "metadata": {},
   "outputs": [],
   "source": []
  }
 ],
 "metadata": {
  "kernelspec": {
   "display_name": "Python 3 (ipykernel)",
   "language": "python",
   "name": "python3"
  },
  "language_info": {
   "codemirror_mode": {
    "name": "ipython",
    "version": 3
   },
   "file_extension": ".py",
   "mimetype": "text/x-python",
   "name": "python",
   "nbconvert_exporter": "python",
   "pygments_lexer": "ipython3",
   "version": "3.9.13"
  }
 },
 "nbformat": 4,
 "nbformat_minor": 5
}
