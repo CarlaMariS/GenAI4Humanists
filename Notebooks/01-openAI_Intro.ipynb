{
 "cells": [
  {
   "cell_type": "markdown",
   "metadata": {
    "id": "3FUv0VDTsRsJ"
   },
   "source": [
    "### 1 - Installing Packages"
   ]
  },
  {
   "cell_type": "code",
   "execution_count": 1,
   "metadata": {
    "colab": {
     "base_uri": "https://localhost:8080/"
    },
    "executionInfo": {
     "elapsed": 14290,
     "status": "ok",
     "timestamp": 1711098824634,
     "user": {
      "displayName": "Renato Rocha Souza",
      "userId": "08757946413431057160"
     },
     "user_tz": -60
    },
    "id": "miOF_GZU5mst",
    "outputId": "24fed88e-fd1d-4f61-d19f-a31bbfabe2f2"
   },
   "outputs": [],
   "source": [
    "!pip install -qU openai"
   ]
  },
  {
   "cell_type": "markdown",
   "metadata": {
    "id": "hcqqhG5asWLx"
   },
   "source": [
    "### 2 - Importing Packages"
   ]
  },
  {
   "cell_type": "code",
   "execution_count": 1,
   "metadata": {
    "executionInfo": {
     "elapsed": 1131,
     "status": "ok",
     "timestamp": 1711098944738,
     "user": {
      "displayName": "Renato Rocha Souza",
      "userId": "08757946413431057160"
     },
     "user_tz": -60
    },
    "id": "YoxylcB85gDr"
   },
   "outputs": [],
   "source": [
    "import os\n",
    "import openai"
   ]
  },
  {
   "cell_type": "markdown",
   "metadata": {
    "id": "GspjvRHMsea6"
   },
   "source": [
    "### 3 - Instatiating a connection to the API   \n",
    "Note I am adding the API Key in a way which is not recommeded. [This is the right way](https://www3.ntu.edu.sg/home/ehchua/programming/howto/Environment_Variables.html)  \n",
    "`openai.api_key = os.environ[\"OPENAI_API_KEY\"]`  \n",
    "Available [Models](https://platform.openai.com/docs/models/overview)"
   ]
  },
  {
   "cell_type": "code",
   "execution_count": 2,
   "metadata": {
    "executionInfo": {
     "elapsed": 607,
     "status": "ok",
     "timestamp": 1711099027999,
     "user": {
      "displayName": "Renato Rocha Souza",
      "userId": "08757946413431057160"
     },
     "user_tz": -60
    },
    "id": "kxVC4FLF0Y-e"
   },
   "outputs": [],
   "source": [
    "#os.environ[\"OPENAI_API_KEY\"] = \"<the key>\"\n",
    "openai.api_key = os.environ[\"OPENAI_API_KEY\"]\n",
    "client = openai.OpenAI()"
   ]
  },
  {
   "cell_type": "markdown",
   "metadata": {
    "id": "K-2S3BvbuPJl"
   },
   "source": [
    "### 4 - Using a Chat model\n",
    "`chat_completion = client.chat.completions.create(model=\"<model_name>\",messages=\"<messages>\") `"
   ]
  },
  {
   "cell_type": "code",
   "execution_count": 3,
   "metadata": {
    "colab": {
     "base_uri": "https://localhost:8080/"
    },
    "executionInfo": {
     "elapsed": 1748,
     "status": "ok",
     "timestamp": 1711099804968,
     "user": {
      "displayName": "Renato Rocha Souza",
      "userId": "08757946413431057160"
     },
     "user_tz": -60
    },
    "id": "tnZ7QVgHvNWB",
    "outputId": "0dd263fc-3139-4916-9b5f-f443d6679f6e"
   },
   "outputs": [
    {
     "name": "stdout",
     "output_type": "stream",
     "text": [
      "Oh, so you're suddenly interested in science, huh? The Earth has a diameter of about 12,742 kilometers. But don't think you can impress me with that little fact.\n"
     ]
    }
   ],
   "source": [
    "model=\"gpt-3.5-turbo\"\n",
    "\n",
    "prompt = f\"\"\"What is the size of earth?\"\"\"\n",
    "\n",
    "messages=[{\"role\": \"system\", \"content\": \"You are a grumpy and skeptic teacher.\"},\n",
    "          #{\"role\": \"system\", \"content\": \"Explain me as I were five.\"},\n",
    "          {\"role\": \"user\", \"content\": prompt},\n",
    "          ]\n",
    "\n",
    "response = client.chat.completions.create(model=model,\n",
    "                                          messages=messages,\n",
    "                                          temperature=0,\n",
    "                                          max_tokens=800,\n",
    "                                          top_p=1,\n",
    "                                          frequency_penalty=0,\n",
    "                                          presence_penalty=0,\n",
    "                                          stop=None,\n",
    "                                          )\n",
    "\n",
    "print(response.choices[0].message.content)"
   ]
  },
  {
   "cell_type": "code",
   "execution_count": 4,
   "metadata": {
    "colab": {
     "base_uri": "https://localhost:8080/"
    },
    "executionInfo": {
     "elapsed": 313,
     "status": "ok",
     "timestamp": 1711099542507,
     "user": {
      "displayName": "Renato Rocha Souza",
      "userId": "08757946413431057160"
     },
     "user_tz": -60
    },
    "id": "iNLgPTRuesse",
    "outputId": "0af09d61-d974-4642-977f-679cbd81468c"
   },
   "outputs": [
    {
     "data": {
      "text/plain": [
       "ChatCompletion(id='chatcmpl-9Mx7oCy5z8yMS6cWnDQ4wG3vr5aVH', choices=[Choice(finish_reason='stop', index=0, logprobs=None, message=ChatCompletionMessage(content=\"Oh, so you're suddenly interested in science, huh? The Earth has a diameter of about 12,742 kilometers. But don't think you can impress me with that little fact.\", role='assistant', function_call=None, tool_calls=None))], created=1715257520, model='gpt-3.5-turbo-0125', object='chat.completion', system_fingerprint=None, usage=CompletionUsage(completion_tokens=38, prompt_tokens=27, total_tokens=65))"
      ]
     },
     "execution_count": 4,
     "metadata": {},
     "output_type": "execute_result"
    }
   ],
   "source": [
    "response\n"
   ]
  },
  {
   "cell_type": "markdown",
   "metadata": {
    "id": "pDGkb-WfFsww"
   },
   "source": [
    "#### 4.1 - We can create a function to simplify the interaction with the models"
   ]
  },
  {
   "cell_type": "code",
   "execution_count": 5,
   "metadata": {
    "executionInfo": {
     "elapsed": 318,
     "status": "ok",
     "timestamp": 1711099932840,
     "user": {
      "displayName": "Renato Rocha Souza",
      "userId": "08757946413431057160"
     },
     "user_tz": -60
    },
    "id": "mOiEHasDo5Wm"
   },
   "outputs": [],
   "source": [
    "def get_completion(prompt, model=\"gpt-3.5-turbo\", temperature=0):\n",
    "    messages = [\n",
    "        {\"role\": \"system\", \"content\": \"You are a helpful assistant.\"},\n",
    "        {\"role\": \"user\", \"content\": prompt},\n",
    "        ]\n",
    "    response = client.chat.completions.create(model=model,\n",
    "                                              messages=messages,\n",
    "                                              temperature=temperature\n",
    "                                              )\n",
    "    return response.choices[0].message.content"
   ]
  },
  {
   "cell_type": "code",
   "execution_count": 6,
   "metadata": {
    "colab": {
     "base_uri": "https://localhost:8080/"
    },
    "executionInfo": {
     "elapsed": 3373,
     "status": "ok",
     "timestamp": 1711099959934,
     "user": {
      "displayName": "Renato Rocha Souza",
      "userId": "08757946413431057160"
     },
     "user_tz": -60
    },
    "id": "Fle8zxKx8rcN",
    "outputId": "cbf60570-d658-4a77-93ee-18a954c9a21c"
   },
   "outputs": [
    {
     "name": "stdout",
     "output_type": "stream",
     "text": [
      "Sure! Imagine the sky as a big blanket that covers the Earth. This blanket is made up of tiny, invisible pieces called molecules. These molecules are always moving around and bouncing off each other.\n",
      "\n",
      "Now, when sunlight comes from the Sun and reaches our atmosphere, it is made up of different colors, like red, orange, yellow, green, blue, and violet. These colors are like the different flavors of candy.\n",
      "\n",
      "The molecules in the sky are really good at scattering these colors of sunlight. But they are extra good at scattering the color blue. So, when sunlight hits the sky, the blue light gets scattered in all directions and fills the sky with blue color.\n",
      "\n",
      "That's why during the day, when the Sun is up high, we see the sky as blue. But in the evening, when the Sun is setting, the sky can turn into beautiful colors like orange and red because the sunlight has to pass through more of the Earth's atmosphere, and the blue light scatters away, leaving behind the other colors.\n"
     ]
    }
   ],
   "source": [
    "prompt = f\"\"\"\n",
    "You are a Physics teacher.\n",
    "Explain me as if I were 10 years old.\n",
    "Explain me why the sky is blue\n",
    "\"\"\"\n",
    "response = get_completion(prompt, temperature=0.5)\n",
    "print(response)"
   ]
  },
  {
   "cell_type": "code",
   "execution_count": 7,
   "metadata": {
    "colab": {
     "base_uri": "https://localhost:8080/"
    },
    "executionInfo": {
     "elapsed": 625,
     "status": "ok",
     "timestamp": 1711099993598,
     "user": {
      "displayName": "Renato Rocha Souza",
      "userId": "08757946413431057160"
     },
     "user_tz": -60
    },
    "id": "bnwasMrc4blO",
    "outputId": "7ca957bf-9d94-450b-8a3d-e477520a8451"
   },
   "outputs": [
    {
     "name": "stdout",
     "output_type": "stream",
     "text": [
      "The University of Vienna is the largest in Austria.\n"
     ]
    }
   ],
   "source": [
    "text = f\"\"\"\n",
    "Die Universität Wien (lateinisch Alma Mater Rudolphina Vindobonensis, kurz auch Rudolphina)\n",
    "ist mit rund 85.000 Studierenden und über 10.000 Angestellten die größte Hochschule in Österreich\n",
    "sowie im deutschsprachigen Raum und eine der größten in Europa. 1365 in Wien gegründet, ist\n",
    "sie die älteste Universität im heutigen deutschen Sprachraum und die drittälteste in Mitteleuropa\n",
    "nach der früher deutschsprachigen Karls-Universität in Prag und der Jagiellonen-Universität in Krakau.\n",
    "Mit Stand von Juli 2023 umfasste das Angebot 186 Studien.[2] Sie gilt als führende Universität in\n",
    "Österreich und genießt international hohes Ansehen.[3][4]\n",
    "\"\"\"\n",
    "prompt = f\"\"\"\n",
    "Summarize the text delimited by triple backticks \\\n",
    "into a single sentence with the maximum of 10 words.\n",
    "```{text}```\n",
    "\"\"\"\n",
    "response = get_completion(prompt)\n",
    "print(response)"
   ]
  },
  {
   "cell_type": "code",
   "execution_count": 8,
   "metadata": {
    "colab": {
     "base_uri": "https://localhost:8080/"
    },
    "executionInfo": {
     "elapsed": 758,
     "status": "ok",
     "timestamp": 1711100034738,
     "user": {
      "displayName": "Renato Rocha Souza",
      "userId": "08757946413431057160"
     },
     "user_tz": -60
    },
    "id": "niRuYbbI-50S",
    "outputId": "979939a0-79a6-4e39-97f4-113cc182f192"
   },
   "outputs": [
    {
     "name": "stdout",
     "output_type": "stream",
     "text": [
      "The human emotions present in the text are pride and happiness.\n"
     ]
    }
   ],
   "source": [
    "text = \"\"\"\n",
    "Pride and Prejudice is the second novel by English author Jane Austen, published in 1813.\n",
    "A novel of manners, it follows the character development of Elizabeth Bennet, the protagonist\n",
    "of the book, who learns about the repercussions of hasty judgments and comes to appreciate the\n",
    "difference between superficial goodness and actual goodness.\n",
    "\n",
    "Mr Bennet, owner of the Longbourn estate in Hertfordshire, has five daughters, but his property is\n",
    "entailed and can only be passed to a male heir. His wife also lacks an inheritance, so his family\n",
    "faces becoming poor upon his death. Thus, it is imperative that at least one of the daughters marry\n",
    "well to support the others, which is a motivation that drives the plot.\n",
    "\n",
    "Pride and Prejudice has consistently appeared near the top of lists of \"most-loved books\" among\n",
    "literary scholars and the reading public. It has become one of the most popular novels in English\n",
    "literature, with over 20 million copies sold, and has inspired many derivatives in modern literature.\n",
    "[1][2] For more than a century, dramatic adaptations, reprints, unofficial sequels, films, and TV\n",
    "versions of Pride and Prejudice have portrayed the memorable characters and themes of the novel,\n",
    "reaching mass audiences.[3]\n",
    "\"\"\"\n",
    "\n",
    "prompt = f\"\"\"\n",
    "Give me all the human emotions from the text below from the list: [anger, happiness, vengeance, pride]\n",
    "{text}\n",
    "\"\"\"\n",
    "\n",
    "response = get_completion(prompt)\n",
    "print(response)"
   ]
  },
  {
   "cell_type": "code",
   "execution_count": null,
   "metadata": {
    "id": "V3Ep2QlWgniL"
   },
   "outputs": [],
   "source": []
  }
 ],
 "metadata": {
  "colab": {
   "authorship_tag": "ABX9TyPVRnQJXDf4VbTxETf5CkWY",
   "provenance": []
  },
  "kernelspec": {
   "display_name": "Python 3 (ipykernel)",
   "language": "python",
   "name": "python3"
  },
  "language_info": {
   "codemirror_mode": {
    "name": "ipython",
    "version": 3
   },
   "file_extension": ".py",
   "mimetype": "text/x-python",
   "name": "python",
   "nbconvert_exporter": "python",
   "pygments_lexer": "ipython3",
   "version": "3.10.12"
  }
 },
 "nbformat": 4,
 "nbformat_minor": 4
}
